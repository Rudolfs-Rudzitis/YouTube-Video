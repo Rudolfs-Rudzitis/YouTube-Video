{
 "cells": [
  {
   "cell_type": "markdown",
   "metadata": {},
   "source": [
    "# Introduction"
   ]
  },
  {
   "cell_type": "markdown",
   "metadata": {},
   "source": [
    "*I will perform data cleansing, wrangling and analyzing on 3 datasets that contains data about YouTube Trending videos in 3 different parts of the world - USA, Canada and Great Britain.*"
   ]
  },
  {
   "cell_type": "markdown",
   "metadata": {},
   "source": [
    "### Tools Used"
   ]
  },
  {
   "cell_type": "markdown",
   "metadata": {},
   "source": [
    "*This analysis was performed using Python and a group of Python libraries including Pandas, Matplotlib, Numpy and more. The analysis were performed in a Jupyter Notebook.*"
   ]
  },
  {
   "cell_type": "markdown",
   "metadata": {},
   "source": [
    "### The Goal"
   ]
  },
  {
   "cell_type": "markdown",
   "metadata": {},
   "source": [
    "*The goal of the analysis is to find answers to various questions and patterns by exploring the data.*"
   ]
  },
  {
   "cell_type": "markdown",
   "metadata": {},
   "source": [
    "### Questions that the business team wants to be answered:"
   ]
  },
  {
   "cell_type": "code",
   "execution_count": 32,
   "metadata": {},
   "outputs": [],
   "source": [
    "# 1) Are there any clear differences between trending videos depending on the region?\n",
    "# 2) Which video remained the most on the trending videos list?\n",
    "# 3) Which video category has the largest number of trending videos? Does the category give\n",
    "# any advantage in order to become trending?\n",
    "# 4) How are views, likes and dislikes, title length, and other attributes correlated with (relate\n",
    "# to) each other? Are they connected in any way?\n",
    "# 5) If Nordigen would upload a video, what words in the title (or description) or tags would\n",
    "# you recommend to use? (In hopes to make the video trending)"
   ]
  },
  {
   "cell_type": "markdown",
   "metadata": {},
   "source": [
    "### Additional Questions that I am interested in:"
   ]
  },
  {
   "cell_type": "code",
   "execution_count": 204,
   "metadata": {},
   "outputs": [],
   "source": [
    "# 1) Which videos had the most & the least views & comments in each location (USA, Canada, GB)?\n",
    "# 2) "
   ]
  },
  {
   "cell_type": "markdown",
   "metadata": {},
   "source": [
    "#### Importing required Python libraries for analysis."
   ]
  },
  {
   "cell_type": "code",
   "execution_count": 201,
   "metadata": {},
   "outputs": [],
   "source": [
    "import pandas as pd\n",
    "import numpy as np\n",
    "import os\n",
    "from matplotlib import pyplot as plt\n",
    "import seaborn as sns"
   ]
  },
  {
   "cell_type": "markdown",
   "metadata": {},
   "source": [
    "##### Reading dataset \"US videos\" and getting familiar with it."
   ]
  },
  {
   "cell_type": "code",
   "execution_count": 12,
   "metadata": {
    "scrolled": true
   },
   "outputs": [
    {
     "data": {
      "text/html": [
       "<div>\n",
       "<style scoped>\n",
       "    .dataframe tbody tr th:only-of-type {\n",
       "        vertical-align: middle;\n",
       "    }\n",
       "\n",
       "    .dataframe tbody tr th {\n",
       "        vertical-align: top;\n",
       "    }\n",
       "\n",
       "    .dataframe thead th {\n",
       "        text-align: right;\n",
       "    }\n",
       "</style>\n",
       "<table border=\"1\" class=\"dataframe\">\n",
       "  <thead>\n",
       "    <tr style=\"text-align: right;\">\n",
       "      <th></th>\n",
       "      <th>video_id</th>\n",
       "      <th>trending_date</th>\n",
       "      <th>title</th>\n",
       "      <th>channel_title</th>\n",
       "      <th>publish_time</th>\n",
       "      <th>views</th>\n",
       "      <th>likes</th>\n",
       "      <th>dislikes</th>\n",
       "      <th>comment_count</th>\n",
       "      <th>thumbnail_link</th>\n",
       "      <th>comments_disabled</th>\n",
       "      <th>ratings_disabled</th>\n",
       "      <th>video_error_or_removed</th>\n",
       "      <th>description</th>\n",
       "      <th>country</th>\n",
       "      <th>tags</th>\n",
       "      <th>category_id</th>\n",
       "    </tr>\n",
       "  </thead>\n",
       "  <tbody>\n",
       "    <tr>\n",
       "      <th>0</th>\n",
       "      <td>2kyS6SvSYSE</td>\n",
       "      <td>17.14.11</td>\n",
       "      <td>WE WANT TO TALK ABOUT OUR MARRIAGE</td>\n",
       "      <td>CaseyNeistat</td>\n",
       "      <td>2017-11-13T17:13:01.000Z</td>\n",
       "      <td>748374.0</td>\n",
       "      <td>57527.0</td>\n",
       "      <td>2966.0</td>\n",
       "      <td>15954.0</td>\n",
       "      <td>https://i.ytimg.com/vi/2kyS6SvSYSE/default.jpg</td>\n",
       "      <td>False</td>\n",
       "      <td>False</td>\n",
       "      <td>False</td>\n",
       "      <td>SHANTELL'S CHANNEL - https://www.youtube.com/s...</td>\n",
       "      <td>US</td>\n",
       "      <td>,'shantell martin'</td>\n",
       "      <td>804.0</td>\n",
       "    </tr>\n",
       "    <tr>\n",
       "      <th>1</th>\n",
       "      <td>1ZAPwfrtAFY</td>\n",
       "      <td>17.14.11</td>\n",
       "      <td>The Trump Presidency: Last Week Tonight with J...</td>\n",
       "      <td>LastWeekTonight</td>\n",
       "      <td>2017-11-13T07:30:00.000Z</td>\n",
       "      <td>2418783.0</td>\n",
       "      <td>97185.0</td>\n",
       "      <td>6146.0</td>\n",
       "      <td>12703.0</td>\n",
       "      <td>https://i.ytimg.com/vi/1ZAPwfrtAFY/default.jpg</td>\n",
       "      <td>False</td>\n",
       "      <td>False</td>\n",
       "      <td>False</td>\n",
       "      <td>One year after the presidential election, John...</td>\n",
       "      <td>US</td>\n",
       "      <td>,'last week tonight trump presidency','last we...</td>\n",
       "      <td>806.0</td>\n",
       "    </tr>\n",
       "    <tr>\n",
       "      <th>2</th>\n",
       "      <td>5qpjK5DgCt4</td>\n",
       "      <td>17.14.11</td>\n",
       "      <td>Racist Superman | Rudy Mancuso, King Bach &amp; Le...</td>\n",
       "      <td>Rudy Mancuso</td>\n",
       "      <td>2017-11-12T19:05:24.000Z</td>\n",
       "      <td>3191434.0</td>\n",
       "      <td>146033.0</td>\n",
       "      <td>5339.0</td>\n",
       "      <td>8181.0</td>\n",
       "      <td>https://i.ytimg.com/vi/5qpjK5DgCt4/default.jpg</td>\n",
       "      <td>False</td>\n",
       "      <td>False</td>\n",
       "      <td>False</td>\n",
       "      <td>WATCH MY PREVIOUS VIDEO ▶ \\n\\nSUBSCRIBE ► http...</td>\n",
       "      <td>US</td>\n",
       "      <td>,'racist superman','rudy','mancuso','king','ba...</td>\n",
       "      <td>805.0</td>\n",
       "    </tr>\n",
       "    <tr>\n",
       "      <th>3</th>\n",
       "      <td>puqaWrEC7tY</td>\n",
       "      <td>17.14.11</td>\n",
       "      <td>Nickelback Lyrics: Real or Fake?</td>\n",
       "      <td>Good Mythical Morning</td>\n",
       "      <td>2017-11-13T11:00:04.000Z</td>\n",
       "      <td>343168.0</td>\n",
       "      <td>10172.0</td>\n",
       "      <td>666.0</td>\n",
       "      <td>2146.0</td>\n",
       "      <td>https://i.ytimg.com/vi/puqaWrEC7tY/default.jpg</td>\n",
       "      <td>False</td>\n",
       "      <td>False</td>\n",
       "      <td>False</td>\n",
       "      <td>Today we find out if Link is a Nickelback amat...</td>\n",
       "      <td>US</td>\n",
       "      <td>,'rhett and link','gmm','good mythical morning...</td>\n",
       "      <td>806.0</td>\n",
       "    </tr>\n",
       "    <tr>\n",
       "      <th>4</th>\n",
       "      <td>d380meD0W0M</td>\n",
       "      <td>17.14.11</td>\n",
       "      <td>I Dare You: GOING BALD!?</td>\n",
       "      <td>nigahiga</td>\n",
       "      <td>2017-11-12T18:01:41.000Z</td>\n",
       "      <td>2095731.0</td>\n",
       "      <td>132235.0</td>\n",
       "      <td>1989.0</td>\n",
       "      <td>17518.0</td>\n",
       "      <td>https://i.ytimg.com/vi/d380meD0W0M/default.jpg</td>\n",
       "      <td>False</td>\n",
       "      <td>False</td>\n",
       "      <td>False</td>\n",
       "      <td>I know it's been a while since we did this sho...</td>\n",
       "      <td>US</td>\n",
       "      <td>,'ryan','higa','higatv','nigahiga','i dare you...</td>\n",
       "      <td>806.0</td>\n",
       "    </tr>\n",
       "  </tbody>\n",
       "</table>\n",
       "</div>"
      ],
      "text/plain": [
       "      video_id trending_date  \\\n",
       "0  2kyS6SvSYSE      17.14.11   \n",
       "1  1ZAPwfrtAFY      17.14.11   \n",
       "2  5qpjK5DgCt4      17.14.11   \n",
       "3  puqaWrEC7tY      17.14.11   \n",
       "4  d380meD0W0M      17.14.11   \n",
       "\n",
       "                                               title          channel_title  \\\n",
       "0                 WE WANT TO TALK ABOUT OUR MARRIAGE           CaseyNeistat   \n",
       "1  The Trump Presidency: Last Week Tonight with J...        LastWeekTonight   \n",
       "2  Racist Superman | Rudy Mancuso, King Bach & Le...           Rudy Mancuso   \n",
       "3                   Nickelback Lyrics: Real or Fake?  Good Mythical Morning   \n",
       "4                           I Dare You: GOING BALD!?               nigahiga   \n",
       "\n",
       "               publish_time      views     likes  dislikes  comment_count  \\\n",
       "0  2017-11-13T17:13:01.000Z   748374.0   57527.0    2966.0        15954.0   \n",
       "1  2017-11-13T07:30:00.000Z  2418783.0   97185.0    6146.0        12703.0   \n",
       "2  2017-11-12T19:05:24.000Z  3191434.0  146033.0    5339.0         8181.0   \n",
       "3  2017-11-13T11:00:04.000Z   343168.0   10172.0     666.0         2146.0   \n",
       "4  2017-11-12T18:01:41.000Z  2095731.0  132235.0    1989.0        17518.0   \n",
       "\n",
       "                                   thumbnail_link comments_disabled  \\\n",
       "0  https://i.ytimg.com/vi/2kyS6SvSYSE/default.jpg             False   \n",
       "1  https://i.ytimg.com/vi/1ZAPwfrtAFY/default.jpg             False   \n",
       "2  https://i.ytimg.com/vi/5qpjK5DgCt4/default.jpg             False   \n",
       "3  https://i.ytimg.com/vi/puqaWrEC7tY/default.jpg             False   \n",
       "4  https://i.ytimg.com/vi/d380meD0W0M/default.jpg             False   \n",
       "\n",
       "  ratings_disabled video_error_or_removed  \\\n",
       "0            False                  False   \n",
       "1            False                  False   \n",
       "2            False                  False   \n",
       "3            False                  False   \n",
       "4            False                  False   \n",
       "\n",
       "                                         description country  \\\n",
       "0  SHANTELL'S CHANNEL - https://www.youtube.com/s...      US   \n",
       "1  One year after the presidential election, John...      US   \n",
       "2  WATCH MY PREVIOUS VIDEO ▶ \\n\\nSUBSCRIBE ► http...      US   \n",
       "3  Today we find out if Link is a Nickelback amat...      US   \n",
       "4  I know it's been a while since we did this sho...      US   \n",
       "\n",
       "                                                tags  category_id  \n",
       "0                                 ,'shantell martin'        804.0  \n",
       "1  ,'last week tonight trump presidency','last we...        806.0  \n",
       "2  ,'racist superman','rudy','mancuso','king','ba...        805.0  \n",
       "3  ,'rhett and link','gmm','good mythical morning...        806.0  \n",
       "4  ,'ryan','higa','higatv','nigahiga','i dare you...        806.0  "
      ]
     },
     "execution_count": 12,
     "metadata": {},
     "output_type": "execute_result"
    }
   ],
   "source": [
    "usa = pd.read_csv('USvideos.csv', sep=';')\n",
    "usa.head()"
   ]
  },
  {
   "cell_type": "markdown",
   "metadata": {},
   "source": [
    "*The next table shows the data for each video in a transparent manner:*"
   ]
  },
  {
   "cell_type": "code",
   "execution_count": 195,
   "metadata": {},
   "outputs": [
    {
     "data": {
      "text/html": [
       "<div>\n",
       "<style scoped>\n",
       "    .dataframe tbody tr th:only-of-type {\n",
       "        vertical-align: middle;\n",
       "    }\n",
       "\n",
       "    .dataframe tbody tr th {\n",
       "        vertical-align: top;\n",
       "    }\n",
       "\n",
       "    .dataframe thead th {\n",
       "        text-align: right;\n",
       "    }\n",
       "</style>\n",
       "<table border=\"1\" class=\"dataframe\">\n",
       "  <thead>\n",
       "    <tr style=\"text-align: right;\">\n",
       "      <th></th>\n",
       "      <th>0</th>\n",
       "    </tr>\n",
       "  </thead>\n",
       "  <tbody>\n",
       "    <tr>\n",
       "      <th>video_id</th>\n",
       "      <td>2kyS6SvSYSE</td>\n",
       "    </tr>\n",
       "    <tr>\n",
       "      <th>trending_date</th>\n",
       "      <td>17.14.11</td>\n",
       "    </tr>\n",
       "    <tr>\n",
       "      <th>title</th>\n",
       "      <td>WE WANT TO TALK ABOUT OUR MARRIAGE</td>\n",
       "    </tr>\n",
       "    <tr>\n",
       "      <th>channel_title</th>\n",
       "      <td>CaseyNeistat</td>\n",
       "    </tr>\n",
       "    <tr>\n",
       "      <th>publish_time</th>\n",
       "      <td>2017-11-13 17:13:01</td>\n",
       "    </tr>\n",
       "    <tr>\n",
       "      <th>views</th>\n",
       "      <td>748374</td>\n",
       "    </tr>\n",
       "    <tr>\n",
       "      <th>likes</th>\n",
       "      <td>57527</td>\n",
       "    </tr>\n",
       "    <tr>\n",
       "      <th>dislikes</th>\n",
       "      <td>2966</td>\n",
       "    </tr>\n",
       "    <tr>\n",
       "      <th>comment_count</th>\n",
       "      <td>15954</td>\n",
       "    </tr>\n",
       "    <tr>\n",
       "      <th>thumbnail_link</th>\n",
       "      <td>https://i.ytimg.com/vi/2kyS6SvSYSE/default.jpg</td>\n",
       "    </tr>\n",
       "    <tr>\n",
       "      <th>comments_disabled</th>\n",
       "      <td>False</td>\n",
       "    </tr>\n",
       "    <tr>\n",
       "      <th>ratings_disabled</th>\n",
       "      <td>False</td>\n",
       "    </tr>\n",
       "    <tr>\n",
       "      <th>video_error_or_removed</th>\n",
       "      <td>False</td>\n",
       "    </tr>\n",
       "    <tr>\n",
       "      <th>description</th>\n",
       "      <td>SHANTELL'S CHANNEL - https://www.youtube.com/s...</td>\n",
       "    </tr>\n",
       "    <tr>\n",
       "      <th>country</th>\n",
       "      <td>US</td>\n",
       "    </tr>\n",
       "    <tr>\n",
       "      <th>tags</th>\n",
       "      <td>,'shantell martin'</td>\n",
       "    </tr>\n",
       "    <tr>\n",
       "      <th>category_id</th>\n",
       "      <td>804</td>\n",
       "    </tr>\n",
       "  </tbody>\n",
       "</table>\n",
       "</div>"
      ],
      "text/plain": [
       "                                                                        0\n",
       "video_id                                                      2kyS6SvSYSE\n",
       "trending_date                                                    17.14.11\n",
       "title                                  WE WANT TO TALK ABOUT OUR MARRIAGE\n",
       "channel_title                                                CaseyNeistat\n",
       "publish_time                                          2017-11-13 17:13:01\n",
       "views                                                              748374\n",
       "likes                                                               57527\n",
       "dislikes                                                             2966\n",
       "comment_count                                                       15954\n",
       "thumbnail_link             https://i.ytimg.com/vi/2kyS6SvSYSE/default.jpg\n",
       "comments_disabled                                                   False\n",
       "ratings_disabled                                                    False\n",
       "video_error_or_removed                                              False\n",
       "description             SHANTELL'S CHANNEL - https://www.youtube.com/s...\n",
       "country                                                                US\n",
       "tags                                                   ,'shantell martin'\n",
       "category_id                                                           804"
      ]
     },
     "execution_count": 195,
     "metadata": {},
     "output_type": "execute_result"
    }
   ],
   "source": [
    "usa.head(1).transpose()"
   ]
  },
  {
   "cell_type": "markdown",
   "metadata": {},
   "source": [
    "##### Shape of our Dataset"
   ]
  },
  {
   "cell_type": "code",
   "execution_count": 200,
   "metadata": {},
   "outputs": [
    {
     "data": {
      "text/plain": [
       "(46978, 17)"
      ]
     },
     "execution_count": 200,
     "metadata": {},
     "output_type": "execute_result"
    }
   ],
   "source": [
    "usa.shape"
   ]
  },
  {
   "cell_type": "markdown",
   "metadata": {},
   "source": [
    "*Dataset consist of **46 978** rows and **17** columns.*"
   ]
  },
  {
   "cell_type": "markdown",
   "metadata": {},
   "source": [
    "##### The names of all columns in this dataset"
   ]
  },
  {
   "cell_type": "code",
   "execution_count": 14,
   "metadata": {},
   "outputs": [
    {
     "data": {
      "text/plain": [
       "Index(['video_id', 'trending_date', 'title', 'channel_title', 'publish_time',\n",
       "       'views', 'likes', 'dislikes', 'comment_count', 'thumbnail_link',\n",
       "       'comments_disabled', 'ratings_disabled', 'video_error_or_removed',\n",
       "       'description', 'country', 'tags', 'category_id'],\n",
       "      dtype='object')"
      ]
     },
     "execution_count": 14,
     "metadata": {},
     "output_type": "execute_result"
    }
   ],
   "source": [
    "usa.columns"
   ]
  },
  {
   "cell_type": "markdown",
   "metadata": {},
   "source": [
    "##### Code below shows the number of unique videos in the USA dataset"
   ]
  },
  {
   "cell_type": "code",
   "execution_count": 206,
   "metadata": {},
   "outputs": [],
   "source": [
    "unique_videos = usa['video_id'].unique().shape[0]"
   ]
  },
  {
   "cell_type": "code",
   "execution_count": 207,
   "metadata": {
    "scrolled": true
   },
   "outputs": [
    {
     "ename": "SyntaxError",
     "evalue": "invalid syntax (<ipython-input-207-289079f84309>, line 1)",
     "output_type": "error",
     "traceback": [
      "\u001b[1;36m  File \u001b[1;32m\"<ipython-input-207-289079f84309>\"\u001b[1;36m, line \u001b[1;32m1\u001b[0m\n\u001b[1;33m    unique_videos.(hist)\u001b[0m\n\u001b[1;37m                  ^\u001b[0m\n\u001b[1;31mSyntaxError\u001b[0m\u001b[1;31m:\u001b[0m invalid syntax\n"
     ]
    }
   ],
   "source": [
    "unique_videos.(hist)"
   ]
  },
  {
   "cell_type": "code",
   "execution_count": null,
   "metadata": {},
   "outputs": [],
   "source": []
  },
  {
   "cell_type": "code",
   "execution_count": null,
   "metadata": {},
   "outputs": [],
   "source": []
  },
  {
   "cell_type": "code",
   "execution_count": 27,
   "metadata": {},
   "outputs": [],
   "source": []
  },
  {
   "cell_type": "code",
   "execution_count": null,
   "metadata": {},
   "outputs": [],
   "source": []
  },
  {
   "cell_type": "code",
   "execution_count": null,
   "metadata": {},
   "outputs": [],
   "source": []
  },
  {
   "cell_type": "markdown",
   "metadata": {},
   "source": [
    "## data types of columns"
   ]
  },
  {
   "cell_type": "code",
   "execution_count": 121,
   "metadata": {},
   "outputs": [
    {
     "data": {
      "text/plain": [
       "video_id                   object\n",
       "trending_date              object\n",
       "title                      object\n",
       "channel_title              object\n",
       "publish_time               object\n",
       "views                     float64\n",
       "likes                     float64\n",
       "dislikes                  float64\n",
       "comment_count             float64\n",
       "thumbnail_link             object\n",
       "comments_disabled          object\n",
       "ratings_disabled           object\n",
       "video_error_or_removed     object\n",
       "description                object\n",
       "country                    object\n",
       "tags                       object\n",
       "category_id               float64\n",
       "dtype: object"
      ]
     },
     "execution_count": 121,
     "metadata": {},
     "output_type": "execute_result"
    }
   ],
   "source": [
    "usa.dtypes"
   ]
  },
  {
   "cell_type": "markdown",
   "metadata": {},
   "source": [
    "*Columns like 'views', 'likes', 'dislikes' and 'comment_count' only need INT data type, instead of FLOAT in order to save memory, which is important if working with huge datasets.*"
   ]
  },
  {
   "cell_type": "markdown",
   "metadata": {},
   "source": [
    "*That's why we can assing their data types appropriately*"
   ]
  },
  {
   "cell_type": "code",
   "execution_count": 136,
   "metadata": {},
   "outputs": [],
   "source": [
    "column_datatypes_to_change = ['views', 'likes', 'dislikes', 'comment_count']\n",
    "for column in column_datatypes_to_change:\n",
    "    usa[column] = usa[column].astype(int)"
   ]
  },
  {
   "cell_type": "code",
   "execution_count": 167,
   "metadata": {},
   "outputs": [
    {
     "data": {
      "text/plain": [
       "video_id                   object\n",
       "trending_date              object\n",
       "title                      object\n",
       "channel_title              object\n",
       "publish_time               object\n",
       "views                       int32\n",
       "likes                       int32\n",
       "dislikes                    int32\n",
       "comment_count               int32\n",
       "thumbnail_link             object\n",
       "comments_disabled          object\n",
       "ratings_disabled           object\n",
       "video_error_or_removed     object\n",
       "description                object\n",
       "country                    object\n",
       "tags                       object\n",
       "category_id               float64\n",
       "dtype: object"
      ]
     },
     "execution_count": 167,
     "metadata": {},
     "output_type": "execute_result"
    }
   ],
   "source": [
    "usa.dtypes"
   ]
  },
  {
   "cell_type": "markdown",
   "metadata": {},
   "source": [
    "*Changing data types for **'trending_date'** and **'publish_time'**, so we can make analysis with them*"
   ]
  },
  {
   "cell_type": "code",
   "execution_count": 174,
   "metadata": {},
   "outputs": [],
   "source": [
    "#usa['trending_date'] = pd.to_datetime(usa['trending_date'], format='%y.%d.%m')"
   ]
  },
  {
   "cell_type": "code",
   "execution_count": 169,
   "metadata": {},
   "outputs": [],
   "source": [
    "usa['publish_time'] = pd.to_datetime(usa['publish_time'], format='%Y-%m-%dT%H:%M:%S.%fZ')"
   ]
  },
  {
   "cell_type": "code",
   "execution_count": 175,
   "metadata": {},
   "outputs": [
    {
     "data": {
      "text/plain": [
       "video_id                          object\n",
       "trending_date                     object\n",
       "title                             object\n",
       "channel_title                     object\n",
       "publish_time              datetime64[ns]\n",
       "views                              int32\n",
       "likes                              int32\n",
       "dislikes                           int32\n",
       "comment_count                      int32\n",
       "thumbnail_link                    object\n",
       "comments_disabled                 object\n",
       "ratings_disabled                  object\n",
       "video_error_or_removed            object\n",
       "description                       object\n",
       "country                           object\n",
       "tags                              object\n",
       "category_id                      float64\n",
       "dtype: object"
      ]
     },
     "execution_count": 175,
     "metadata": {},
     "output_type": "execute_result"
    }
   ],
   "source": [
    "usa.dtypes"
   ]
  },
  {
   "cell_type": "code",
   "execution_count": null,
   "metadata": {},
   "outputs": [],
   "source": []
  },
  {
   "cell_type": "code",
   "execution_count": null,
   "metadata": {},
   "outputs": [],
   "source": []
  },
  {
   "cell_type": "markdown",
   "metadata": {},
   "source": [
    "## Missing data"
   ]
  },
  {
   "cell_type": "markdown",
   "metadata": {},
   "source": [
    "*First of all, I want to know how much missing date (Null values) is in each of the columns.*"
   ]
  },
  {
   "cell_type": "code",
   "execution_count": 34,
   "metadata": {},
   "outputs": [
    {
     "name": "stdout",
     "output_type": "stream",
     "text": [
      "Column 'video_id' null rate: 0.0&\n",
      "Column 'trending_date' null rate: 10.48&\n",
      "Column 'title' null rate: 10.48&\n",
      "Column 'channel_title' null rate: 10.85&\n",
      "Column 'publish_time' null rate: 12.93&\n",
      "Column 'views' null rate: 12.93&\n",
      "Column 'likes' null rate: 12.93&\n",
      "Column 'dislikes' null rate: 12.93&\n",
      "Column 'comment_count' null rate: 12.93&\n",
      "Column 'thumbnail_link' null rate: 12.93&\n",
      "Column 'comments_disabled' null rate: 12.93&\n",
      "Column 'ratings_disabled' null rate: 12.93&\n",
      "Column 'video_error_or_removed' null rate: 12.93&\n",
      "Column 'description' null rate: 14.15&\n",
      "Column 'country' null rate: 15.39&\n",
      "Column 'tags' null rate: 15.39&\n",
      "Column 'category_id' null rate: 19.36&\n"
     ]
    }
   ],
   "source": [
    "for i in usa.columns:\n",
    "    null_rate = usa[i].isna().sum()/len(usa)*100\n",
    "    if null_rate >= 0:\n",
    "        print(\"Column '{}' null rate: {}&\".format(i,round(null_rate,2)))"
   ]
  },
  {
   "cell_type": "markdown",
   "metadata": {},
   "source": [
    "*Column 'category_id' has the most missing values - almost the **fifth part** is missing."
   ]
  },
  {
   "cell_type": "code",
   "execution_count": 123,
   "metadata": {},
   "outputs": [
    {
     "data": {
      "text/plain": [
       "video_id                     0\n",
       "trending_date             4923\n",
       "title                     4923\n",
       "channel_title             5097\n",
       "publish_time              6076\n",
       "views                     6076\n",
       "likes                     6076\n",
       "dislikes                  6076\n",
       "comment_count             6076\n",
       "thumbnail_link            6076\n",
       "comments_disabled         6076\n",
       "ratings_disabled          6076\n",
       "video_error_or_removed    6076\n",
       "description               6646\n",
       "country                   7229\n",
       "tags                      7229\n",
       "category_id               9095\n",
       "dtype: int64"
      ]
     },
     "execution_count": 123,
     "metadata": {},
     "output_type": "execute_result"
    }
   ],
   "source": [
    "usa.isnull().sum()"
   ]
  },
  {
   "cell_type": "markdown",
   "metadata": {},
   "source": [
    "*We can see that all columns (except **'video_id'**) contains couple thousands of NULL values. There are no 1 right way to deal with them. In order to make the best desicion it's important to understand well the dataset we are working with.*"
   ]
  },
  {
   "cell_type": "markdown",
   "metadata": {},
   "source": [
    "*Since I want to do analysis on columns **Views**, **Likes,** **Dislikes** and **Comment_count**, we have to get rid of missing values in these columns. We could replace missing values with average values in each column, but this time I think we can replace NaN values with 0 as well."
   ]
  },
  {
   "cell_type": "code",
   "execution_count": 130,
   "metadata": {},
   "outputs": [],
   "source": [
    "usa['views'] = usa['views'].fillna(0)"
   ]
  },
  {
   "cell_type": "code",
   "execution_count": 132,
   "metadata": {},
   "outputs": [],
   "source": [
    "usa['likes'] = usa['likes'].fillna(0)"
   ]
  },
  {
   "cell_type": "code",
   "execution_count": 133,
   "metadata": {},
   "outputs": [],
   "source": [
    "usa['dislikes'] = usa['dislikes'].fillna(0)"
   ]
  },
  {
   "cell_type": "code",
   "execution_count": 134,
   "metadata": {},
   "outputs": [],
   "source": [
    "usa['comment_count'] = usa['comment_count'].fillna(0)"
   ]
  },
  {
   "cell_type": "code",
   "execution_count": 135,
   "metadata": {},
   "outputs": [
    {
     "data": {
      "text/plain": [
       "video_id                     0\n",
       "trending_date             4923\n",
       "title                     4923\n",
       "channel_title             5097\n",
       "publish_time              6076\n",
       "views                        0\n",
       "likes                        0\n",
       "dislikes                     0\n",
       "comment_count                0\n",
       "thumbnail_link            6076\n",
       "comments_disabled         6076\n",
       "ratings_disabled          6076\n",
       "video_error_or_removed    6076\n",
       "description               6646\n",
       "country                   7229\n",
       "tags                      7229\n",
       "category_id               9095\n",
       "dtype: int64"
      ]
     },
     "execution_count": 135,
     "metadata": {},
     "output_type": "execute_result"
    }
   ],
   "source": [
    "usa.isnull().sum()"
   ]
  },
  {
   "cell_type": "code",
   "execution_count": null,
   "metadata": {},
   "outputs": [],
   "source": []
  },
  {
   "cell_type": "code",
   "execution_count": null,
   "metadata": {},
   "outputs": [],
   "source": []
  },
  {
   "cell_type": "markdown",
   "metadata": {},
   "source": [
    "## Reading Categories file"
   ]
  },
  {
   "cell_type": "code",
   "execution_count": 36,
   "metadata": {},
   "outputs": [
    {
     "data": {
      "text/html": [
       "<div>\n",
       "<style scoped>\n",
       "    .dataframe tbody tr th:only-of-type {\n",
       "        vertical-align: middle;\n",
       "    }\n",
       "\n",
       "    .dataframe tbody tr th {\n",
       "        vertical-align: top;\n",
       "    }\n",
       "\n",
       "    .dataframe thead th {\n",
       "        text-align: right;\n",
       "    }\n",
       "</style>\n",
       "<table border=\"1\" class=\"dataframe\">\n",
       "  <thead>\n",
       "    <tr style=\"text-align: right;\">\n",
       "      <th></th>\n",
       "      <th>category_id</th>\n",
       "      <th>category_id_lvl_0</th>\n",
       "      <th>category_id_lvl_1</th>\n",
       "      <th>category_id_lvl_2</th>\n",
       "      <th>category_title_lvl_0</th>\n",
       "      <th>category_title_lvl_1</th>\n",
       "      <th>category_title_lvl_2</th>\n",
       "    </tr>\n",
       "  </thead>\n",
       "  <tbody>\n",
       "    <tr>\n",
       "      <th>0</th>\n",
       "      <td>101</td>\n",
       "      <td>100</td>\n",
       "      <td>101.0</td>\n",
       "      <td>NaN</td>\n",
       "      <td>Politics &amp; Nonprofits</td>\n",
       "      <td>Nonprofits &amp; Activism</td>\n",
       "      <td>NaN</td>\n",
       "    </tr>\n",
       "    <tr>\n",
       "      <th>1</th>\n",
       "      <td>102</td>\n",
       "      <td>100</td>\n",
       "      <td>102.0</td>\n",
       "      <td>NaN</td>\n",
       "      <td>Politics &amp; Nonprofits</td>\n",
       "      <td>News &amp; Politics</td>\n",
       "      <td>NaN</td>\n",
       "    </tr>\n",
       "    <tr>\n",
       "      <th>2</th>\n",
       "      <td>201</td>\n",
       "      <td>200</td>\n",
       "      <td>201.0</td>\n",
       "      <td>NaN</td>\n",
       "      <td>Cinema</td>\n",
       "      <td>Film &amp; Animation</td>\n",
       "      <td>NaN</td>\n",
       "    </tr>\n",
       "    <tr>\n",
       "      <th>3</th>\n",
       "      <td>202</td>\n",
       "      <td>200</td>\n",
       "      <td>202.0</td>\n",
       "      <td>NaN</td>\n",
       "      <td>Cinema</td>\n",
       "      <td>Trailers</td>\n",
       "      <td>NaN</td>\n",
       "    </tr>\n",
       "    <tr>\n",
       "      <th>4</th>\n",
       "      <td>203</td>\n",
       "      <td>200</td>\n",
       "      <td>203.0</td>\n",
       "      <td>NaN</td>\n",
       "      <td>Cinema</td>\n",
       "      <td>Full Movies</td>\n",
       "      <td>NaN</td>\n",
       "    </tr>\n",
       "  </tbody>\n",
       "</table>\n",
       "</div>"
      ],
      "text/plain": [
       "   category_id  category_id_lvl_0  category_id_lvl_1  category_id_lvl_2  \\\n",
       "0          101                100              101.0                NaN   \n",
       "1          102                100              102.0                NaN   \n",
       "2          201                200              201.0                NaN   \n",
       "3          202                200              202.0                NaN   \n",
       "4          203                200              203.0                NaN   \n",
       "\n",
       "    category_title_lvl_0   category_title_lvl_1 category_title_lvl_2  \n",
       "0  Politics & Nonprofits  Nonprofits & Activism                  NaN  \n",
       "1  Politics & Nonprofits        News & Politics                  NaN  \n",
       "2                 Cinema       Film & Animation                  NaN  \n",
       "3                 Cinema               Trailers                  NaN  \n",
       "4                 Cinema            Full Movies                  NaN  "
      ]
     },
     "execution_count": 36,
     "metadata": {},
     "output_type": "execute_result"
    }
   ],
   "source": [
    "categories = pd.read_csv('categories.csv', sep=';')\n",
    "categories.head()"
   ]
  },
  {
   "cell_type": "markdown",
   "metadata": {},
   "source": [
    "##### Top Categories of Trending Videos in USA"
   ]
  },
  {
   "cell_type": "code",
   "execution_count": 212,
   "metadata": {},
   "outputs": [
    {
     "data": {
      "text/plain": [
       "806.0    9454\n",
       "600.0    6454\n",
       "805.0    3451\n",
       "804.0    3166\n",
       "102.0    2448\n",
       "301.0    2349\n",
       "802.0    2005\n",
       "201.0    1918\n",
       "302.0    1634\n",
       "700.0     899\n",
       "803.0     805\n",
       "402.0     783\n",
       "202.0     420\n",
       "801.0     383\n",
       "403.0     137\n",
       "405.0      91\n",
       "406.0      74\n",
       "501.0      67\n",
       "413.0      62\n",
       "204.0      57\n",
       "505.0      52\n",
       "101.0      51\n",
       "409.0      49\n",
       "422.0      46\n",
       "502.0      43\n",
       "411.0      38\n",
       "423.0      38\n",
       "425.0      35\n",
       "408.0      35\n",
       "417.0      30\n",
       "Name: category_id, dtype: int64"
      ]
     },
     "execution_count": 212,
     "metadata": {},
     "output_type": "execute_result"
    }
   ],
   "source": [
    "usa['category_id'].value_counts().head(30)"
   ]
  },
  {
   "cell_type": "code",
   "execution_count": null,
   "metadata": {},
   "outputs": [],
   "source": [
    "usa[''].value_counts().plot(kind='bar')"
   ]
  },
  {
   "cell_type": "code",
   "execution_count": 109,
   "metadata": {},
   "outputs": [
    {
     "data": {
      "image/png": "[encoded data removed]",
      "text/plain": [
       "<Figure size 432x288 with 1 Axes>"
      ]
     },
     "metadata": {},
     "output_type": "display_data"
    }
   ],
   "source": [
    "# Based on data in categories.csv we can found out the distribution of videos by Categories\n",
    "\n",
    "politics = usa.loc[(usa.category_id >= 100) & (usa.category_id <= 102)].count()[0]\n",
    "cinema = usa.loc[(usa.category_id >= 200) & (usa.category_id <= 204)].count()[0]\n",
    "education = usa.loc[(usa.category_id >= 300) & (usa.category_id <= 302)].count()[0]\n",
    "diy_and_beauty = usa.loc[(usa.category_id >= 400) & (usa.category_id <= 497)].count()[0]\n",
    "travel_and_events = usa.loc[(usa.category_id >= 500) & (usa.category_id <= 551)].count()[0]\n",
    "music = usa.loc[(usa.category_id >= 600) & (usa.category_id <= 600)].count()[0]\n",
    "animals = usa.loc[(usa.category_id >= 700) & (usa.category_id <= 700)].count()[0]\n",
    "entertainment = usa.loc[(usa.category_id >= 800) & (usa.category_id <= 806)].count()[0]\n",
    "\n",
    "categories = [politics, cinema, education, diy_and_beauty, travel_and_events, music, animals, entertainment]\n",
    "explode = [0,.4,0,.25,.25,0,.5,0]\n",
    "colors = ['magenta', 'cyan', 'pink', 'salmon', 'khaki', 'lightblue', 'lightgreen', 'orange']\n",
    "labels = ['Politics', 'Cinema', 'Education', 'DIY&Beauty', 'Travel&Events', 'Music', 'Animals', 'Entertainment']\n",
    "\n",
    "#plt.title('Distribution of videos by Categories!')\n",
    "\n",
    "plt.pie(categories, labels=labels, radius=3, colors=colors, autopct='%.2f %%', pctdistance=0.8, explode=explode)\n",
    "plt.show()"
   ]
  },
  {
   "cell_type": "markdown",
   "metadata": {},
   "source": [
    "## Views of the videos"
   ]
  },
  {
   "cell_type": "markdown",
   "metadata": {},
   "source": [
    "#### A trending video with the fewest views (excluding those with 0 views)"
   ]
  },
  {
   "cell_type": "code",
   "execution_count": 116,
   "metadata": {},
   "outputs": [
    {
     "data": {
      "text/html": [
       "<div>\n",
       "<style scoped>\n",
       "    .dataframe tbody tr th:only-of-type {\n",
       "        vertical-align: middle;\n",
       "    }\n",
       "\n",
       "    .dataframe tbody tr th {\n",
       "        vertical-align: top;\n",
       "    }\n",
       "\n",
       "    .dataframe thead th {\n",
       "        text-align: right;\n",
       "    }\n",
       "</style>\n",
       "<table border=\"1\" class=\"dataframe\">\n",
       "  <thead>\n",
       "    <tr style=\"text-align: right;\">\n",
       "      <th></th>\n",
       "      <th>16285</th>\n",
       "    </tr>\n",
       "  </thead>\n",
       "  <tbody>\n",
       "    <tr>\n",
       "      <th>video_id</th>\n",
       "      <td>y6KYFcta4SE</td>\n",
       "    </tr>\n",
       "    <tr>\n",
       "      <th>trending_date</th>\n",
       "      <td>18.26.01</td>\n",
       "    </tr>\n",
       "    <tr>\n",
       "      <th>title</th>\n",
       "      <td>1 dead, others injured after Ky. school shooting</td>\n",
       "    </tr>\n",
       "    <tr>\n",
       "      <th>channel_title</th>\n",
       "      <td>Newsy</td>\n",
       "    </tr>\n",
       "    <tr>\n",
       "      <th>publish_time</th>\n",
       "      <td>2018-01-23T15:30:01.000Z</td>\n",
       "    </tr>\n",
       "    <tr>\n",
       "      <th>views</th>\n",
       "      <td>549</td>\n",
       "    </tr>\n",
       "    <tr>\n",
       "      <th>likes</th>\n",
       "      <td>9</td>\n",
       "    </tr>\n",
       "    <tr>\n",
       "      <th>dislikes</th>\n",
       "      <td>0</td>\n",
       "    </tr>\n",
       "    <tr>\n",
       "      <th>comment_count</th>\n",
       "      <td>5</td>\n",
       "    </tr>\n",
       "    <tr>\n",
       "      <th>thumbnail_link</th>\n",
       "      <td>https://i.ytimg.com/vi/y6KYFcta4SE/default.jpg</td>\n",
       "    </tr>\n",
       "    <tr>\n",
       "      <th>comments_disabled</th>\n",
       "      <td>False</td>\n",
       "    </tr>\n",
       "    <tr>\n",
       "      <th>ratings_disabled</th>\n",
       "      <td>False</td>\n",
       "    </tr>\n",
       "    <tr>\n",
       "      <th>video_error_or_removed</th>\n",
       "      <td>False</td>\n",
       "    </tr>\n",
       "    <tr>\n",
       "      <th>description</th>\n",
       "      <td>Kentucky Gov. Matt Bevin confirmed there was a...</td>\n",
       "    </tr>\n",
       "    <tr>\n",
       "      <th>country</th>\n",
       "      <td>US</td>\n",
       "    </tr>\n",
       "    <tr>\n",
       "      <th>tags</th>\n",
       "      <td>,'shooting','kentucky','breaking news','u.s. n...</td>\n",
       "    </tr>\n",
       "    <tr>\n",
       "      <th>category_id</th>\n",
       "      <td>102</td>\n",
       "    </tr>\n",
       "  </tbody>\n",
       "</table>\n",
       "</div>"
      ],
      "text/plain": [
       "                                                                    16285\n",
       "video_id                                                      y6KYFcta4SE\n",
       "trending_date                                                    18.26.01\n",
       "title                    1 dead, others injured after Ky. school shooting\n",
       "channel_title                                                       Newsy\n",
       "publish_time                                     2018-01-23T15:30:01.000Z\n",
       "views                                                                 549\n",
       "likes                                                                   9\n",
       "dislikes                                                                0\n",
       "comment_count                                                           5\n",
       "thumbnail_link             https://i.ytimg.com/vi/y6KYFcta4SE/default.jpg\n",
       "comments_disabled                                                   False\n",
       "ratings_disabled                                                    False\n",
       "video_error_or_removed                                              False\n",
       "description             Kentucky Gov. Matt Bevin confirmed there was a...\n",
       "country                                                                US\n",
       "tags                    ,'shooting','kentucky','breaking news','u.s. n...\n",
       "category_id                                                           102"
      ]
     },
     "execution_count": 116,
     "metadata": {},
     "output_type": "execute_result"
    }
   ],
   "source": [
    "usa[usa['views'] == usa['views'].min()].transpose()"
   ]
  },
  {
   "cell_type": "code",
   "execution_count": 117,
   "metadata": {},
   "outputs": [],
   "source": [
    "# Video with the least views was a video called \"1 dead, others injured after Ky. school shooting\"\n",
    "# with only 549 views."
   ]
  },
  {
   "cell_type": "markdown",
   "metadata": {},
   "source": [
    "*TOP 5 trending videos with the **LEAST** Views - excluding those with 0 views*"
   ]
  },
  {
   "cell_type": "code",
   "execution_count": 244,
   "metadata": {},
   "outputs": [
    {
     "data": {
      "text/html": [
       "<div>\n",
       "<style scoped>\n",
       "    .dataframe tbody tr th:only-of-type {\n",
       "        vertical-align: middle;\n",
       "    }\n",
       "\n",
       "    .dataframe tbody tr th {\n",
       "        vertical-align: top;\n",
       "    }\n",
       "\n",
       "    .dataframe thead th {\n",
       "        text-align: right;\n",
       "    }\n",
       "</style>\n",
       "<table border=\"1\" class=\"dataframe\">\n",
       "  <thead>\n",
       "    <tr style=\"text-align: right;\">\n",
       "      <th></th>\n",
       "      <th>video_id</th>\n",
       "      <th>trending_date</th>\n",
       "      <th>title</th>\n",
       "      <th>channel_title</th>\n",
       "      <th>publish_time</th>\n",
       "      <th>views</th>\n",
       "      <th>likes</th>\n",
       "      <th>dislikes</th>\n",
       "      <th>comment_count</th>\n",
       "      <th>thumbnail_link</th>\n",
       "      <th>comments_disabled</th>\n",
       "      <th>ratings_disabled</th>\n",
       "      <th>video_error_or_removed</th>\n",
       "      <th>description</th>\n",
       "      <th>country</th>\n",
       "      <th>tags</th>\n",
       "      <th>category_id</th>\n",
       "    </tr>\n",
       "  </thead>\n",
       "  <tbody>\n",
       "    <tr>\n",
       "      <th>16285</th>\n",
       "      <td>y6KYFcta4SE</td>\n",
       "      <td>18.26.01</td>\n",
       "      <td>1 dead, others injured after Ky. school shooting</td>\n",
       "      <td>Newsy</td>\n",
       "      <td>2018-01-23 15:30:01</td>\n",
       "      <td>549</td>\n",
       "      <td>9</td>\n",
       "      <td>0</td>\n",
       "      <td>5</td>\n",
       "      <td>https://i.ytimg.com/vi/y6KYFcta4SE/default.jpg</td>\n",
       "      <td>False</td>\n",
       "      <td>False</td>\n",
       "      <td>False</td>\n",
       "      <td>Kentucky Gov. Matt Bevin confirmed there was a...</td>\n",
       "      <td>US</td>\n",
       "      <td>,'shooting','kentucky','breaking news','u.s. n...</td>\n",
       "      <td>102.0</td>\n",
       "    </tr>\n",
       "    <tr>\n",
       "      <th>16499</th>\n",
       "      <td>dQMZLXaa1L8</td>\n",
       "      <td>18.27.01</td>\n",
       "      <td>Artwork Forge</td>\n",
       "      <td>Palo Alto Online</td>\n",
       "      <td>2018-01-10 23:53:56</td>\n",
       "      <td>658</td>\n",
       "      <td>1</td>\n",
       "      <td>0</td>\n",
       "      <td>0</td>\n",
       "      <td>https://i.ytimg.com/vi/dQMZLXaa1L8/default.jpg</td>\n",
       "      <td>False</td>\n",
       "      <td>False</td>\n",
       "      <td>False</td>\n",
       "      <td>Artwork Forge II - an art installation created...</td>\n",
       "      <td>US</td>\n",
       "      <td>,'[none]'</td>\n",
       "      <td>802.0</td>\n",
       "    </tr>\n",
       "    <tr>\n",
       "      <th>687</th>\n",
       "      <td>-JVITToppE0</td>\n",
       "      <td>17.16.11</td>\n",
       "      <td>Coach Taggart Monday Presser Ahead of Arizona</td>\n",
       "      <td>GoDucksdotcom</td>\n",
       "      <td>2017-11-13 20:41:45</td>\n",
       "      <td>687</td>\n",
       "      <td>10</td>\n",
       "      <td>2</td>\n",
       "      <td>5</td>\n",
       "      <td>https://i.ytimg.com/vi/-JVITToppE0/default.jpg</td>\n",
       "      <td>False</td>\n",
       "      <td>False</td>\n",
       "      <td>False</td>\n",
       "      <td>Coach Taggart addresses the media ahead of the...</td>\n",
       "      <td>US</td>\n",
       "      <td>,'oregon','ducks','college athletics','college...</td>\n",
       "      <td>802.0</td>\n",
       "    </tr>\n",
       "    <tr>\n",
       "      <th>14504</th>\n",
       "      <td>zeQaJGkFyqQ</td>\n",
       "      <td>18.18.01</td>\n",
       "      <td>Raw: 3 South Carolina Deputies, 1 Officer Shot</td>\n",
       "      <td>Associated Press</td>\n",
       "      <td>2018-01-16 12:16:44</td>\n",
       "      <td>748</td>\n",
       "      <td>9</td>\n",
       "      <td>0</td>\n",
       "      <td>0</td>\n",
       "      <td>https://i.ytimg.com/vi/zeQaJGkFyqQ/default.jpg</td>\n",
       "      <td>True</td>\n",
       "      <td>False</td>\n",
       "      <td>False</td>\n",
       "      <td>Three deputies and one police officer were sho...</td>\n",
       "      <td>NaN</td>\n",
       "      <td>NaN</td>\n",
       "      <td>NaN</td>\n",
       "    </tr>\n",
       "    <tr>\n",
       "      <th>179</th>\n",
       "      <td>qg0GdM60syI</td>\n",
       "      <td>17.14.11</td>\n",
       "      <td>Huffy Metaloid Bicycle Commercial 1997</td>\n",
       "      <td>90s Commercials</td>\n",
       "      <td>2017-03-31 21:46:53</td>\n",
       "      <td>773</td>\n",
       "      <td>2</td>\n",
       "      <td>0</td>\n",
       "      <td>0</td>\n",
       "      <td>https://i.ytimg.com/vi/qg0GdM60syI/default.jpg</td>\n",
       "      <td>False</td>\n",
       "      <td>False</td>\n",
       "      <td>False</td>\n",
       "      <td>Anyone have one of those?</td>\n",
       "      <td>US</td>\n",
       "      <td>,'90s commercials','huffy'</td>\n",
       "      <td>302.0</td>\n",
       "    </tr>\n",
       "  </tbody>\n",
       "</table>\n",
       "</div>"
      ],
      "text/plain": [
       "          video_id trending_date  \\\n",
       "16285  y6KYFcta4SE      18.26.01   \n",
       "16499  dQMZLXaa1L8      18.27.01   \n",
       "687    -JVITToppE0      17.16.11   \n",
       "14504  zeQaJGkFyqQ      18.18.01   \n",
       "179    qg0GdM60syI      17.14.11   \n",
       "\n",
       "                                                  title     channel_title  \\\n",
       "16285  1 dead, others injured after Ky. school shooting             Newsy   \n",
       "16499                                     Artwork Forge  Palo Alto Online   \n",
       "687       Coach Taggart Monday Presser Ahead of Arizona     GoDucksdotcom   \n",
       "14504    Raw: 3 South Carolina Deputies, 1 Officer Shot  Associated Press   \n",
       "179              Huffy Metaloid Bicycle Commercial 1997   90s Commercials   \n",
       "\n",
       "             publish_time  views  likes  dislikes  comment_count  \\\n",
       "16285 2018-01-23 15:30:01    549      9         0              5   \n",
       "16499 2018-01-10 23:53:56    658      1         0              0   \n",
       "687   2017-11-13 20:41:45    687     10         2              5   \n",
       "14504 2018-01-16 12:16:44    748      9         0              0   \n",
       "179   2017-03-31 21:46:53    773      2         0              0   \n",
       "\n",
       "                                       thumbnail_link comments_disabled  \\\n",
       "16285  https://i.ytimg.com/vi/y6KYFcta4SE/default.jpg             False   \n",
       "16499  https://i.ytimg.com/vi/dQMZLXaa1L8/default.jpg             False   \n",
       "687    https://i.ytimg.com/vi/-JVITToppE0/default.jpg             False   \n",
       "14504  https://i.ytimg.com/vi/zeQaJGkFyqQ/default.jpg              True   \n",
       "179    https://i.ytimg.com/vi/qg0GdM60syI/default.jpg             False   \n",
       "\n",
       "      ratings_disabled video_error_or_removed  \\\n",
       "16285            False                  False   \n",
       "16499            False                  False   \n",
       "687              False                  False   \n",
       "14504            False                  False   \n",
       "179              False                  False   \n",
       "\n",
       "                                             description country  \\\n",
       "16285  Kentucky Gov. Matt Bevin confirmed there was a...      US   \n",
       "16499  Artwork Forge II - an art installation created...      US   \n",
       "687    Coach Taggart addresses the media ahead of the...      US   \n",
       "14504  Three deputies and one police officer were sho...     NaN   \n",
       "179                            Anyone have one of those?      US   \n",
       "\n",
       "                                                    tags  category_id  \n",
       "16285  ,'shooting','kentucky','breaking news','u.s. n...        102.0  \n",
       "16499                                          ,'[none]'        802.0  \n",
       "687    ,'oregon','ducks','college athletics','college...        802.0  \n",
       "14504                                                NaN          NaN  \n",
       "179                           ,'90s commercials','huffy'        302.0  "
      ]
     },
     "execution_count": 244,
     "metadata": {},
     "output_type": "execute_result"
    }
   ],
   "source": [
    "unique_videos_usa_least_views = (usa[usa['views'] > 0].sort_values(by='views', ascending=True)).drop_duplicates(subset=['video_id']).head(5)\n",
    "unique_videos_usa_least_views"
   ]
  },
  {
   "cell_type": "markdown",
   "metadata": {},
   "source": [
    "#### A trending video with the maximum number of views"
   ]
  },
  {
   "cell_type": "code",
   "execution_count": 118,
   "metadata": {},
   "outputs": [
    {
     "data": {
      "text/html": [
       "<div>\n",
       "<style scoped>\n",
       "    .dataframe tbody tr th:only-of-type {\n",
       "        vertical-align: middle;\n",
       "    }\n",
       "\n",
       "    .dataframe tbody tr th {\n",
       "        vertical-align: top;\n",
       "    }\n",
       "\n",
       "    .dataframe thead th {\n",
       "        text-align: right;\n",
       "    }\n",
       "</style>\n",
       "<table border=\"1\" class=\"dataframe\">\n",
       "  <thead>\n",
       "    <tr style=\"text-align: right;\">\n",
       "      <th></th>\n",
       "      <th>44424</th>\n",
       "    </tr>\n",
       "  </thead>\n",
       "  <tbody>\n",
       "    <tr>\n",
       "      <th>video_id</th>\n",
       "      <td>VYOjWnS4cMY</td>\n",
       "    </tr>\n",
       "    <tr>\n",
       "      <th>trending_date</th>\n",
       "      <td>18.02.06</td>\n",
       "    </tr>\n",
       "    <tr>\n",
       "      <th>title</th>\n",
       "      <td>Childish Gambino - This Is America (Official V...</td>\n",
       "    </tr>\n",
       "    <tr>\n",
       "      <th>channel_title</th>\n",
       "      <td>ChildishGambinoVEVO</td>\n",
       "    </tr>\n",
       "    <tr>\n",
       "      <th>publish_time</th>\n",
       "      <td>2018-05-06T04:00:07.000Z</td>\n",
       "    </tr>\n",
       "    <tr>\n",
       "      <th>views</th>\n",
       "      <td>2.25212e+08</td>\n",
       "    </tr>\n",
       "    <tr>\n",
       "      <th>likes</th>\n",
       "      <td>5.02345e+06</td>\n",
       "    </tr>\n",
       "    <tr>\n",
       "      <th>dislikes</th>\n",
       "      <td>343541</td>\n",
       "    </tr>\n",
       "    <tr>\n",
       "      <th>comment_count</th>\n",
       "      <td>517232</td>\n",
       "    </tr>\n",
       "    <tr>\n",
       "      <th>thumbnail_link</th>\n",
       "      <td>https://i.ytimg.com/vi/VYOjWnS4cMY/default.jpg</td>\n",
       "    </tr>\n",
       "    <tr>\n",
       "      <th>comments_disabled</th>\n",
       "      <td>False</td>\n",
       "    </tr>\n",
       "    <tr>\n",
       "      <th>ratings_disabled</th>\n",
       "      <td>False</td>\n",
       "    </tr>\n",
       "    <tr>\n",
       "      <th>video_error_or_removed</th>\n",
       "      <td>False</td>\n",
       "    </tr>\n",
       "    <tr>\n",
       "      <th>description</th>\n",
       "      <td>“This is America” by Childish Gambino http://s...</td>\n",
       "    </tr>\n",
       "    <tr>\n",
       "      <th>country</th>\n",
       "      <td>US</td>\n",
       "    </tr>\n",
       "    <tr>\n",
       "      <th>tags</th>\n",
       "      <td>,'childish gambino','rap','this is america','m...</td>\n",
       "    </tr>\n",
       "    <tr>\n",
       "      <th>category_id</th>\n",
       "      <td>600</td>\n",
       "    </tr>\n",
       "  </tbody>\n",
       "</table>\n",
       "</div>"
      ],
      "text/plain": [
       "                                                                    44424\n",
       "video_id                                                      VYOjWnS4cMY\n",
       "trending_date                                                    18.02.06\n",
       "title                   Childish Gambino - This Is America (Official V...\n",
       "channel_title                                         ChildishGambinoVEVO\n",
       "publish_time                                     2018-05-06T04:00:07.000Z\n",
       "views                                                         2.25212e+08\n",
       "likes                                                         5.02345e+06\n",
       "dislikes                                                           343541\n",
       "comment_count                                                      517232\n",
       "thumbnail_link             https://i.ytimg.com/vi/VYOjWnS4cMY/default.jpg\n",
       "comments_disabled                                                   False\n",
       "ratings_disabled                                                    False\n",
       "video_error_or_removed                                              False\n",
       "description             “This is America” by Childish Gambino http://s...\n",
       "country                                                                US\n",
       "tags                    ,'childish gambino','rap','this is america','m...\n",
       "category_id                                                           600"
      ]
     },
     "execution_count": 118,
     "metadata": {},
     "output_type": "execute_result"
    }
   ],
   "source": [
    "usa[usa['views'] == usa['views'].max()].transpose()"
   ]
  },
  {
   "cell_type": "code",
   "execution_count": 246,
   "metadata": {},
   "outputs": [
    {
     "data": {
      "text/plain": [
       "225211923"
      ]
     },
     "execution_count": 246,
     "metadata": {},
     "output_type": "execute_result"
    }
   ],
   "source": [
    "# This view dont give us precise number of views for the most popular video, so we can found\n",
    "# it other way.\n",
    "usa['views'].max()"
   ]
  },
  {
   "cell_type": "markdown",
   "metadata": {},
   "source": [
    "*TOP 5 trending videos with the **MOST** Views*"
   ]
  },
  {
   "cell_type": "code",
   "execution_count": 235,
   "metadata": {},
   "outputs": [
    {
     "data": {
      "text/html": [
       "<div>\n",
       "<style scoped>\n",
       "    .dataframe tbody tr th:only-of-type {\n",
       "        vertical-align: middle;\n",
       "    }\n",
       "\n",
       "    .dataframe tbody tr th {\n",
       "        vertical-align: top;\n",
       "    }\n",
       "\n",
       "    .dataframe thead th {\n",
       "        text-align: right;\n",
       "    }\n",
       "</style>\n",
       "<table border=\"1\" class=\"dataframe\">\n",
       "  <thead>\n",
       "    <tr style=\"text-align: right;\">\n",
       "      <th></th>\n",
       "      <th>video_id</th>\n",
       "      <th>trending_date</th>\n",
       "      <th>title</th>\n",
       "      <th>channel_title</th>\n",
       "      <th>publish_time</th>\n",
       "      <th>views</th>\n",
       "      <th>likes</th>\n",
       "      <th>dislikes</th>\n",
       "      <th>comment_count</th>\n",
       "      <th>thumbnail_link</th>\n",
       "      <th>comments_disabled</th>\n",
       "      <th>ratings_disabled</th>\n",
       "      <th>video_error_or_removed</th>\n",
       "      <th>description</th>\n",
       "      <th>country</th>\n",
       "      <th>tags</th>\n",
       "      <th>category_id</th>\n",
       "    </tr>\n",
       "  </thead>\n",
       "  <tbody>\n",
       "    <tr>\n",
       "      <th>44424</th>\n",
       "      <td>VYOjWnS4cMY</td>\n",
       "      <td>18.02.06</td>\n",
       "      <td>Childish Gambino - This Is America (Official V...</td>\n",
       "      <td>ChildishGambinoVEVO</td>\n",
       "      <td>2018-05-06 04:00:07</td>\n",
       "      <td>225211923</td>\n",
       "      <td>5023450</td>\n",
       "      <td>343541</td>\n",
       "      <td>517232</td>\n",
       "      <td>https://i.ytimg.com/vi/VYOjWnS4cMY/default.jpg</td>\n",
       "      <td>False</td>\n",
       "      <td>False</td>\n",
       "      <td>False</td>\n",
       "      <td>“This is America” by Childish Gambino http://s...</td>\n",
       "      <td>US</td>\n",
       "      <td>,'childish gambino','rap','this is america','m...</td>\n",
       "      <td>600.0</td>\n",
       "    </tr>\n",
       "    <tr>\n",
       "      <th>7180</th>\n",
       "      <td>FlsCjmMhFmw</td>\n",
       "      <td>17.14.12</td>\n",
       "      <td>YouTube Rewind: The Shape of 2017 | #YouTubeRe...</td>\n",
       "      <td>YouTube Spotlight</td>\n",
       "      <td>2017-12-06 17:58:51</td>\n",
       "      <td>149376127</td>\n",
       "      <td>3093544</td>\n",
       "      <td>1643059</td>\n",
       "      <td>810698</td>\n",
       "      <td>https://i.ytimg.com/vi/FlsCjmMhFmw/default.jpg</td>\n",
       "      <td>False</td>\n",
       "      <td>False</td>\n",
       "      <td>False</td>\n",
       "      <td>YouTube Rewind 2017. Celebrating the videos, p...</td>\n",
       "      <td>US</td>\n",
       "      <td>,'rewind','rewind 2017','youtube rewind 2017',...</td>\n",
       "      <td>806.0</td>\n",
       "    </tr>\n",
       "    <tr>\n",
       "      <th>40199</th>\n",
       "      <td>ffxKSjUwKdU</td>\n",
       "      <td>18.14.05</td>\n",
       "      <td>Ariana Grande - No Tears Left To Cry</td>\n",
       "      <td>ArianaGrandeVevo</td>\n",
       "      <td>2018-04-20 04:00:03</td>\n",
       "      <td>148689896</td>\n",
       "      <td>3094021</td>\n",
       "      <td>129502</td>\n",
       "      <td>242039</td>\n",
       "      <td>https://i.ytimg.com/vi/ffxKSjUwKdU/default.jpg</td>\n",
       "      <td>False</td>\n",
       "      <td>False</td>\n",
       "      <td>False</td>\n",
       "      <td>No Tears Left To Cry (Official Video)Song Avai...</td>\n",
       "      <td>US</td>\n",
       "      <td>,'ariana','grande','no','tears','left','to','c...</td>\n",
       "      <td>600.0</td>\n",
       "    </tr>\n",
       "    <tr>\n",
       "      <th>40393</th>\n",
       "      <td>zEf423kYfqk</td>\n",
       "      <td>18.15.05</td>\n",
       "      <td>Becky G, Natti Natasha - Sin Pijama (Official ...</td>\n",
       "      <td>BeckyGVEVO</td>\n",
       "      <td>2018-04-20 10:40:51</td>\n",
       "      <td>139334502</td>\n",
       "      <td>1425496</td>\n",
       "      <td>119798</td>\n",
       "      <td>83941</td>\n",
       "      <td>https://i.ytimg.com/vi/zEf423kYfqk/default.jpg</td>\n",
       "      <td>False</td>\n",
       "      <td>False</td>\n",
       "      <td>False</td>\n",
       "      <td>Becky G &amp; Natti Natasha – “Sin Pijama”NUEVO SE...</td>\n",
       "      <td>US</td>\n",
       "      <td>,'becky g','natti natasha','natti natasha musi...</td>\n",
       "      <td>600.0</td>\n",
       "    </tr>\n",
       "    <tr>\n",
       "      <th>44132</th>\n",
       "      <td>7C2z4GqqS5E</td>\n",
       "      <td>18.01.06</td>\n",
       "      <td>BTS (방탄소년단) 'FAKE LOVE' Official MV</td>\n",
       "      <td>ibighit</td>\n",
       "      <td>2018-05-18 09:00:02</td>\n",
       "      <td>123010920</td>\n",
       "      <td>5613827</td>\n",
       "      <td>206892</td>\n",
       "      <td>1228655</td>\n",
       "      <td>https://i.ytimg.com/vi/7C2z4GqqS5E/default.jpg</td>\n",
       "      <td>False</td>\n",
       "      <td>False</td>\n",
       "      <td>False</td>\n",
       "      <td>BTS (방탄소년단) 'FAKE LOVE' Official MVDirector : ...</td>\n",
       "      <td>US</td>\n",
       "      <td>,'bighit','빅히트','방탄소년단','bts','bangtan','방탄','...</td>\n",
       "      <td>600.0</td>\n",
       "    </tr>\n",
       "  </tbody>\n",
       "</table>\n",
       "</div>"
      ],
      "text/plain": [
       "          video_id trending_date  \\\n",
       "44424  VYOjWnS4cMY      18.02.06   \n",
       "7180   FlsCjmMhFmw      17.14.12   \n",
       "40199  ffxKSjUwKdU      18.14.05   \n",
       "40393  zEf423kYfqk      18.15.05   \n",
       "44132  7C2z4GqqS5E      18.01.06   \n",
       "\n",
       "                                                   title        channel_title  \\\n",
       "44424  Childish Gambino - This Is America (Official V...  ChildishGambinoVEVO   \n",
       "7180   YouTube Rewind: The Shape of 2017 | #YouTubeRe...    YouTube Spotlight   \n",
       "40199               Ariana Grande - No Tears Left To Cry     ArianaGrandeVevo   \n",
       "40393  Becky G, Natti Natasha - Sin Pijama (Official ...           BeckyGVEVO   \n",
       "44132                BTS (방탄소년단) 'FAKE LOVE' Official MV              ibighit   \n",
       "\n",
       "             publish_time      views    likes  dislikes  comment_count  \\\n",
       "44424 2018-05-06 04:00:07  225211923  5023450    343541         517232   \n",
       "7180  2017-12-06 17:58:51  149376127  3093544   1643059         810698   \n",
       "40199 2018-04-20 04:00:03  148689896  3094021    129502         242039   \n",
       "40393 2018-04-20 10:40:51  139334502  1425496    119798          83941   \n",
       "44132 2018-05-18 09:00:02  123010920  5613827    206892        1228655   \n",
       "\n",
       "                                       thumbnail_link comments_disabled  \\\n",
       "44424  https://i.ytimg.com/vi/VYOjWnS4cMY/default.jpg             False   \n",
       "7180   https://i.ytimg.com/vi/FlsCjmMhFmw/default.jpg             False   \n",
       "40199  https://i.ytimg.com/vi/ffxKSjUwKdU/default.jpg             False   \n",
       "40393  https://i.ytimg.com/vi/zEf423kYfqk/default.jpg             False   \n",
       "44132  https://i.ytimg.com/vi/7C2z4GqqS5E/default.jpg             False   \n",
       "\n",
       "      ratings_disabled video_error_or_removed  \\\n",
       "44424            False                  False   \n",
       "7180             False                  False   \n",
       "40199            False                  False   \n",
       "40393            False                  False   \n",
       "44132            False                  False   \n",
       "\n",
       "                                             description country  \\\n",
       "44424  “This is America” by Childish Gambino http://s...      US   \n",
       "7180   YouTube Rewind 2017. Celebrating the videos, p...      US   \n",
       "40199  No Tears Left To Cry (Official Video)Song Avai...      US   \n",
       "40393  Becky G & Natti Natasha – “Sin Pijama”NUEVO SE...      US   \n",
       "44132  BTS (방탄소년단) 'FAKE LOVE' Official MVDirector : ...      US   \n",
       "\n",
       "                                                    tags  category_id  \n",
       "44424  ,'childish gambino','rap','this is america','m...        600.0  \n",
       "7180   ,'rewind','rewind 2017','youtube rewind 2017',...        806.0  \n",
       "40199  ,'ariana','grande','no','tears','left','to','c...        600.0  \n",
       "40393  ,'becky g','natti natasha','natti natasha musi...        600.0  \n",
       "44132  ,'bighit','빅히트','방탄소년단','bts','bangtan','방탄','...        600.0  "
      ]
     },
     "execution_count": 235,
     "metadata": {},
     "output_type": "execute_result"
    }
   ],
   "source": [
    "unique_videos_usa_most_views = usa.sort_values(by='views', ascending=False).drop_duplicates(subset=['video_id']).head()\n",
    "unique_videos_usa_most_views"
   ]
  },
  {
   "cell_type": "markdown",
   "metadata": {},
   "source": [
    "*Video with the most views was called **\"Childish Gambino - This Is America (Official Video)** from channel **ChildsihGambinoVEVO** which had accumulated more than 225 million views.*"
   ]
  },
  {
   "cell_type": "code",
   "execution_count": null,
   "metadata": {},
   "outputs": [],
   "source": []
  },
  {
   "cell_type": "markdown",
   "metadata": {},
   "source": [
    "### Videos Titles"
   ]
  },
  {
   "cell_type": "code",
   "execution_count": null,
   "metadata": {},
   "outputs": [],
   "source": []
  },
  {
   "cell_type": "code",
   "execution_count": 203,
   "metadata": {},
   "outputs": [
    {
     "ename": "TypeError",
     "evalue": "object of type 'float' has no len()",
     "output_type": "error",
     "traceback": [
      "\u001b[1;31m---------------------------------------------------------------------------\u001b[0m",
      "\u001b[1;31mTypeError\u001b[0m                                 Traceback (most recent call last)",
      "\u001b[1;32m<ipython-input-203-e769bf9c54bd>\u001b[0m in \u001b[0;36m<module>\u001b[1;34m\u001b[0m\n\u001b[1;32m----> 1\u001b[1;33m \u001b[0mtitle_lengths\u001b[0m \u001b[1;33m=\u001b[0m \u001b[0musa\u001b[0m\u001b[1;33m[\u001b[0m\u001b[1;34m'title'\u001b[0m\u001b[1;33m]\u001b[0m\u001b[1;33m.\u001b[0m\u001b[0mapply\u001b[0m\u001b[1;33m(\u001b[0m\u001b[1;32mlambda\u001b[0m \u001b[0mx\u001b[0m\u001b[1;33m:\u001b[0m \u001b[0mlen\u001b[0m\u001b[1;33m(\u001b[0m\u001b[0mx\u001b[0m\u001b[1;33m)\u001b[0m\u001b[1;33m)\u001b[0m\u001b[1;33m\u001b[0m\u001b[1;33m\u001b[0m\u001b[0m\n\u001b[0m\u001b[0;32m      2\u001b[0m \u001b[0mfig\u001b[0m\u001b[1;33m,\u001b[0m \u001b[0max\u001b[0m \u001b[1;33m=\u001b[0m \u001b[0mplt\u001b[0m\u001b[1;33m.\u001b[0m\u001b[0msubplots\u001b[0m\u001b[1;33m(\u001b[0m\u001b[0mfigsize\u001b[0m\u001b[1;33m=\u001b[0m\u001b[1;33m(\u001b[0m\u001b[1;36m14\u001b[0m\u001b[1;33m,\u001b[0m\u001b[1;36m8\u001b[0m\u001b[1;33m)\u001b[0m\u001b[1;33m)\u001b[0m\u001b[1;33m\u001b[0m\u001b[1;33m\u001b[0m\u001b[0m\n\u001b[0;32m      3\u001b[0m \u001b[0msns\u001b[0m\u001b[1;33m.\u001b[0m\u001b[0mboxplot\u001b[0m\u001b[1;33m(\u001b[0m\u001b[0mtitle_lengths\u001b[0m\u001b[1;33m,\u001b[0m \u001b[0mcolor\u001b[0m\u001b[1;33m=\u001b[0m\u001b[0mlightblue\u001b[0m\u001b[1;33m,\u001b[0m \u001b[0mmedianprops\u001b[0m\u001b[1;33m=\u001b[0m\u001b[1;33m{\u001b[0m\u001b[1;34m'color'\u001b[0m\u001b[1;33m:\u001b[0m \u001b[1;34m'#FBA91A'\u001b[0m\u001b[1;33m}\u001b[0m\u001b[1;33m,\u001b[0m \u001b[0max\u001b[0m\u001b[1;33m=\u001b[0m\u001b[0max\u001b[0m\u001b[1;33m)\u001b[0m\u001b[1;33m\u001b[0m\u001b[1;33m\u001b[0m\u001b[0m\n\u001b[0;32m      4\u001b[0m \u001b[0max\u001b[0m\u001b[1;33m.\u001b[0m\u001b[0mxaxis\u001b[0m\u001b[1;33m.\u001b[0m\u001b[0mset_major_locator\u001b[0m\u001b[1;33m(\u001b[0m\u001b[0mticker\u001b[0m\u001b[1;33m.\u001b[0m\u001b[0mMultipleLocator\u001b[0m\u001b[1;33m(\u001b[0m\u001b[1;36m10\u001b[0m\u001b[1;33m)\u001b[0m\u001b[1;33m)\u001b[0m\u001b[1;33m\u001b[0m\u001b[1;33m\u001b[0m\u001b[0m\n\u001b[0;32m      5\u001b[0m \u001b[0mplot_conf\u001b[0m\u001b[1;33m(\u001b[0m\u001b[0max\u001b[0m\u001b[1;33m,\u001b[0m \u001b[0mxlbl\u001b[0m\u001b[1;33m=\u001b[0m\u001b[1;34m'Title length (in characters)'\u001b[0m\u001b[1;33m,\u001b[0m \u001b[0mticklbl_size\u001b[0m\u001b[1;33m=\u001b[0m\u001b[1;36m11\u001b[0m\u001b[1;33m,\u001b[0m \u001b[0mlbl_size\u001b[0m\u001b[1;33m=\u001b[0m\u001b[1;36m12\u001b[0m\u001b[1;33m)\u001b[0m\u001b[1;33m\u001b[0m\u001b[1;33m\u001b[0m\u001b[0m\n",
      "\u001b[1;32m~\\Downloads\\Programs\\Anaconda\\lib\\site-packages\\pandas\\core\\series.py\u001b[0m in \u001b[0;36mapply\u001b[1;34m(self, func, convert_dtype, args, **kwds)\u001b[0m\n\u001b[0;32m   4198\u001b[0m             \u001b[1;32melse\u001b[0m\u001b[1;33m:\u001b[0m\u001b[1;33m\u001b[0m\u001b[1;33m\u001b[0m\u001b[0m\n\u001b[0;32m   4199\u001b[0m                 \u001b[0mvalues\u001b[0m \u001b[1;33m=\u001b[0m \u001b[0mself\u001b[0m\u001b[1;33m.\u001b[0m\u001b[0mastype\u001b[0m\u001b[1;33m(\u001b[0m\u001b[0mobject\u001b[0m\u001b[1;33m)\u001b[0m\u001b[1;33m.\u001b[0m\u001b[0m_values\u001b[0m\u001b[1;33m\u001b[0m\u001b[1;33m\u001b[0m\u001b[0m\n\u001b[1;32m-> 4200\u001b[1;33m                 \u001b[0mmapped\u001b[0m \u001b[1;33m=\u001b[0m \u001b[0mlib\u001b[0m\u001b[1;33m.\u001b[0m\u001b[0mmap_infer\u001b[0m\u001b[1;33m(\u001b[0m\u001b[0mvalues\u001b[0m\u001b[1;33m,\u001b[0m \u001b[0mf\u001b[0m\u001b[1;33m,\u001b[0m \u001b[0mconvert\u001b[0m\u001b[1;33m=\u001b[0m\u001b[0mconvert_dtype\u001b[0m\u001b[1;33m)\u001b[0m\u001b[1;33m\u001b[0m\u001b[1;33m\u001b[0m\u001b[0m\n\u001b[0m\u001b[0;32m   4201\u001b[0m \u001b[1;33m\u001b[0m\u001b[0m\n\u001b[0;32m   4202\u001b[0m         \u001b[1;32mif\u001b[0m \u001b[0mlen\u001b[0m\u001b[1;33m(\u001b[0m\u001b[0mmapped\u001b[0m\u001b[1;33m)\u001b[0m \u001b[1;32mand\u001b[0m \u001b[0misinstance\u001b[0m\u001b[1;33m(\u001b[0m\u001b[0mmapped\u001b[0m\u001b[1;33m[\u001b[0m\u001b[1;36m0\u001b[0m\u001b[1;33m]\u001b[0m\u001b[1;33m,\u001b[0m \u001b[0mSeries\u001b[0m\u001b[1;33m)\u001b[0m\u001b[1;33m:\u001b[0m\u001b[1;33m\u001b[0m\u001b[1;33m\u001b[0m\u001b[0m\n",
      "\u001b[1;32mpandas\\_libs\\lib.pyx\u001b[0m in \u001b[0;36mpandas._libs.lib.map_infer\u001b[1;34m()\u001b[0m\n",
      "\u001b[1;32m<ipython-input-203-e769bf9c54bd>\u001b[0m in \u001b[0;36m<lambda>\u001b[1;34m(x)\u001b[0m\n\u001b[1;32m----> 1\u001b[1;33m \u001b[0mtitle_lengths\u001b[0m \u001b[1;33m=\u001b[0m \u001b[0musa\u001b[0m\u001b[1;33m[\u001b[0m\u001b[1;34m'title'\u001b[0m\u001b[1;33m]\u001b[0m\u001b[1;33m.\u001b[0m\u001b[0mapply\u001b[0m\u001b[1;33m(\u001b[0m\u001b[1;32mlambda\u001b[0m \u001b[0mx\u001b[0m\u001b[1;33m:\u001b[0m \u001b[0mlen\u001b[0m\u001b[1;33m(\u001b[0m\u001b[0mx\u001b[0m\u001b[1;33m)\u001b[0m\u001b[1;33m)\u001b[0m\u001b[1;33m\u001b[0m\u001b[1;33m\u001b[0m\u001b[0m\n\u001b[0m\u001b[0;32m      2\u001b[0m \u001b[0mfig\u001b[0m\u001b[1;33m,\u001b[0m \u001b[0max\u001b[0m \u001b[1;33m=\u001b[0m \u001b[0mplt\u001b[0m\u001b[1;33m.\u001b[0m\u001b[0msubplots\u001b[0m\u001b[1;33m(\u001b[0m\u001b[0mfigsize\u001b[0m\u001b[1;33m=\u001b[0m\u001b[1;33m(\u001b[0m\u001b[1;36m14\u001b[0m\u001b[1;33m,\u001b[0m\u001b[1;36m8\u001b[0m\u001b[1;33m)\u001b[0m\u001b[1;33m)\u001b[0m\u001b[1;33m\u001b[0m\u001b[1;33m\u001b[0m\u001b[0m\n\u001b[0;32m      3\u001b[0m \u001b[0msns\u001b[0m\u001b[1;33m.\u001b[0m\u001b[0mboxplot\u001b[0m\u001b[1;33m(\u001b[0m\u001b[0mtitle_lengths\u001b[0m\u001b[1;33m,\u001b[0m \u001b[0mcolor\u001b[0m\u001b[1;33m=\u001b[0m\u001b[0mlightblue\u001b[0m\u001b[1;33m,\u001b[0m \u001b[0mmedianprops\u001b[0m\u001b[1;33m=\u001b[0m\u001b[1;33m{\u001b[0m\u001b[1;34m'color'\u001b[0m\u001b[1;33m:\u001b[0m \u001b[1;34m'#FBA91A'\u001b[0m\u001b[1;33m}\u001b[0m\u001b[1;33m,\u001b[0m \u001b[0max\u001b[0m\u001b[1;33m=\u001b[0m\u001b[0max\u001b[0m\u001b[1;33m)\u001b[0m\u001b[1;33m\u001b[0m\u001b[1;33m\u001b[0m\u001b[0m\n\u001b[0;32m      4\u001b[0m \u001b[0max\u001b[0m\u001b[1;33m.\u001b[0m\u001b[0mxaxis\u001b[0m\u001b[1;33m.\u001b[0m\u001b[0mset_major_locator\u001b[0m\u001b[1;33m(\u001b[0m\u001b[0mticker\u001b[0m\u001b[1;33m.\u001b[0m\u001b[0mMultipleLocator\u001b[0m\u001b[1;33m(\u001b[0m\u001b[1;36m10\u001b[0m\u001b[1;33m)\u001b[0m\u001b[1;33m)\u001b[0m\u001b[1;33m\u001b[0m\u001b[1;33m\u001b[0m\u001b[0m\n\u001b[0;32m      5\u001b[0m \u001b[0mplot_conf\u001b[0m\u001b[1;33m(\u001b[0m\u001b[0max\u001b[0m\u001b[1;33m,\u001b[0m \u001b[0mxlbl\u001b[0m\u001b[1;33m=\u001b[0m\u001b[1;34m'Title length (in characters)'\u001b[0m\u001b[1;33m,\u001b[0m \u001b[0mticklbl_size\u001b[0m\u001b[1;33m=\u001b[0m\u001b[1;36m11\u001b[0m\u001b[1;33m,\u001b[0m \u001b[0mlbl_size\u001b[0m\u001b[1;33m=\u001b[0m\u001b[1;36m12\u001b[0m\u001b[1;33m)\u001b[0m\u001b[1;33m\u001b[0m\u001b[1;33m\u001b[0m\u001b[0m\n",
      "\u001b[1;31mTypeError\u001b[0m: object of type 'float' has no len()"
     ]
    }
   ],
   "source": [
    "title_lengths = usa['title'].apply(lambda x: len(x))\n",
    "fig, ax = plt.subplots(figsize=(14,8))\n",
    "sns.boxplot(title_lengths, color=lightblue, medianprops={'color': '#FBA91A'}, ax=ax)\n",
    "ax.xaxis.set_major_locator(ticker.MultipleLocator(10))\n",
    "plot_conf(ax, xlbl='Title length (in characters)', ticklbl_size=11, lbl_size=12)\n",
    "plt.tight_layout()"
   ]
  },
  {
   "cell_type": "markdown",
   "metadata": {},
   "source": [
    "### Correlation analysis"
   ]
  },
  {
   "cell_type": "code",
   "execution_count": 110,
   "metadata": {},
   "outputs": [
    {
     "data": {
      "text/html": [
       "<div>\n",
       "<style scoped>\n",
       "    .dataframe tbody tr th:only-of-type {\n",
       "        vertical-align: middle;\n",
       "    }\n",
       "\n",
       "    .dataframe tbody tr th {\n",
       "        vertical-align: top;\n",
       "    }\n",
       "\n",
       "    .dataframe thead th {\n",
       "        text-align: right;\n",
       "    }\n",
       "</style>\n",
       "<table border=\"1\" class=\"dataframe\">\n",
       "  <thead>\n",
       "    <tr style=\"text-align: right;\">\n",
       "      <th></th>\n",
       "      <th>views</th>\n",
       "      <th>likes</th>\n",
       "      <th>dislikes</th>\n",
       "      <th>comment_count</th>\n",
       "    </tr>\n",
       "  </thead>\n",
       "  <tbody>\n",
       "    <tr>\n",
       "      <th>views</th>\n",
       "      <td>1.000000</td>\n",
       "      <td>0.849196</td>\n",
       "      <td>0.472210</td>\n",
       "      <td>0.617622</td>\n",
       "    </tr>\n",
       "    <tr>\n",
       "      <th>likes</th>\n",
       "      <td>0.849196</td>\n",
       "      <td>1.000000</td>\n",
       "      <td>0.447164</td>\n",
       "      <td>0.803065</td>\n",
       "    </tr>\n",
       "    <tr>\n",
       "      <th>dislikes</th>\n",
       "      <td>0.472210</td>\n",
       "      <td>0.447164</td>\n",
       "      <td>1.000000</td>\n",
       "      <td>0.700153</td>\n",
       "    </tr>\n",
       "    <tr>\n",
       "      <th>comment_count</th>\n",
       "      <td>0.617622</td>\n",
       "      <td>0.803065</td>\n",
       "      <td>0.700153</td>\n",
       "      <td>1.000000</td>\n",
       "    </tr>\n",
       "  </tbody>\n",
       "</table>\n",
       "</div>"
      ],
      "text/plain": [
       "                  views     likes  dislikes  comment_count\n",
       "views          1.000000  0.849196  0.472210       0.617622\n",
       "likes          0.849196  1.000000  0.447164       0.803065\n",
       "dislikes       0.472210  0.447164  1.000000       0.700153\n",
       "comment_count  0.617622  0.803065  0.700153       1.000000"
      ]
     },
     "execution_count": 110,
     "metadata": {},
     "output_type": "execute_result"
    }
   ],
   "source": [
    "columns_needed = ['views', 'likes', 'dislikes', 'comment_count'] # only these columns needed this time\n",
    "corr_matrix = usa[columns_needed].corr()\n",
    "corr_matrix"
   ]
  },
  {
   "cell_type": "markdown",
   "metadata": {},
   "source": [
    "###### The table above shows that there are correlation between ..."
   ]
  },
  {
   "cell_type": "code",
   "execution_count": 142,
   "metadata": {},
   "outputs": [
    {
     "name": "stderr",
     "output_type": "stream",
     "text": [
      "<ipython-input-142-6f4f7bfca622>:14: UserWarning: FixedFormatter should only be used together with FixedLocator\n",
      "  ax.set_yticklabels(labels, minor=False)\n",
      "<ipython-input-142-6f4f7bfca622>:15: UserWarning: FixedFormatter should only be used together with FixedLocator\n",
      "  ax.set_xticklabels(labels, minor=False)\n"
     ]
    },
    {
     "data": {
      "image/png": "[encoded data removed]",
      "text/plain": [
       "<Figure size 432x288 with 2 Axes>"
      ]
     },
     "metadata": {
      "needs_background": "light"
     },
     "output_type": "display_data"
    }
   ],
   "source": [
    "fig, ax = plt.subplots()\n",
    "heatmap = ax.imshow(corr_matrix, interpolation='nearest')\n",
    "\n",
    "# making the colorbar on the side\n",
    "cbar_min = corr_matrix.min().min()\n",
    "cbar_max = corr_matrix.max().max()\n",
    "cbar = fig.colorbar(heatmap, ticks=[cbar_min, cbar_max])\n",
    "\n",
    "# making the labels\n",
    "labels = ['']\n",
    "for column in columns_needed:\n",
    "    labels.append(column)\n",
    "    labels.append('')\n",
    "ax.set_yticklabels(labels, minor=False)\n",
    "ax.set_xticklabels(labels, minor=False)\n",
    "\n",
    "plt.show()"
   ]
  },
  {
   "cell_type": "code",
   "execution_count": 177,
   "metadata": {},
   "outputs": [
    {
     "name": "stdout",
     "output_type": "stream",
     "text": [
      "(46978, 17)\n",
      "(46978, 17)\n"
     ]
    },
    {
     "ename": "AttributeError",
     "evalue": "'Int64Index' object has no attribute 'dublicated'",
     "output_type": "error",
     "traceback": [
      "\u001b[1;31m---------------------------------------------------------------------------\u001b[0m",
      "\u001b[1;31mAttributeError\u001b[0m                            Traceback (most recent call last)",
      "\u001b[1;32m<ipython-input-177-359cda43e1cd>\u001b[0m in \u001b[0;36m<module>\u001b[1;34m\u001b[0m\n\u001b[0;32m      2\u001b[0m \u001b[0musa\u001b[0m \u001b[1;33m=\u001b[0m \u001b[0musa\u001b[0m\u001b[1;33m[\u001b[0m\u001b[1;33m~\u001b[0m\u001b[0musa\u001b[0m\u001b[1;33m.\u001b[0m\u001b[0mindex\u001b[0m\u001b[1;33m.\u001b[0m\u001b[0mduplicated\u001b[0m\u001b[1;33m(\u001b[0m\u001b[0mkeep\u001b[0m\u001b[1;33m=\u001b[0m\u001b[1;34m'last'\u001b[0m\u001b[1;33m)\u001b[0m\u001b[1;33m]\u001b[0m\u001b[1;33m\u001b[0m\u001b[1;33m\u001b[0m\u001b[0m\n\u001b[0;32m      3\u001b[0m \u001b[0mprint\u001b[0m\u001b[1;33m(\u001b[0m\u001b[0musa\u001b[0m\u001b[1;33m.\u001b[0m\u001b[0mshape\u001b[0m\u001b[1;33m)\u001b[0m\u001b[1;33m\u001b[0m\u001b[1;33m\u001b[0m\u001b[0m\n\u001b[1;32m----> 4\u001b[1;33m \u001b[0musa\u001b[0m\u001b[1;33m.\u001b[0m\u001b[0mindex\u001b[0m\u001b[1;33m.\u001b[0m\u001b[0mdublicated\u001b[0m\u001b[1;33m(\u001b[0m\u001b[1;33m)\u001b[0m\u001b[1;33m.\u001b[0m\u001b[0many\u001b[0m\u001b[1;33m(\u001b[0m\u001b[1;33m)\u001b[0m\u001b[1;33m\u001b[0m\u001b[1;33m\u001b[0m\u001b[0m\n\u001b[0m",
      "\u001b[1;31mAttributeError\u001b[0m: 'Int64Index' object has no attribute 'dublicated'"
     ]
    }
   ],
   "source": [
    "print(usa.shape)\n",
    "usa = usa[~usa.index.duplicated(keep='last')]\n",
    "print(usa.shape)\n",
    "usa.index.dublicated().any()"
   ]
  },
  {
   "cell_type": "code",
   "execution_count": null,
   "metadata": {},
   "outputs": [],
   "source": []
  },
  {
   "cell_type": "markdown",
   "metadata": {},
   "source": [
    "##### Vides with the most likes, comments, dislikes and views."
   ]
  },
  {
   "cell_type": "markdown",
   "metadata": {},
   "source": [
    "*I will create a function that will take in a column name and visualize the videos that have the\n",
    "most counts of likes, comments, dislikes and views.*"
   ]
  },
  {
   "cell_type": "code",
   "execution_count": 193,
   "metadata": {},
   "outputs": [],
   "source": [
    "def visualize_most(my_df, column, num=10):\n",
    "    sorted_df = usa.sort_values(column, ascending=False).iloc[:num]\n",
    "    \n",
    "    ax = sorted_df[column].plot.bar()\n",
    "    \n",
    "    # customizes the video titles, for asthetic purposes for the bar chart\n",
    "    labels = []\n",
    "    for item in sorted_df['title']:\n",
    "        labels.append(item[:12] + '...')\n",
    "    ax.set_xticklabels(labels, rotation=45, fontsize=10)\n",
    "    \n",
    "    plt.show()"
   ]
  },
  {
   "cell_type": "markdown",
   "metadata": {},
   "source": [
    "*Now we can call the 'visualize_most()' function while passing different column names*"
   ]
  },
  {
   "cell_type": "code",
   "execution_count": 194,
   "metadata": {},
   "outputs": [
    {
     "data": {
      "image/png": "[encoded data removed]",
      "text/plain": [
       "<Figure size 432x288 with 1 Axes>"
      ]
     },
     "metadata": {
      "needs_background": "light"
     },
     "output_type": "display_data"
    }
   ],
   "source": [
    "visualize_most(usa, 'views')"
   ]
  },
  {
   "cell_type": "code",
   "execution_count": 185,
   "metadata": {},
   "outputs": [
    {
     "data": {
      "image/png": "[encoded data removed]",
      "text/plain": [
       "<Figure size 432x288 with 1 Axes>"
      ]
     },
     "metadata": {
      "needs_background": "light"
     },
     "output_type": "display_data"
    }
   ],
   "source": [
    "visualize_most(usa, 'comment_count')"
   ]
  },
  {
   "cell_type": "code",
   "execution_count": 186,
   "metadata": {},
   "outputs": [
    {
     "data": {
      "image/png": "[encoded data removed]",
      "text/plain": [
       "<Figure size 432x288 with 1 Axes>"
      ]
     },
     "metadata": {
      "needs_background": "light"
     },
     "output_type": "display_data"
    }
   ],
   "source": [
    "visualize_most(usa, 'dislikes')"
   ]
  },
  {
   "cell_type": "code",
   "execution_count": 190,
   "metadata": {},
   "outputs": [
    {
     "data": {
      "image/png": "[encoded data removed]",
      "text/plain": [
       "<Figure size 432x288 with 1 Axes>"
      ]
     },
     "metadata": {
      "needs_background": "light"
     },
     "output_type": "display_data"
    }
   ],
   "source": [
    "visualize_most(usa, 'likes', num=20)"
   ]
  },
  {
   "cell_type": "code",
   "execution_count": null,
   "metadata": {},
   "outputs": [],
   "source": []
  },
  {
   "cell_type": "code",
   "execution_count": null,
   "metadata": {},
   "outputs": [],
   "source": []
  },
  {
   "cell_type": "code",
   "execution_count": null,
   "metadata": {},
   "outputs": [],
   "source": []
  },
  {
   "cell_type": "markdown",
   "metadata": {},
   "source": [
    "## Analysis Results"
   ]
  },
  {
   "cell_type": "markdown",
   "metadata": {},
   "source": [
    "*Note that for the following analyses I applied the analysis on all of the trending videos, not on the unique trending videos only. So if a video is considered trending for 3 days, then we believe that it has more trending power and more trending characteristics than a video that was trending for 1 day only; thus, it should have more weight. So we include the 3 occurrences of that video in the analysis.*"
   ]
  },
  {
   "cell_type": "code",
   "execution_count": null,
   "metadata": {},
   "outputs": [],
   "source": []
  }
 ],
 "metadata": {
  "kernelspec": {
   "display_name": "Python 3",
   "language": "python",
   "name": "python3"
  },
  "language_info": {
   "codemirror_mode": {
    "name": "ipython",
    "version": 3
   },
   "file_extension": ".py",
   "mimetype": "text/x-python",
   "name": "python",
   "nbconvert_exporter": "python",
   "pygments_lexer": "ipython3",
   "version": "3.8.5"
  }
 },
 "nbformat": 4,
 "nbformat_minor": 4
}
