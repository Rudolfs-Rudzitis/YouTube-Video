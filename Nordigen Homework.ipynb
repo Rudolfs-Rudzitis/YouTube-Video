{
 "cells": [
  {
   "cell_type": "markdown",
   "metadata": {},
   "source": [
    "# Introduction"
   ]
  },
  {
   "cell_type": "markdown",
   "metadata": {},
   "source": [
    "*I will perform data cleansing, wrangling and analyzing on **4** datasets, **3** of them contains data about YouTube Trending videos in 3 different parts of the world - USA, Canada and Great Britain. The **4th** dataset contains category types the videos is accosiated with.*"
   ]
  },
  {
   "cell_type": "markdown",
   "metadata": {},
   "source": [
    "### Tools Used"
   ]
  },
  {
   "cell_type": "markdown",
   "metadata": {},
   "source": [
    "*This analysis was performed using Python and a group of Python libraries including Pandas, Matplotlib, Numpy and more. The analysis were performed in a Jupyter Notebook.*"
   ]
  },
  {
   "cell_type": "markdown",
   "metadata": {},
   "source": [
    "### The Goal"
   ]
  },
  {
   "cell_type": "markdown",
   "metadata": {},
   "source": [
    "*The goal of the analysis is to find answers to various questions and patterns by exploring the data.*"
   ]
  },
  {
   "cell_type": "markdown",
   "metadata": {},
   "source": [
    "### Questions that the business team wants to be answered:"
   ]
  },
  {
   "cell_type": "markdown",
   "metadata": {},
   "source": [
    "*1) Are there any clear differences between trending videos depending on the region?*"
   ]
  },
  {
   "cell_type": "markdown",
   "metadata": {},
   "source": [
    "*2) Which video remained the most on the trending videos list?*"
   ]
  },
  {
   "cell_type": "markdown",
   "metadata": {},
   "source": [
    "*3) Which video category has the largest number of trending videos? Does the category give any advantage in order to become trending?*"
   ]
  },
  {
   "cell_type": "markdown",
   "metadata": {},
   "source": [
    "*4) How are views, likes and dislikes, title length, and other attributes correlated with (relate to) each other? Are they connected in any way?*"
   ]
  },
  {
   "cell_type": "markdown",
   "metadata": {},
   "source": [
    "*5) If Nordigen would upload a video, what words in the title (or description) or tags would you recommend to use? (In hopes to make the video trending).*"
   ]
  },
  {
   "cell_type": "markdown",
   "metadata": {},
   "source": [
    "### Additional Questions that I am interested in:"
   ]
  },
  {
   "cell_type": "code",
   "execution_count": 15,
   "metadata": {},
   "outputs": [],
   "source": [
    "# 1) Which videos had the most & the least views & comments in each location (USA, Canada, GB)?\n",
    "# 2) How much of trending videos had their comments and ratings option turned off?\n",
    "# 3) "
   ]
  },
  {
   "cell_type": "markdown",
   "metadata": {},
   "source": [
    "#### Importing required Python libraries for analysis."
   ]
  },
  {
   "cell_type": "code",
   "execution_count": 103,
   "metadata": {},
   "outputs": [],
   "source": [
    "import pandas as pd\n",
    "import numpy as np\n",
    "import os\n",
    "from matplotlib import pyplot as plt\n",
    "from matplotlib import ticker\n",
    "import seaborn as sns"
   ]
  },
  {
   "cell_type": "markdown",
   "metadata": {},
   "source": [
    "##### Reading 1st dataset \"US videos\" and getting familiar with it."
   ]
  },
  {
   "cell_type": "code",
   "execution_count": 104,
   "metadata": {
    "scrolled": true
   },
   "outputs": [
    {
     "data": {
      "text/html": [
       "<div>\n",
       "<style scoped>\n",
       "    .dataframe tbody tr th:only-of-type {\n",
       "        vertical-align: middle;\n",
       "    }\n",
       "\n",
       "    .dataframe tbody tr th {\n",
       "        vertical-align: top;\n",
       "    }\n",
       "\n",
       "    .dataframe thead th {\n",
       "        text-align: right;\n",
       "    }\n",
       "</style>\n",
       "<table border=\"1\" class=\"dataframe\">\n",
       "  <thead>\n",
       "    <tr style=\"text-align: right;\">\n",
       "      <th></th>\n",
       "      <th>video_id</th>\n",
       "      <th>trending_date</th>\n",
       "      <th>title</th>\n",
       "      <th>channel_title</th>\n",
       "      <th>publish_time</th>\n",
       "      <th>views</th>\n",
       "      <th>likes</th>\n",
       "      <th>dislikes</th>\n",
       "      <th>comment_count</th>\n",
       "      <th>thumbnail_link</th>\n",
       "      <th>comments_disabled</th>\n",
       "      <th>ratings_disabled</th>\n",
       "      <th>video_error_or_removed</th>\n",
       "      <th>description</th>\n",
       "      <th>country</th>\n",
       "      <th>tags</th>\n",
       "      <th>category_id</th>\n",
       "    </tr>\n",
       "  </thead>\n",
       "  <tbody>\n",
       "    <tr>\n",
       "      <th>0</th>\n",
       "      <td>2kyS6SvSYSE</td>\n",
       "      <td>17.14.11</td>\n",
       "      <td>WE WANT TO TALK ABOUT OUR MARRIAGE</td>\n",
       "      <td>CaseyNeistat</td>\n",
       "      <td>2017-11-13T17:13:01.000Z</td>\n",
       "      <td>748374.0</td>\n",
       "      <td>57527.0</td>\n",
       "      <td>2966.0</td>\n",
       "      <td>15954.0</td>\n",
       "      <td>https://i.ytimg.com/vi/2kyS6SvSYSE/default.jpg</td>\n",
       "      <td>False</td>\n",
       "      <td>False</td>\n",
       "      <td>False</td>\n",
       "      <td>SHANTELL'S CHANNEL - https://www.youtube.com/s...</td>\n",
       "      <td>US</td>\n",
       "      <td>,'shantell martin'</td>\n",
       "      <td>804.0</td>\n",
       "    </tr>\n",
       "    <tr>\n",
       "      <th>1</th>\n",
       "      <td>1ZAPwfrtAFY</td>\n",
       "      <td>17.14.11</td>\n",
       "      <td>The Trump Presidency: Last Week Tonight with J...</td>\n",
       "      <td>LastWeekTonight</td>\n",
       "      <td>2017-11-13T07:30:00.000Z</td>\n",
       "      <td>2418783.0</td>\n",
       "      <td>97185.0</td>\n",
       "      <td>6146.0</td>\n",
       "      <td>12703.0</td>\n",
       "      <td>https://i.ytimg.com/vi/1ZAPwfrtAFY/default.jpg</td>\n",
       "      <td>False</td>\n",
       "      <td>False</td>\n",
       "      <td>False</td>\n",
       "      <td>One year after the presidential election, John...</td>\n",
       "      <td>US</td>\n",
       "      <td>,'last week tonight trump presidency','last we...</td>\n",
       "      <td>806.0</td>\n",
       "    </tr>\n",
       "    <tr>\n",
       "      <th>2</th>\n",
       "      <td>5qpjK5DgCt4</td>\n",
       "      <td>17.14.11</td>\n",
       "      <td>Racist Superman | Rudy Mancuso, King Bach &amp; Le...</td>\n",
       "      <td>Rudy Mancuso</td>\n",
       "      <td>2017-11-12T19:05:24.000Z</td>\n",
       "      <td>3191434.0</td>\n",
       "      <td>146033.0</td>\n",
       "      <td>5339.0</td>\n",
       "      <td>8181.0</td>\n",
       "      <td>https://i.ytimg.com/vi/5qpjK5DgCt4/default.jpg</td>\n",
       "      <td>False</td>\n",
       "      <td>False</td>\n",
       "      <td>False</td>\n",
       "      <td>WATCH MY PREVIOUS VIDEO ▶ \\n\\nSUBSCRIBE ► http...</td>\n",
       "      <td>US</td>\n",
       "      <td>,'racist superman','rudy','mancuso','king','ba...</td>\n",
       "      <td>805.0</td>\n",
       "    </tr>\n",
       "    <tr>\n",
       "      <th>3</th>\n",
       "      <td>puqaWrEC7tY</td>\n",
       "      <td>17.14.11</td>\n",
       "      <td>Nickelback Lyrics: Real or Fake?</td>\n",
       "      <td>Good Mythical Morning</td>\n",
       "      <td>2017-11-13T11:00:04.000Z</td>\n",
       "      <td>343168.0</td>\n",
       "      <td>10172.0</td>\n",
       "      <td>666.0</td>\n",
       "      <td>2146.0</td>\n",
       "      <td>https://i.ytimg.com/vi/puqaWrEC7tY/default.jpg</td>\n",
       "      <td>False</td>\n",
       "      <td>False</td>\n",
       "      <td>False</td>\n",
       "      <td>Today we find out if Link is a Nickelback amat...</td>\n",
       "      <td>US</td>\n",
       "      <td>,'rhett and link','gmm','good mythical morning...</td>\n",
       "      <td>806.0</td>\n",
       "    </tr>\n",
       "    <tr>\n",
       "      <th>4</th>\n",
       "      <td>d380meD0W0M</td>\n",
       "      <td>17.14.11</td>\n",
       "      <td>I Dare You: GOING BALD!?</td>\n",
       "      <td>nigahiga</td>\n",
       "      <td>2017-11-12T18:01:41.000Z</td>\n",
       "      <td>2095731.0</td>\n",
       "      <td>132235.0</td>\n",
       "      <td>1989.0</td>\n",
       "      <td>17518.0</td>\n",
       "      <td>https://i.ytimg.com/vi/d380meD0W0M/default.jpg</td>\n",
       "      <td>False</td>\n",
       "      <td>False</td>\n",
       "      <td>False</td>\n",
       "      <td>I know it's been a while since we did this sho...</td>\n",
       "      <td>US</td>\n",
       "      <td>,'ryan','higa','higatv','nigahiga','i dare you...</td>\n",
       "      <td>806.0</td>\n",
       "    </tr>\n",
       "  </tbody>\n",
       "</table>\n",
       "</div>"
      ],
      "text/plain": [
       "      video_id trending_date  \\\n",
       "0  2kyS6SvSYSE      17.14.11   \n",
       "1  1ZAPwfrtAFY      17.14.11   \n",
       "2  5qpjK5DgCt4      17.14.11   \n",
       "3  puqaWrEC7tY      17.14.11   \n",
       "4  d380meD0W0M      17.14.11   \n",
       "\n",
       "                                               title          channel_title  \\\n",
       "0                 WE WANT TO TALK ABOUT OUR MARRIAGE           CaseyNeistat   \n",
       "1  The Trump Presidency: Last Week Tonight with J...        LastWeekTonight   \n",
       "2  Racist Superman | Rudy Mancuso, King Bach & Le...           Rudy Mancuso   \n",
       "3                   Nickelback Lyrics: Real or Fake?  Good Mythical Morning   \n",
       "4                           I Dare You: GOING BALD!?               nigahiga   \n",
       "\n",
       "               publish_time      views     likes  dislikes  comment_count  \\\n",
       "0  2017-11-13T17:13:01.000Z   748374.0   57527.0    2966.0        15954.0   \n",
       "1  2017-11-13T07:30:00.000Z  2418783.0   97185.0    6146.0        12703.0   \n",
       "2  2017-11-12T19:05:24.000Z  3191434.0  146033.0    5339.0         8181.0   \n",
       "3  2017-11-13T11:00:04.000Z   343168.0   10172.0     666.0         2146.0   \n",
       "4  2017-11-12T18:01:41.000Z  2095731.0  132235.0    1989.0        17518.0   \n",
       "\n",
       "                                   thumbnail_link comments_disabled  \\\n",
       "0  https://i.ytimg.com/vi/2kyS6SvSYSE/default.jpg             False   \n",
       "1  https://i.ytimg.com/vi/1ZAPwfrtAFY/default.jpg             False   \n",
       "2  https://i.ytimg.com/vi/5qpjK5DgCt4/default.jpg             False   \n",
       "3  https://i.ytimg.com/vi/puqaWrEC7tY/default.jpg             False   \n",
       "4  https://i.ytimg.com/vi/d380meD0W0M/default.jpg             False   \n",
       "\n",
       "  ratings_disabled video_error_or_removed  \\\n",
       "0            False                  False   \n",
       "1            False                  False   \n",
       "2            False                  False   \n",
       "3            False                  False   \n",
       "4            False                  False   \n",
       "\n",
       "                                         description country  \\\n",
       "0  SHANTELL'S CHANNEL - https://www.youtube.com/s...      US   \n",
       "1  One year after the presidential election, John...      US   \n",
       "2  WATCH MY PREVIOUS VIDEO ▶ \\n\\nSUBSCRIBE ► http...      US   \n",
       "3  Today we find out if Link is a Nickelback amat...      US   \n",
       "4  I know it's been a while since we did this sho...      US   \n",
       "\n",
       "                                                tags  category_id  \n",
       "0                                 ,'shantell martin'        804.0  \n",
       "1  ,'last week tonight trump presidency','last we...        806.0  \n",
       "2  ,'racist superman','rudy','mancuso','king','ba...        805.0  \n",
       "3  ,'rhett and link','gmm','good mythical morning...        806.0  \n",
       "4  ,'ryan','higa','higatv','nigahiga','i dare you...        806.0  "
      ]
     },
     "execution_count": 104,
     "metadata": {},
     "output_type": "execute_result"
    }
   ],
   "source": [
    "usa = pd.read_csv('USvideos.csv', sep=';')\n",
    "usa.head()"
   ]
  },
  {
   "cell_type": "markdown",
   "metadata": {},
   "source": [
    "*The next table shows what kind of data describes each video in dataset:*"
   ]
  },
  {
   "cell_type": "code",
   "execution_count": 195,
   "metadata": {},
   "outputs": [
    {
     "data": {
      "text/html": [
       "<div>\n",
       "<style scoped>\n",
       "    .dataframe tbody tr th:only-of-type {\n",
       "        vertical-align: middle;\n",
       "    }\n",
       "\n",
       "    .dataframe tbody tr th {\n",
       "        vertical-align: top;\n",
       "    }\n",
       "\n",
       "    .dataframe thead th {\n",
       "        text-align: right;\n",
       "    }\n",
       "</style>\n",
       "<table border=\"1\" class=\"dataframe\">\n",
       "  <thead>\n",
       "    <tr style=\"text-align: right;\">\n",
       "      <th></th>\n",
       "      <th>0</th>\n",
       "    </tr>\n",
       "  </thead>\n",
       "  <tbody>\n",
       "    <tr>\n",
       "      <th>video_id</th>\n",
       "      <td>2kyS6SvSYSE</td>\n",
       "    </tr>\n",
       "    <tr>\n",
       "      <th>trending_date</th>\n",
       "      <td>17.14.11</td>\n",
       "    </tr>\n",
       "    <tr>\n",
       "      <th>title</th>\n",
       "      <td>WE WANT TO TALK ABOUT OUR MARRIAGE</td>\n",
       "    </tr>\n",
       "    <tr>\n",
       "      <th>channel_title</th>\n",
       "      <td>CaseyNeistat</td>\n",
       "    </tr>\n",
       "    <tr>\n",
       "      <th>publish_time</th>\n",
       "      <td>2017-11-13 17:13:01</td>\n",
       "    </tr>\n",
       "    <tr>\n",
       "      <th>views</th>\n",
       "      <td>748374</td>\n",
       "    </tr>\n",
       "    <tr>\n",
       "      <th>likes</th>\n",
       "      <td>57527</td>\n",
       "    </tr>\n",
       "    <tr>\n",
       "      <th>dislikes</th>\n",
       "      <td>2966</td>\n",
       "    </tr>\n",
       "    <tr>\n",
       "      <th>comment_count</th>\n",
       "      <td>15954</td>\n",
       "    </tr>\n",
       "    <tr>\n",
       "      <th>thumbnail_link</th>\n",
       "      <td>https://i.ytimg.com/vi/2kyS6SvSYSE/default.jpg</td>\n",
       "    </tr>\n",
       "    <tr>\n",
       "      <th>comments_disabled</th>\n",
       "      <td>False</td>\n",
       "    </tr>\n",
       "    <tr>\n",
       "      <th>ratings_disabled</th>\n",
       "      <td>False</td>\n",
       "    </tr>\n",
       "    <tr>\n",
       "      <th>video_error_or_removed</th>\n",
       "      <td>False</td>\n",
       "    </tr>\n",
       "    <tr>\n",
       "      <th>description</th>\n",
       "      <td>SHANTELL'S CHANNEL - https://www.youtube.com/s...</td>\n",
       "    </tr>\n",
       "    <tr>\n",
       "      <th>country</th>\n",
       "      <td>US</td>\n",
       "    </tr>\n",
       "    <tr>\n",
       "      <th>tags</th>\n",
       "      <td>,'shantell martin'</td>\n",
       "    </tr>\n",
       "    <tr>\n",
       "      <th>category_id</th>\n",
       "      <td>804</td>\n",
       "    </tr>\n",
       "  </tbody>\n",
       "</table>\n",
       "</div>"
      ],
      "text/plain": [
       "                                                                        0\n",
       "video_id                                                      2kyS6SvSYSE\n",
       "trending_date                                                    17.14.11\n",
       "title                                  WE WANT TO TALK ABOUT OUR MARRIAGE\n",
       "channel_title                                                CaseyNeistat\n",
       "publish_time                                          2017-11-13 17:13:01\n",
       "views                                                              748374\n",
       "likes                                                               57527\n",
       "dislikes                                                             2966\n",
       "comment_count                                                       15954\n",
       "thumbnail_link             https://i.ytimg.com/vi/2kyS6SvSYSE/default.jpg\n",
       "comments_disabled                                                   False\n",
       "ratings_disabled                                                    False\n",
       "video_error_or_removed                                              False\n",
       "description             SHANTELL'S CHANNEL - https://www.youtube.com/s...\n",
       "country                                                                US\n",
       "tags                                                   ,'shantell martin'\n",
       "category_id                                                           804"
      ]
     },
     "execution_count": 195,
     "metadata": {},
     "output_type": "execute_result"
    }
   ],
   "source": [
    "usa.head(1).transpose()"
   ]
  },
  {
   "cell_type": "markdown",
   "metadata": {},
   "source": [
    "##### Shape of our Dataset"
   ]
  },
  {
   "cell_type": "code",
   "execution_count": 4,
   "metadata": {},
   "outputs": [
    {
     "data": {
      "text/plain": [
       "(46978, 17)"
      ]
     },
     "execution_count": 4,
     "metadata": {},
     "output_type": "execute_result"
    }
   ],
   "source": [
    "usa.shape"
   ]
  },
  {
   "cell_type": "markdown",
   "metadata": {},
   "source": [
    "*Dataset consist of **46 978** rows and **17** columns.*"
   ]
  },
  {
   "cell_type": "markdown",
   "metadata": {},
   "source": [
    "##### The names of all columns in this dataset"
   ]
  },
  {
   "cell_type": "code",
   "execution_count": 14,
   "metadata": {},
   "outputs": [
    {
     "data": {
      "text/plain": [
       "Index(['video_id', 'trending_date', 'title', 'channel_title', 'publish_time',\n",
       "       'views', 'likes', 'dislikes', 'comment_count', 'thumbnail_link',\n",
       "       'comments_disabled', 'ratings_disabled', 'video_error_or_removed',\n",
       "       'description', 'country', 'tags', 'category_id'],\n",
       "      dtype='object')"
      ]
     },
     "execution_count": 14,
     "metadata": {},
     "output_type": "execute_result"
    }
   ],
   "source": [
    "usa.columns"
   ]
  },
  {
   "cell_type": "markdown",
   "metadata": {},
   "source": [
    "##### Unique videos in a dataset"
   ]
  },
  {
   "cell_type": "code",
   "execution_count": 123,
   "metadata": {},
   "outputs": [
    {
     "data": {
      "text/plain": [
       "6828"
      ]
     },
     "execution_count": 123,
     "metadata": {},
     "output_type": "execute_result"
    }
   ],
   "source": [
    "count_of_unique_videos_usa = usa['video_id'].unique().shape[0]\n",
    "count_of_unique_videos_usa"
   ]
  },
  {
   "cell_type": "markdown",
   "metadata": {},
   "source": [
    "*USA dateset contains **6828** unique videos*"
   ]
  },
  {
   "cell_type": "markdown",
   "metadata": {},
   "source": [
    "## Column Data types (USA)"
   ]
  },
  {
   "cell_type": "code",
   "execution_count": 105,
   "metadata": {},
   "outputs": [
    {
     "data": {
      "text/plain": [
       "video_id                   object\n",
       "trending_date              object\n",
       "title                      object\n",
       "channel_title              object\n",
       "publish_time               object\n",
       "views                     float64\n",
       "likes                     float64\n",
       "dislikes                  float64\n",
       "comment_count             float64\n",
       "thumbnail_link             object\n",
       "comments_disabled          object\n",
       "ratings_disabled           object\n",
       "video_error_or_removed     object\n",
       "description                object\n",
       "country                    object\n",
       "tags                       object\n",
       "category_id               float64\n",
       "dtype: object"
      ]
     },
     "execution_count": 105,
     "metadata": {},
     "output_type": "execute_result"
    }
   ],
   "source": [
    "usa.dtypes"
   ]
  },
  {
   "cell_type": "markdown",
   "metadata": {},
   "source": [
    "*Columns like 'views', 'likes', 'dislikes' and 'comment_count' only need INT data type, instead of FLOAT in order to save memory, which is important if working with huge datasets.*"
   ]
  },
  {
   "cell_type": "markdown",
   "metadata": {},
   "source": [
    "*We also want to change Data Types for **'trending_date'** and **'publish_time'**, so we can make analysis with them*"
   ]
  },
  {
   "cell_type": "code",
   "execution_count": 112,
   "metadata": {},
   "outputs": [],
   "source": [
    "column_datatypes_to_change = ['views', 'likes', 'dislikes', 'comment_count']\n",
    "for column in column_datatypes_to_change:\n",
    "    usa[column] = usa[column].astype(int)"
   ]
  },
  {
   "cell_type": "code",
   "execution_count": 117,
   "metadata": {},
   "outputs": [],
   "source": [
    "usa['trending_date'] = pd.to_datetime(usa['trending_date'],errors='coerce', format='%y.%d.%m')"
   ]
  },
  {
   "cell_type": "code",
   "execution_count": 114,
   "metadata": {},
   "outputs": [],
   "source": [
    "usa['publish_time'] = pd.to_datetime(usa['publish_time'], format='%Y-%m-%dT%H:%M:%S.%fZ')"
   ]
  },
  {
   "cell_type": "code",
   "execution_count": 128,
   "metadata": {},
   "outputs": [
    {
     "data": {
      "text/plain": [
       "video_id                          object\n",
       "trending_date             datetime64[ns]\n",
       "title                             object\n",
       "channel_title                     object\n",
       "publish_time              datetime64[ns]\n",
       "views                              int32\n",
       "likes                              int32\n",
       "dislikes                           int32\n",
       "comment_count                      int32\n",
       "thumbnail_link                    object\n",
       "comments_disabled                 object\n",
       "ratings_disabled                  object\n",
       "video_error_or_removed            object\n",
       "description                       object\n",
       "country                           object\n",
       "tags                              object\n",
       "category_id                      float64\n",
       "dtype: object"
      ]
     },
     "execution_count": 128,
     "metadata": {},
     "output_type": "execute_result"
    }
   ],
   "source": [
    "usa.dtypes"
   ]
  },
  {
   "cell_type": "code",
   "execution_count": null,
   "metadata": {},
   "outputs": [],
   "source": []
  },
  {
   "cell_type": "markdown",
   "metadata": {},
   "source": [
    "## Missing data (USA)"
   ]
  },
  {
   "cell_type": "markdown",
   "metadata": {},
   "source": [
    "*First of all, I want to know how much missing date (Null values) is in each of the columns.*"
   ]
  },
  {
   "cell_type": "code",
   "execution_count": 146,
   "metadata": {},
   "outputs": [
    {
     "name": "stdout",
     "output_type": "stream",
     "text": [
      "Column 'video_id' null rate: 0.0%\n",
      "Column 'trending_date' null rate: 12.93%\n",
      "Column 'title' null rate: 10.48%\n",
      "Column 'channel_title' null rate: 10.85%\n",
      "Column 'publish_time' null rate: 12.93%\n",
      "Column 'views' null rate: 0.0%\n",
      "Column 'likes' null rate: 0.0%\n",
      "Column 'dislikes' null rate: 0.0%\n",
      "Column 'comment_count' null rate: 0.0%\n",
      "Column 'thumbnail_link' null rate: 12.93%\n",
      "Column 'comments_disabled' null rate: 12.93%\n",
      "Column 'ratings_disabled' null rate: 12.93%\n",
      "Column 'video_error_or_removed' null rate: 12.93%\n",
      "Column 'description' null rate: 14.15%\n",
      "Column 'country' null rate: 15.39%\n",
      "Column 'tags' null rate: 15.39%\n",
      "Column 'category_id' null rate: 19.36%\n"
     ]
    }
   ],
   "source": [
    "for i in usa.columns:\n",
    "    null_rate = usa[i].isna().sum()/len(usa)*100\n",
    "    if null_rate >= 0:\n",
    "        print(\"Column '{}' null rate: {}%\".format(i,round(null_rate,2)))"
   ]
  },
  {
   "cell_type": "markdown",
   "metadata": {},
   "source": [
    "*Column 'category_id' has the most missing values - almost the **fifth part** is missing."
   ]
  },
  {
   "cell_type": "code",
   "execution_count": 123,
   "metadata": {},
   "outputs": [
    {
     "data": {
      "text/plain": [
       "video_id                     0\n",
       "trending_date             4923\n",
       "title                     4923\n",
       "channel_title             5097\n",
       "publish_time              6076\n",
       "views                     6076\n",
       "likes                     6076\n",
       "dislikes                  6076\n",
       "comment_count             6076\n",
       "thumbnail_link            6076\n",
       "comments_disabled         6076\n",
       "ratings_disabled          6076\n",
       "video_error_or_removed    6076\n",
       "description               6646\n",
       "country                   7229\n",
       "tags                      7229\n",
       "category_id               9095\n",
       "dtype: int64"
      ]
     },
     "execution_count": 123,
     "metadata": {},
     "output_type": "execute_result"
    }
   ],
   "source": [
    "usa.isnull().sum()"
   ]
  },
  {
   "cell_type": "markdown",
   "metadata": {},
   "source": [
    "*We can see that all columns (except **'video_id'**) contains couple thousands of NULL values. There are no 1 right way to deal with them. In order to make the best desicion it's important to understand well the dataset we are working with.*"
   ]
  },
  {
   "cell_type": "markdown",
   "metadata": {},
   "source": [
    "*Since I want to do analysis on columns **Views**, **Likes,** **Dislikes** and **Comment_count**, we have to get rid of missing values in these columns. We could replace missing values with average values in each column, but this time I think we can replace NaN values with 0 as well."
   ]
  },
  {
   "cell_type": "code",
   "execution_count": 107,
   "metadata": {},
   "outputs": [],
   "source": [
    "usa['views'] = usa['views'].fillna(0)"
   ]
  },
  {
   "cell_type": "code",
   "execution_count": 108,
   "metadata": {},
   "outputs": [],
   "source": [
    "usa['likes'] = usa['likes'].fillna(0)"
   ]
  },
  {
   "cell_type": "code",
   "execution_count": 109,
   "metadata": {},
   "outputs": [],
   "source": [
    "usa['dislikes'] = usa['dislikes'].fillna(0)"
   ]
  },
  {
   "cell_type": "code",
   "execution_count": 110,
   "metadata": {},
   "outputs": [],
   "source": [
    "usa['comment_count'] = usa['comment_count'].fillna(0)"
   ]
  },
  {
   "cell_type": "code",
   "execution_count": 111,
   "metadata": {},
   "outputs": [
    {
     "data": {
      "text/plain": [
       "video_id                     0\n",
       "trending_date             4923\n",
       "title                     4923\n",
       "channel_title             5097\n",
       "publish_time              6076\n",
       "views                        0\n",
       "likes                        0\n",
       "dislikes                     0\n",
       "comment_count                0\n",
       "thumbnail_link            6076\n",
       "comments_disabled         6076\n",
       "ratings_disabled          6076\n",
       "video_error_or_removed    6076\n",
       "description               6646\n",
       "country                   7229\n",
       "tags                      7229\n",
       "category_id               9095\n",
       "dtype: int64"
      ]
     },
     "execution_count": 111,
     "metadata": {},
     "output_type": "execute_result"
    }
   ],
   "source": [
    "usa.isnull().sum()"
   ]
  },
  {
   "cell_type": "markdown",
   "metadata": {},
   "source": [
    "*Now neither of the mentioned columns has NULL values.*"
   ]
  },
  {
   "cell_type": "markdown",
   "metadata": {},
   "source": [
    "### Disabled Comments, Ratings & Errors"
   ]
  },
  {
   "cell_type": "markdown",
   "metadata": {},
   "source": [
    "*Since we got column named **video_error_or_removed** we can learn how many trending videos had an error or they were removed*"
   ]
  },
  {
   "cell_type": "code",
   "execution_count": 271,
   "metadata": {},
   "outputs": [
    {
     "data": {
      "text/plain": [
       "False    40879\n",
       "True        23\n",
       "Name: video_error_or_removed, dtype: int64"
      ]
     },
     "execution_count": 271,
     "metadata": {},
     "output_type": "execute_result"
    }
   ],
   "source": [
    "usa[\"video_error_or_removed\"].value_counts()"
   ]
  },
  {
   "cell_type": "markdown",
   "metadata": {},
   "source": [
    "*Out of videos that appeared on trending list (40 879) only **23** videos had errors or they were removed.*"
   ]
  },
  {
   "cell_type": "markdown",
   "metadata": {},
   "source": [
    "We can also find out how many videos had their comments disabled since we have a column called **comments_disabled**."
   ]
  },
  {
   "cell_type": "code",
   "execution_count": 273,
   "metadata": {},
   "outputs": [
    {
     "data": {
      "text/plain": [
       "False    40269\n",
       "True       633\n",
       "Name: comments_disabled, dtype: int64"
      ]
     },
     "execution_count": 273,
     "metadata": {},
     "output_type": "execute_result"
    }
   ],
   "source": [
    "usa[\"comments_disabled\"].value_counts()"
   ]
  },
  {
   "cell_type": "markdown",
   "metadata": {},
   "source": [
    "*Only **633** videos had their comments disabled which is **1,5%** of all videos (as seen in code below)."
   ]
  },
  {
   "cell_type": "code",
   "execution_count": 274,
   "metadata": {},
   "outputs": [
    {
     "data": {
      "text/plain": [
       "False    0.984524\n",
       "True     0.015476\n",
       "Name: comments_disabled, dtype: float64"
      ]
     },
     "execution_count": 274,
     "metadata": {},
     "output_type": "execute_result"
    }
   ],
   "source": [
    "usa[\"comments_disabled\"].value_counts(normalize=True)"
   ]
  },
  {
   "cell_type": "markdown",
   "metadata": {},
   "source": [
    "*Similar situation with videos that had their ratings disabled (use **ratings_disabled** column)*"
   ]
  },
  {
   "cell_type": "code",
   "execution_count": 275,
   "metadata": {},
   "outputs": [
    {
     "data": {
      "text/plain": [
       "False    40733\n",
       "True       169\n",
       "Name: ratings_disabled, dtype: int64"
      ]
     },
     "execution_count": 275,
     "metadata": {},
     "output_type": "execute_result"
    }
   ],
   "source": [
    "usa[\"ratings_disabled\"].value_counts()"
   ]
  },
  {
   "cell_type": "markdown",
   "metadata": {},
   "source": [
    "*Again, only a small portion **(169)** of all videos had their ratings disabled.*"
   ]
  },
  {
   "cell_type": "markdown",
   "metadata": {},
   "source": [
    "### Top Categories (USA)"
   ]
  },
  {
   "cell_type": "code",
   "execution_count": 269,
   "metadata": {},
   "outputs": [
    {
     "data": {
      "text/plain": [
       "806.0    9454\n",
       "600.0    6454\n",
       "805.0    3451\n",
       "804.0    3166\n",
       "102.0    2448\n",
       "         ... \n",
       "544.0       2\n",
       "542.0       2\n",
       "418.0       1\n",
       "448.0       1\n",
       "497.0       1\n",
       "Name: category_id, Length: 116, dtype: int64"
      ]
     },
     "execution_count": 269,
     "metadata": {},
     "output_type": "execute_result"
    }
   ],
   "source": [
    "usa['category_id'].value_counts().head(120)"
   ]
  },
  {
   "cell_type": "markdown",
   "metadata": {},
   "source": [
    "*There are several options to determine the most popular categories. This time I will use Loc function to categorize videos in to categories based on file **categories.csv**.*"
   ]
  },
  {
   "cell_type": "code",
   "execution_count": 129,
   "metadata": {},
   "outputs": [
    {
     "data": {
      "text/html": [
       "<div>\n",
       "<style scoped>\n",
       "    .dataframe tbody tr th:only-of-type {\n",
       "        vertical-align: middle;\n",
       "    }\n",
       "\n",
       "    .dataframe tbody tr th {\n",
       "        vertical-align: top;\n",
       "    }\n",
       "\n",
       "    .dataframe thead th {\n",
       "        text-align: right;\n",
       "    }\n",
       "</style>\n",
       "<table border=\"1\" class=\"dataframe\">\n",
       "  <thead>\n",
       "    <tr style=\"text-align: right;\">\n",
       "      <th></th>\n",
       "      <th>category_id</th>\n",
       "      <th>category_id_lvl_0</th>\n",
       "      <th>category_id_lvl_1</th>\n",
       "      <th>category_id_lvl_2</th>\n",
       "      <th>category_title_lvl_0</th>\n",
       "      <th>category_title_lvl_1</th>\n",
       "      <th>category_title_lvl_2</th>\n",
       "    </tr>\n",
       "  </thead>\n",
       "  <tbody>\n",
       "    <tr>\n",
       "      <th>0</th>\n",
       "      <td>101</td>\n",
       "      <td>100</td>\n",
       "      <td>101.0</td>\n",
       "      <td>NaN</td>\n",
       "      <td>Politics &amp; Nonprofits</td>\n",
       "      <td>Nonprofits &amp; Activism</td>\n",
       "      <td>NaN</td>\n",
       "    </tr>\n",
       "    <tr>\n",
       "      <th>1</th>\n",
       "      <td>102</td>\n",
       "      <td>100</td>\n",
       "      <td>102.0</td>\n",
       "      <td>NaN</td>\n",
       "      <td>Politics &amp; Nonprofits</td>\n",
       "      <td>News &amp; Politics</td>\n",
       "      <td>NaN</td>\n",
       "    </tr>\n",
       "    <tr>\n",
       "      <th>2</th>\n",
       "      <td>201</td>\n",
       "      <td>200</td>\n",
       "      <td>201.0</td>\n",
       "      <td>NaN</td>\n",
       "      <td>Cinema</td>\n",
       "      <td>Film &amp; Animation</td>\n",
       "      <td>NaN</td>\n",
       "    </tr>\n",
       "    <tr>\n",
       "      <th>3</th>\n",
       "      <td>202</td>\n",
       "      <td>200</td>\n",
       "      <td>202.0</td>\n",
       "      <td>NaN</td>\n",
       "      <td>Cinema</td>\n",
       "      <td>Trailers</td>\n",
       "      <td>NaN</td>\n",
       "    </tr>\n",
       "    <tr>\n",
       "      <th>4</th>\n",
       "      <td>203</td>\n",
       "      <td>200</td>\n",
       "      <td>203.0</td>\n",
       "      <td>NaN</td>\n",
       "      <td>Cinema</td>\n",
       "      <td>Full Movies</td>\n",
       "      <td>NaN</td>\n",
       "    </tr>\n",
       "  </tbody>\n",
       "</table>\n",
       "</div>"
      ],
      "text/plain": [
       "   category_id  category_id_lvl_0  category_id_lvl_1  category_id_lvl_2  \\\n",
       "0          101                100              101.0                NaN   \n",
       "1          102                100              102.0                NaN   \n",
       "2          201                200              201.0                NaN   \n",
       "3          202                200              202.0                NaN   \n",
       "4          203                200              203.0                NaN   \n",
       "\n",
       "    category_title_lvl_0   category_title_lvl_1 category_title_lvl_2  \n",
       "0  Politics & Nonprofits  Nonprofits & Activism                  NaN  \n",
       "1  Politics & Nonprofits        News & Politics                  NaN  \n",
       "2                 Cinema       Film & Animation                  NaN  \n",
       "3                 Cinema               Trailers                  NaN  \n",
       "4                 Cinema            Full Movies                  NaN  "
      ]
     },
     "execution_count": 129,
     "metadata": {},
     "output_type": "execute_result"
    }
   ],
   "source": [
    "categories = pd.read_csv('categories.csv', sep=';')\n",
    "categories.head()"
   ]
  },
  {
   "cell_type": "code",
   "execution_count": 109,
   "metadata": {},
   "outputs": [
    {
     "data": {
      "image/png": "[encoded data removed]",
      "text/plain": [
       "<Figure size 432x288 with 1 Axes>"
      ]
     },
     "metadata": {},
     "output_type": "display_data"
    }
   ],
   "source": [
    "# Based on data that is found in categories.csv we can found out the distribution of videos by Categories\n",
    "\n",
    "politics = usa.loc[(usa.category_id >= 100) & (usa.category_id <= 102)].count()[0]\n",
    "cinema = usa.loc[(usa.category_id >= 200) & (usa.category_id <= 204)].count()[0]\n",
    "education = usa.loc[(usa.category_id >= 300) & (usa.category_id <= 302)].count()[0]\n",
    "diy_and_beauty = usa.loc[(usa.category_id >= 400) & (usa.category_id <= 497)].count()[0]\n",
    "travel_and_events = usa.loc[(usa.category_id >= 500) & (usa.category_id <= 551)].count()[0]\n",
    "music = usa.loc[(usa.category_id >= 600) & (usa.category_id <= 600)].count()[0]\n",
    "animals = usa.loc[(usa.category_id >= 700) & (usa.category_id <= 700)].count()[0]\n",
    "entertainment = usa.loc[(usa.category_id >= 800) & (usa.category_id <= 806)].count()[0]\n",
    "\n",
    "categories = [politics, cinema, education, diy_and_beauty, travel_and_events, music, animals, entertainment]\n",
    "explode = [0,.4,0,.25,.25,0,.5,0]\n",
    "colors = ['magenta', 'cyan', 'pink', 'salmon', 'khaki', 'lightblue', 'lightgreen', 'orange']\n",
    "labels = ['Politics', 'Cinema', 'Education', 'DIY&Beauty', 'Travel&Events', 'Music', 'Animals', 'Entertainment']\n",
    "\n",
    "#plt.title('Distribution of videos by Categories!')\n",
    "\n",
    "plt.pie(categories, labels=labels, radius=3, colors=colors, autopct='%.2f %%', pctdistance=0.8, explode=explode)\n",
    "plt.show()"
   ]
  },
  {
   "cell_type": "markdown",
   "metadata": {},
   "source": [
    "*In the Pie Chart above we see that when looking at USA dateset Entertainment category contains the largest number of trending videos among other categories (**50,85%** or ~ 20 000 videos), followed by Music category (**17,04%** or ~ 6 500 videos), followed by Education category (**10,51%** or 4 000 videos), and so on.*"
   ]
  },
  {
   "cell_type": "markdown",
   "metadata": {},
   "source": [
    "## Views of the videos (USA)"
   ]
  },
  {
   "cell_type": "markdown",
   "metadata": {},
   "source": [
    "#### A trending video with the fewest views (excluding those with 0 views)"
   ]
  },
  {
   "cell_type": "code",
   "execution_count": 116,
   "metadata": {},
   "outputs": [
    {
     "data": {
      "text/html": [
       "<div>\n",
       "<style scoped>\n",
       "    .dataframe tbody tr th:only-of-type {\n",
       "        vertical-align: middle;\n",
       "    }\n",
       "\n",
       "    .dataframe tbody tr th {\n",
       "        vertical-align: top;\n",
       "    }\n",
       "\n",
       "    .dataframe thead th {\n",
       "        text-align: right;\n",
       "    }\n",
       "</style>\n",
       "<table border=\"1\" class=\"dataframe\">\n",
       "  <thead>\n",
       "    <tr style=\"text-align: right;\">\n",
       "      <th></th>\n",
       "      <th>16285</th>\n",
       "    </tr>\n",
       "  </thead>\n",
       "  <tbody>\n",
       "    <tr>\n",
       "      <th>video_id</th>\n",
       "      <td>y6KYFcta4SE</td>\n",
       "    </tr>\n",
       "    <tr>\n",
       "      <th>trending_date</th>\n",
       "      <td>18.26.01</td>\n",
       "    </tr>\n",
       "    <tr>\n",
       "      <th>title</th>\n",
       "      <td>1 dead, others injured after Ky. school shooting</td>\n",
       "    </tr>\n",
       "    <tr>\n",
       "      <th>channel_title</th>\n",
       "      <td>Newsy</td>\n",
       "    </tr>\n",
       "    <tr>\n",
       "      <th>publish_time</th>\n",
       "      <td>2018-01-23T15:30:01.000Z</td>\n",
       "    </tr>\n",
       "    <tr>\n",
       "      <th>views</th>\n",
       "      <td>549</td>\n",
       "    </tr>\n",
       "    <tr>\n",
       "      <th>likes</th>\n",
       "      <td>9</td>\n",
       "    </tr>\n",
       "    <tr>\n",
       "      <th>dislikes</th>\n",
       "      <td>0</td>\n",
       "    </tr>\n",
       "    <tr>\n",
       "      <th>comment_count</th>\n",
       "      <td>5</td>\n",
       "    </tr>\n",
       "    <tr>\n",
       "      <th>thumbnail_link</th>\n",
       "      <td>https://i.ytimg.com/vi/y6KYFcta4SE/default.jpg</td>\n",
       "    </tr>\n",
       "    <tr>\n",
       "      <th>comments_disabled</th>\n",
       "      <td>False</td>\n",
       "    </tr>\n",
       "    <tr>\n",
       "      <th>ratings_disabled</th>\n",
       "      <td>False</td>\n",
       "    </tr>\n",
       "    <tr>\n",
       "      <th>video_error_or_removed</th>\n",
       "      <td>False</td>\n",
       "    </tr>\n",
       "    <tr>\n",
       "      <th>description</th>\n",
       "      <td>Kentucky Gov. Matt Bevin confirmed there was a...</td>\n",
       "    </tr>\n",
       "    <tr>\n",
       "      <th>country</th>\n",
       "      <td>US</td>\n",
       "    </tr>\n",
       "    <tr>\n",
       "      <th>tags</th>\n",
       "      <td>,'shooting','kentucky','breaking news','u.s. n...</td>\n",
       "    </tr>\n",
       "    <tr>\n",
       "      <th>category_id</th>\n",
       "      <td>102</td>\n",
       "    </tr>\n",
       "  </tbody>\n",
       "</table>\n",
       "</div>"
      ],
      "text/plain": [
       "                                                                    16285\n",
       "video_id                                                      y6KYFcta4SE\n",
       "trending_date                                                    18.26.01\n",
       "title                    1 dead, others injured after Ky. school shooting\n",
       "channel_title                                                       Newsy\n",
       "publish_time                                     2018-01-23T15:30:01.000Z\n",
       "views                                                                 549\n",
       "likes                                                                   9\n",
       "dislikes                                                                0\n",
       "comment_count                                                           5\n",
       "thumbnail_link             https://i.ytimg.com/vi/y6KYFcta4SE/default.jpg\n",
       "comments_disabled                                                   False\n",
       "ratings_disabled                                                    False\n",
       "video_error_or_removed                                              False\n",
       "description             Kentucky Gov. Matt Bevin confirmed there was a...\n",
       "country                                                                US\n",
       "tags                    ,'shooting','kentucky','breaking news','u.s. n...\n",
       "category_id                                                           102"
      ]
     },
     "execution_count": 116,
     "metadata": {},
     "output_type": "execute_result"
    }
   ],
   "source": [
    "usa[usa['views'] == usa['views'].min()].transpose()"
   ]
  },
  {
   "cell_type": "markdown",
   "metadata": {},
   "source": [
    "*Video with the **LEAST** views is called \"1 dead, others injured after Ky. school shooting\" from channel \"Newsy\" which had accumulated **549** views.*"
   ]
  },
  {
   "cell_type": "markdown",
   "metadata": {},
   "source": [
    "*TOP 5 trending videos with the **LEAST** Views - excluding those with 0 views*"
   ]
  },
  {
   "cell_type": "code",
   "execution_count": 244,
   "metadata": {},
   "outputs": [
    {
     "data": {
      "text/html": [
       "<div>\n",
       "<style scoped>\n",
       "    .dataframe tbody tr th:only-of-type {\n",
       "        vertical-align: middle;\n",
       "    }\n",
       "\n",
       "    .dataframe tbody tr th {\n",
       "        vertical-align: top;\n",
       "    }\n",
       "\n",
       "    .dataframe thead th {\n",
       "        text-align: right;\n",
       "    }\n",
       "</style>\n",
       "<table border=\"1\" class=\"dataframe\">\n",
       "  <thead>\n",
       "    <tr style=\"text-align: right;\">\n",
       "      <th></th>\n",
       "      <th>video_id</th>\n",
       "      <th>trending_date</th>\n",
       "      <th>title</th>\n",
       "      <th>channel_title</th>\n",
       "      <th>publish_time</th>\n",
       "      <th>views</th>\n",
       "      <th>likes</th>\n",
       "      <th>dislikes</th>\n",
       "      <th>comment_count</th>\n",
       "      <th>thumbnail_link</th>\n",
       "      <th>comments_disabled</th>\n",
       "      <th>ratings_disabled</th>\n",
       "      <th>video_error_or_removed</th>\n",
       "      <th>description</th>\n",
       "      <th>country</th>\n",
       "      <th>tags</th>\n",
       "      <th>category_id</th>\n",
       "    </tr>\n",
       "  </thead>\n",
       "  <tbody>\n",
       "    <tr>\n",
       "      <th>16285</th>\n",
       "      <td>y6KYFcta4SE</td>\n",
       "      <td>18.26.01</td>\n",
       "      <td>1 dead, others injured after Ky. school shooting</td>\n",
       "      <td>Newsy</td>\n",
       "      <td>2018-01-23 15:30:01</td>\n",
       "      <td>549</td>\n",
       "      <td>9</td>\n",
       "      <td>0</td>\n",
       "      <td>5</td>\n",
       "      <td>https://i.ytimg.com/vi/y6KYFcta4SE/default.jpg</td>\n",
       "      <td>False</td>\n",
       "      <td>False</td>\n",
       "      <td>False</td>\n",
       "      <td>Kentucky Gov. Matt Bevin confirmed there was a...</td>\n",
       "      <td>US</td>\n",
       "      <td>,'shooting','kentucky','breaking news','u.s. n...</td>\n",
       "      <td>102.0</td>\n",
       "    </tr>\n",
       "    <tr>\n",
       "      <th>16499</th>\n",
       "      <td>dQMZLXaa1L8</td>\n",
       "      <td>18.27.01</td>\n",
       "      <td>Artwork Forge</td>\n",
       "      <td>Palo Alto Online</td>\n",
       "      <td>2018-01-10 23:53:56</td>\n",
       "      <td>658</td>\n",
       "      <td>1</td>\n",
       "      <td>0</td>\n",
       "      <td>0</td>\n",
       "      <td>https://i.ytimg.com/vi/dQMZLXaa1L8/default.jpg</td>\n",
       "      <td>False</td>\n",
       "      <td>False</td>\n",
       "      <td>False</td>\n",
       "      <td>Artwork Forge II - an art installation created...</td>\n",
       "      <td>US</td>\n",
       "      <td>,'[none]'</td>\n",
       "      <td>802.0</td>\n",
       "    </tr>\n",
       "    <tr>\n",
       "      <th>687</th>\n",
       "      <td>-JVITToppE0</td>\n",
       "      <td>17.16.11</td>\n",
       "      <td>Coach Taggart Monday Presser Ahead of Arizona</td>\n",
       "      <td>GoDucksdotcom</td>\n",
       "      <td>2017-11-13 20:41:45</td>\n",
       "      <td>687</td>\n",
       "      <td>10</td>\n",
       "      <td>2</td>\n",
       "      <td>5</td>\n",
       "      <td>https://i.ytimg.com/vi/-JVITToppE0/default.jpg</td>\n",
       "      <td>False</td>\n",
       "      <td>False</td>\n",
       "      <td>False</td>\n",
       "      <td>Coach Taggart addresses the media ahead of the...</td>\n",
       "      <td>US</td>\n",
       "      <td>,'oregon','ducks','college athletics','college...</td>\n",
       "      <td>802.0</td>\n",
       "    </tr>\n",
       "    <tr>\n",
       "      <th>14504</th>\n",
       "      <td>zeQaJGkFyqQ</td>\n",
       "      <td>18.18.01</td>\n",
       "      <td>Raw: 3 South Carolina Deputies, 1 Officer Shot</td>\n",
       "      <td>Associated Press</td>\n",
       "      <td>2018-01-16 12:16:44</td>\n",
       "      <td>748</td>\n",
       "      <td>9</td>\n",
       "      <td>0</td>\n",
       "      <td>0</td>\n",
       "      <td>https://i.ytimg.com/vi/zeQaJGkFyqQ/default.jpg</td>\n",
       "      <td>True</td>\n",
       "      <td>False</td>\n",
       "      <td>False</td>\n",
       "      <td>Three deputies and one police officer were sho...</td>\n",
       "      <td>NaN</td>\n",
       "      <td>NaN</td>\n",
       "      <td>NaN</td>\n",
       "    </tr>\n",
       "    <tr>\n",
       "      <th>179</th>\n",
       "      <td>qg0GdM60syI</td>\n",
       "      <td>17.14.11</td>\n",
       "      <td>Huffy Metaloid Bicycle Commercial 1997</td>\n",
       "      <td>90s Commercials</td>\n",
       "      <td>2017-03-31 21:46:53</td>\n",
       "      <td>773</td>\n",
       "      <td>2</td>\n",
       "      <td>0</td>\n",
       "      <td>0</td>\n",
       "      <td>https://i.ytimg.com/vi/qg0GdM60syI/default.jpg</td>\n",
       "      <td>False</td>\n",
       "      <td>False</td>\n",
       "      <td>False</td>\n",
       "      <td>Anyone have one of those?</td>\n",
       "      <td>US</td>\n",
       "      <td>,'90s commercials','huffy'</td>\n",
       "      <td>302.0</td>\n",
       "    </tr>\n",
       "  </tbody>\n",
       "</table>\n",
       "</div>"
      ],
      "text/plain": [
       "          video_id trending_date  \\\n",
       "16285  y6KYFcta4SE      18.26.01   \n",
       "16499  dQMZLXaa1L8      18.27.01   \n",
       "687    -JVITToppE0      17.16.11   \n",
       "14504  zeQaJGkFyqQ      18.18.01   \n",
       "179    qg0GdM60syI      17.14.11   \n",
       "\n",
       "                                                  title     channel_title  \\\n",
       "16285  1 dead, others injured after Ky. school shooting             Newsy   \n",
       "16499                                     Artwork Forge  Palo Alto Online   \n",
       "687       Coach Taggart Monday Presser Ahead of Arizona     GoDucksdotcom   \n",
       "14504    Raw: 3 South Carolina Deputies, 1 Officer Shot  Associated Press   \n",
       "179              Huffy Metaloid Bicycle Commercial 1997   90s Commercials   \n",
       "\n",
       "             publish_time  views  likes  dislikes  comment_count  \\\n",
       "16285 2018-01-23 15:30:01    549      9         0              5   \n",
       "16499 2018-01-10 23:53:56    658      1         0              0   \n",
       "687   2017-11-13 20:41:45    687     10         2              5   \n",
       "14504 2018-01-16 12:16:44    748      9         0              0   \n",
       "179   2017-03-31 21:46:53    773      2         0              0   \n",
       "\n",
       "                                       thumbnail_link comments_disabled  \\\n",
       "16285  https://i.ytimg.com/vi/y6KYFcta4SE/default.jpg             False   \n",
       "16499  https://i.ytimg.com/vi/dQMZLXaa1L8/default.jpg             False   \n",
       "687    https://i.ytimg.com/vi/-JVITToppE0/default.jpg             False   \n",
       "14504  https://i.ytimg.com/vi/zeQaJGkFyqQ/default.jpg              True   \n",
       "179    https://i.ytimg.com/vi/qg0GdM60syI/default.jpg             False   \n",
       "\n",
       "      ratings_disabled video_error_or_removed  \\\n",
       "16285            False                  False   \n",
       "16499            False                  False   \n",
       "687              False                  False   \n",
       "14504            False                  False   \n",
       "179              False                  False   \n",
       "\n",
       "                                             description country  \\\n",
       "16285  Kentucky Gov. Matt Bevin confirmed there was a...      US   \n",
       "16499  Artwork Forge II - an art installation created...      US   \n",
       "687    Coach Taggart addresses the media ahead of the...      US   \n",
       "14504  Three deputies and one police officer were sho...     NaN   \n",
       "179                            Anyone have one of those?      US   \n",
       "\n",
       "                                                    tags  category_id  \n",
       "16285  ,'shooting','kentucky','breaking news','u.s. n...        102.0  \n",
       "16499                                          ,'[none]'        802.0  \n",
       "687    ,'oregon','ducks','college athletics','college...        802.0  \n",
       "14504                                                NaN          NaN  \n",
       "179                           ,'90s commercials','huffy'        302.0  "
      ]
     },
     "execution_count": 244,
     "metadata": {},
     "output_type": "execute_result"
    }
   ],
   "source": [
    "unique_videos_usa_least_views = (usa[usa['views'] > 0].sort_values(by='views', ascending=True)).drop_duplicates(subset=['video_id']).head(5)\n",
    "unique_videos_usa_least_views"
   ]
  },
  {
   "cell_type": "markdown",
   "metadata": {},
   "source": [
    "#### A trending video with the maximum number of views"
   ]
  },
  {
   "cell_type": "code",
   "execution_count": 118,
   "metadata": {},
   "outputs": [
    {
     "data": {
      "text/html": [
       "<div>\n",
       "<style scoped>\n",
       "    .dataframe tbody tr th:only-of-type {\n",
       "        vertical-align: middle;\n",
       "    }\n",
       "\n",
       "    .dataframe tbody tr th {\n",
       "        vertical-align: top;\n",
       "    }\n",
       "\n",
       "    .dataframe thead th {\n",
       "        text-align: right;\n",
       "    }\n",
       "</style>\n",
       "<table border=\"1\" class=\"dataframe\">\n",
       "  <thead>\n",
       "    <tr style=\"text-align: right;\">\n",
       "      <th></th>\n",
       "      <th>44424</th>\n",
       "    </tr>\n",
       "  </thead>\n",
       "  <tbody>\n",
       "    <tr>\n",
       "      <th>video_id</th>\n",
       "      <td>VYOjWnS4cMY</td>\n",
       "    </tr>\n",
       "    <tr>\n",
       "      <th>trending_date</th>\n",
       "      <td>18.02.06</td>\n",
       "    </tr>\n",
       "    <tr>\n",
       "      <th>title</th>\n",
       "      <td>Childish Gambino - This Is America (Official V...</td>\n",
       "    </tr>\n",
       "    <tr>\n",
       "      <th>channel_title</th>\n",
       "      <td>ChildishGambinoVEVO</td>\n",
       "    </tr>\n",
       "    <tr>\n",
       "      <th>publish_time</th>\n",
       "      <td>2018-05-06T04:00:07.000Z</td>\n",
       "    </tr>\n",
       "    <tr>\n",
       "      <th>views</th>\n",
       "      <td>2.25212e+08</td>\n",
       "    </tr>\n",
       "    <tr>\n",
       "      <th>likes</th>\n",
       "      <td>5.02345e+06</td>\n",
       "    </tr>\n",
       "    <tr>\n",
       "      <th>dislikes</th>\n",
       "      <td>343541</td>\n",
       "    </tr>\n",
       "    <tr>\n",
       "      <th>comment_count</th>\n",
       "      <td>517232</td>\n",
       "    </tr>\n",
       "    <tr>\n",
       "      <th>thumbnail_link</th>\n",
       "      <td>https://i.ytimg.com/vi/VYOjWnS4cMY/default.jpg</td>\n",
       "    </tr>\n",
       "    <tr>\n",
       "      <th>comments_disabled</th>\n",
       "      <td>False</td>\n",
       "    </tr>\n",
       "    <tr>\n",
       "      <th>ratings_disabled</th>\n",
       "      <td>False</td>\n",
       "    </tr>\n",
       "    <tr>\n",
       "      <th>video_error_or_removed</th>\n",
       "      <td>False</td>\n",
       "    </tr>\n",
       "    <tr>\n",
       "      <th>description</th>\n",
       "      <td>“This is America” by Childish Gambino http://s...</td>\n",
       "    </tr>\n",
       "    <tr>\n",
       "      <th>country</th>\n",
       "      <td>US</td>\n",
       "    </tr>\n",
       "    <tr>\n",
       "      <th>tags</th>\n",
       "      <td>,'childish gambino','rap','this is america','m...</td>\n",
       "    </tr>\n",
       "    <tr>\n",
       "      <th>category_id</th>\n",
       "      <td>600</td>\n",
       "    </tr>\n",
       "  </tbody>\n",
       "</table>\n",
       "</div>"
      ],
      "text/plain": [
       "                                                                    44424\n",
       "video_id                                                      VYOjWnS4cMY\n",
       "trending_date                                                    18.02.06\n",
       "title                   Childish Gambino - This Is America (Official V...\n",
       "channel_title                                         ChildishGambinoVEVO\n",
       "publish_time                                     2018-05-06T04:00:07.000Z\n",
       "views                                                         2.25212e+08\n",
       "likes                                                         5.02345e+06\n",
       "dislikes                                                           343541\n",
       "comment_count                                                      517232\n",
       "thumbnail_link             https://i.ytimg.com/vi/VYOjWnS4cMY/default.jpg\n",
       "comments_disabled                                                   False\n",
       "ratings_disabled                                                    False\n",
       "video_error_or_removed                                              False\n",
       "description             “This is America” by Childish Gambino http://s...\n",
       "country                                                                US\n",
       "tags                    ,'childish gambino','rap','this is america','m...\n",
       "category_id                                                           600"
      ]
     },
     "execution_count": 118,
     "metadata": {},
     "output_type": "execute_result"
    }
   ],
   "source": [
    "usa[usa['views'] == usa['views'].max()].transpose()"
   ]
  },
  {
   "cell_type": "markdown",
   "metadata": {},
   "source": [
    "*This view dont give us precise number of views for the most popular video, so we can found it with the code below.*"
   ]
  },
  {
   "cell_type": "code",
   "execution_count": 276,
   "metadata": {},
   "outputs": [
    {
     "data": {
      "text/plain": [
       "225211923"
      ]
     },
     "execution_count": 276,
     "metadata": {},
     "output_type": "execute_result"
    }
   ],
   "source": [
    "usa['views'].max()"
   ]
  },
  {
   "cell_type": "markdown",
   "metadata": {},
   "source": [
    "*Video with the **MOST** views is called \"Childish Gambino - This Is America (Official Video)\" from channel \"ChildsihGambinoVEVO\" which had accumulated more than **225 million** views."
   ]
  },
  {
   "cell_type": "markdown",
   "metadata": {},
   "source": [
    "*TOP 5 videos with the **MOST** Views*"
   ]
  },
  {
   "cell_type": "code",
   "execution_count": 135,
   "metadata": {},
   "outputs": [
    {
     "data": {
      "text/html": [
       "<div>\n",
       "<style scoped>\n",
       "    .dataframe tbody tr th:only-of-type {\n",
       "        vertical-align: middle;\n",
       "    }\n",
       "\n",
       "    .dataframe tbody tr th {\n",
       "        vertical-align: top;\n",
       "    }\n",
       "\n",
       "    .dataframe thead th {\n",
       "        text-align: right;\n",
       "    }\n",
       "</style>\n",
       "<table border=\"1\" class=\"dataframe\">\n",
       "  <thead>\n",
       "    <tr style=\"text-align: right;\">\n",
       "      <th></th>\n",
       "      <th>title</th>\n",
       "      <th>views</th>\n",
       "    </tr>\n",
       "  </thead>\n",
       "  <tbody>\n",
       "    <tr>\n",
       "      <th>44424</th>\n",
       "      <td>Childish Gambino - This Is America (Official V...</td>\n",
       "      <td>225211923</td>\n",
       "    </tr>\n",
       "    <tr>\n",
       "      <th>7180</th>\n",
       "      <td>YouTube Rewind: The Shape of 2017 | #YouTubeRe...</td>\n",
       "      <td>149376127</td>\n",
       "    </tr>\n",
       "    <tr>\n",
       "      <th>40199</th>\n",
       "      <td>Ariana Grande - No Tears Left To Cry</td>\n",
       "      <td>148689896</td>\n",
       "    </tr>\n",
       "    <tr>\n",
       "      <th>40393</th>\n",
       "      <td>Becky G, Natti Natasha - Sin Pijama (Official ...</td>\n",
       "      <td>139334502</td>\n",
       "    </tr>\n",
       "    <tr>\n",
       "      <th>44132</th>\n",
       "      <td>BTS (방탄소년단) 'FAKE LOVE' Official MV</td>\n",
       "      <td>123010920</td>\n",
       "    </tr>\n",
       "  </tbody>\n",
       "</table>\n",
       "</div>"
      ],
      "text/plain": [
       "                                                   title      views\n",
       "44424  Childish Gambino - This Is America (Official V...  225211923\n",
       "7180   YouTube Rewind: The Shape of 2017 | #YouTubeRe...  149376127\n",
       "40199               Ariana Grande - No Tears Left To Cry  148689896\n",
       "40393  Becky G, Natti Natasha - Sin Pijama (Official ...  139334502\n",
       "44132                BTS (방탄소년단) 'FAKE LOVE' Official MV  123010920"
      ]
     },
     "execution_count": 135,
     "metadata": {},
     "output_type": "execute_result"
    }
   ],
   "source": [
    "unique_videos_usa_most_views = usa.sort_values(by='views', ascending=False).drop_duplicates(subset=['video_id'])\n",
    "unique_videos_usa_most_views[['title', 'views']].head(5)"
   ]
  },
  {
   "cell_type": "code",
   "execution_count": null,
   "metadata": {},
   "outputs": [],
   "source": []
  },
  {
   "cell_type": "code",
   "execution_count": null,
   "metadata": {},
   "outputs": [],
   "source": []
  },
  {
   "cell_type": "markdown",
   "metadata": {},
   "source": [
    "# Video Titles"
   ]
  },
  {
   "cell_type": "code",
   "execution_count": null,
   "metadata": {},
   "outputs": [],
   "source": []
  },
  {
   "cell_type": "code",
   "execution_count": null,
   "metadata": {},
   "outputs": [],
   "source": []
  },
  {
   "cell_type": "code",
   "execution_count": null,
   "metadata": {},
   "outputs": [],
   "source": []
  },
  {
   "cell_type": "code",
   "execution_count": null,
   "metadata": {},
   "outputs": [],
   "source": []
  },
  {
   "cell_type": "code",
   "execution_count": null,
   "metadata": {},
   "outputs": [],
   "source": []
  },
  {
   "cell_type": "code",
   "execution_count": null,
   "metadata": {},
   "outputs": [],
   "source": []
  },
  {
   "cell_type": "markdown",
   "metadata": {},
   "source": [
    "## The most Likes, Comments, Dislikes and Views (USA)"
   ]
  },
  {
   "cell_type": "markdown",
   "metadata": {},
   "source": [
    "*I will create a function 'visualize_most' that will take in a column name and it will visualize the videos that have the most counts of likes, comments, dislikes and views.*"
   ]
  },
  {
   "cell_type": "code",
   "execution_count": 193,
   "metadata": {},
   "outputs": [],
   "source": [
    "def visualize_most(, column, num=10):\n",
    "    sorted_df = usa.sort_values(column, ascending=False).iloc[:num]\n",
    "    \n",
    "    ax = sorted_df[column].plot.bar()\n",
    "    \n",
    "    # customizes the video titles, for asthetic purposes for the bar chart\n",
    "    labels = []\n",
    "    for item in sorted_df['title']:\n",
    "        labels.append(item[:12] + '...')\n",
    "    ax.set_xticklabels(labels, rotation=45, fontsize=10)\n",
    "    \n",
    "    plt.show()"
   ]
  },
  {
   "cell_type": "markdown",
   "metadata": {},
   "source": [
    "*Now we can call the 'visualize_most()' function while passing different column names*"
   ]
  },
  {
   "cell_type": "code",
   "execution_count": 194,
   "metadata": {},
   "outputs": [
    {
     "data": {
      "image/png": "[encoded data removed]",
      "text/plain": [
       "<Figure size 432x288 with 1 Axes>"
      ]
     },
     "metadata": {
      "needs_background": "light"
     },
     "output_type": "display_data"
    }
   ],
   "source": [
    "visualize_most(usa, 'views')"
   ]
  },
  {
   "cell_type": "code",
   "execution_count": 185,
   "metadata": {},
   "outputs": [
    {
     "data": {
      "image/png": "[encoded data removed]",
      "text/plain": [
       "<Figure size 432x288 with 1 Axes>"
      ]
     },
     "metadata": {
      "needs_background": "light"
     },
     "output_type": "display_data"
    }
   ],
   "source": [
    "visualize_most(usa, 'comment_count')"
   ]
  },
  {
   "cell_type": "code",
   "execution_count": 186,
   "metadata": {},
   "outputs": [
    {
     "data": {
      "image/png": "[encoded data removed]",
      "text/plain": [
       "<Figure size 432x288 with 1 Axes>"
      ]
     },
     "metadata": {
      "needs_background": "light"
     },
     "output_type": "display_data"
    }
   ],
   "source": [
    "visualize_most(usa, 'dislikes')"
   ]
  },
  {
   "cell_type": "code",
   "execution_count": 190,
   "metadata": {},
   "outputs": [
    {
     "data": {
      "image/png": "[encoded data removed]",
      "text/plain": [
       "<Figure size 432x288 with 1 Axes>"
      ]
     },
     "metadata": {
      "needs_background": "light"
     },
     "output_type": "display_data"
    }
   ],
   "source": [
    "visualize_most(usa, 'likes', num=20)"
   ]
  },
  {
   "cell_type": "markdown",
   "metadata": {},
   "source": [
    "## Most Popular Trending Channels"
   ]
  },
  {
   "cell_type": "code",
   "execution_count": 71,
   "metadata": {},
   "outputs": [
    {
     "name": "stderr",
     "output_type": "stream",
     "text": [
      "C:\\Users\\username\\Downloads\\Programs\\Anaconda\\lib\\site-packages\\seaborn\\_decorators.py:36: FutureWarning: Pass the following variables as keyword args: x, y. From version 0.12, the only valid positional argument will be `data`, and passing other arguments without an explicit keyword will result in an error or misinterpretation.\n",
      "  warnings.warn(\n"
     ]
    },
    {
     "data": {
      "image/png": "[encoded data removed]",
      "text/plain": [
       "<Figure size 432x288 with 1 Axes>"
      ]
     },
     "metadata": {
      "needs_background": "light"
     },
     "output_type": "display_data"
    }
   ],
   "source": [
    "trending_channels = usa.groupby(['channel_title']).size().sort_values(ascending=False).head(11)\n",
    "sns.barplot(trending_channels.values, trending_channels.index.values, palette = 'viridis')\n",
    "plt.title('Top 10')\n",
    "plt.xlabel('Video Count')\n",
    "plt.show()\n",
    "#in results I got some mysterious channel '806' that dont exist, so I ignore it"
   ]
  },
  {
   "cell_type": "markdown",
   "metadata": {},
   "source": [
    "*We can conclude that in USA sport channels like ESPN, NBA and bunch of TV Shows are trending the most often.*"
   ]
  },
  {
   "cell_type": "markdown",
   "metadata": {},
   "source": [
    "## Most Popular Publishing Day & Time (USA)"
   ]
  },
  {
   "cell_type": "markdown",
   "metadata": {},
   "source": [
    "*Since we have a column of published time that contains day of the week, as well as hour in which video was published, we can split this column in 2 additional columns, where column will contain the name of the day and the 2nd column the number of hour.*"
   ]
  },
  {
   "cell_type": "code",
   "execution_count": 22,
   "metadata": {},
   "outputs": [],
   "source": [
    "usa['day_published'] = usa['publish_time'].dt.day_name()\n",
    "usa['hour_published'] = usa['publish_time'].dt.hour"
   ]
  },
  {
   "cell_type": "markdown",
   "metadata": {},
   "source": [
    "*Now the dataset got 2 more columns **day_published** and **hour_published**.* And now we can vizualize it in Bar chart."
   ]
  },
  {
   "cell_type": "code",
   "execution_count": 88,
   "metadata": {},
   "outputs": [
    {
     "data": {
      "image/png": "[encoded data removed]",
      "text/plain": [
       "<Figure size 720x432 with 1 Axes>"
      ]
     },
     "metadata": {
      "needs_background": "light"
     },
     "output_type": "display_data"
    }
   ],
   "source": [
    "ax = usa['day_published'].value_counts().plot(\n",
    "    kind='bar', figsize=(10,6), rot=0)\n",
    "\n",
    "ax.yaxis.set_major_formatter(ticker.StrMethodFormatter('{x:,.0f}'))\n",
    "\n",
    "plt.tight_layout()"
   ]
  },
  {
   "cell_type": "markdown",
   "metadata": {},
   "source": [
    "*As seen in table above, the most trending videos was published in working days - **Thursday, Tuesday, Wednesday and Friday**, on Monday a slight decrease is observed. But on holidays there are a lot less people on internet, so there is no suprise that these are the days when a lot less videos became viral."
   ]
  },
  {
   "cell_type": "markdown",
   "metadata": {},
   "source": [
    "#### Most Popular Publishing Hour"
   ]
  },
  {
   "cell_type": "code",
   "execution_count": 90,
   "metadata": {},
   "outputs": [
    {
     "data": {
      "image/png": "[encoded data removed]",
      "text/plain": [
       "<Figure size 1008x576 with 1 Axes>"
      ]
     },
     "metadata": {
      "needs_background": "light"
     },
     "output_type": "display_data"
    }
   ],
   "source": [
    "ax = usa['hour_published'].value_counts().sort_index().plot(\n",
    "    kind='bar', figsize=(14,8), rot=0)\n",
    "\n",
    "ax.yaxis.set_major_formatter(ticker.StrMethodFormatter('{x:,.0f}'))\n",
    "\n",
    "plt.tight_layout()"
   ]
  },
  {
   "cell_type": "markdown",
   "metadata": {},
   "source": [
    "*We can see that the most trending videos was published in the afternoon, gaining at **4 p.m.,** while the night-time is when you dont want to publish a video if you want it to go viral.*"
   ]
  },
  {
   "cell_type": "markdown",
   "metadata": {},
   "source": [
    "### What words have been used to most as tags?"
   ]
  },
  {
   "cell_type": "code",
   "execution_count": null,
   "metadata": {},
   "outputs": [],
   "source": []
  },
  {
   "cell_type": "code",
   "execution_count": null,
   "metadata": {},
   "outputs": [],
   "source": []
  },
  {
   "cell_type": "markdown",
   "metadata": {},
   "source": [
    "### Correlations (USA)"
   ]
  },
  {
   "cell_type": "code",
   "execution_count": 53,
   "metadata": {},
   "outputs": [
    {
     "data": {
      "text/html": [
       "<div>\n",
       "<style scoped>\n",
       "    .dataframe tbody tr th:only-of-type {\n",
       "        vertical-align: middle;\n",
       "    }\n",
       "\n",
       "    .dataframe tbody tr th {\n",
       "        vertical-align: top;\n",
       "    }\n",
       "\n",
       "    .dataframe thead th {\n",
       "        text-align: right;\n",
       "    }\n",
       "</style>\n",
       "<table border=\"1\" class=\"dataframe\">\n",
       "  <thead>\n",
       "    <tr style=\"text-align: right;\">\n",
       "      <th></th>\n",
       "      <th>views</th>\n",
       "      <th>likes</th>\n",
       "      <th>dislikes</th>\n",
       "      <th>comment_count</th>\n",
       "    </tr>\n",
       "  </thead>\n",
       "  <tbody>\n",
       "    <tr>\n",
       "      <th>views</th>\n",
       "      <td>1.000000</td>\n",
       "      <td>0.851188</td>\n",
       "      <td>0.473872</td>\n",
       "      <td>0.620806</td>\n",
       "    </tr>\n",
       "    <tr>\n",
       "      <th>likes</th>\n",
       "      <td>0.851188</td>\n",
       "      <td>1.000000</td>\n",
       "      <td>0.449005</td>\n",
       "      <td>0.804414</td>\n",
       "    </tr>\n",
       "    <tr>\n",
       "      <th>dislikes</th>\n",
       "      <td>0.473872</td>\n",
       "      <td>0.449005</td>\n",
       "      <td>1.000000</td>\n",
       "      <td>0.700838</td>\n",
       "    </tr>\n",
       "    <tr>\n",
       "      <th>comment_count</th>\n",
       "      <td>0.620806</td>\n",
       "      <td>0.804414</td>\n",
       "      <td>0.700838</td>\n",
       "      <td>1.000000</td>\n",
       "    </tr>\n",
       "  </tbody>\n",
       "</table>\n",
       "</div>"
      ],
      "text/plain": [
       "                  views     likes  dislikes  comment_count\n",
       "views          1.000000  0.851188  0.473872       0.620806\n",
       "likes          0.851188  1.000000  0.449005       0.804414\n",
       "dislikes       0.473872  0.449005  1.000000       0.700838\n",
       "comment_count  0.620806  0.804414  0.700838       1.000000"
      ]
     },
     "execution_count": 53,
     "metadata": {},
     "output_type": "execute_result"
    }
   ],
   "source": [
    "columns_needed = ['views', 'likes', 'dislikes', 'comment_count'] # only these columns needed this time\n",
    "corr_matrix = usa[columns_needed].corr()\n",
    "corr_matrix"
   ]
  },
  {
   "cell_type": "markdown",
   "metadata": {},
   "source": [
    "# The table above shows that there are correlation between ..."
   ]
  },
  {
   "cell_type": "code",
   "execution_count": 54,
   "metadata": {},
   "outputs": [
    {
     "name": "stderr",
     "output_type": "stream",
     "text": [
      "<ipython-input-54-6f4f7bfca622>:14: UserWarning: FixedFormatter should only be used together with FixedLocator\n",
      "  ax.set_yticklabels(labels, minor=False)\n",
      "<ipython-input-54-6f4f7bfca622>:15: UserWarning: FixedFormatter should only be used together with FixedLocator\n",
      "  ax.set_xticklabels(labels, minor=False)\n"
     ]
    },
    {
     "data": {
      "image/png": "[encoded data removed]",
      "text/plain": [
       "<Figure size 432x288 with 2 Axes>"
      ]
     },
     "metadata": {
      "needs_background": "light"
     },
     "output_type": "display_data"
    }
   ],
   "source": [
    "fig, ax = plt.subplots()\n",
    "heatmap = ax.imshow(corr_matrix, interpolation='nearest')\n",
    "\n",
    "# making the colorbar on the side\n",
    "cbar_min = corr_matrix.min().min()\n",
    "cbar_max = corr_matrix.max().max()\n",
    "cbar = fig.colorbar(heatmap, ticks=[cbar_min, cbar_max])\n",
    "\n",
    "# making the labels\n",
    "labels = ['']\n",
    "for column in columns_needed:\n",
    "    labels.append(column)\n",
    "    labels.append('')\n",
    "ax.set_yticklabels(labels, minor=False)\n",
    "ax.set_xticklabels(labels, minor=False)\n",
    "\n",
    "plt.show()"
   ]
  },
  {
   "cell_type": "markdown",
   "metadata": {},
   "source": [
    "*We can take one step further and take search for other correlations by inventing new variables (for example Like&Dislike Ratio, Percentage of Comments and Percentage of Reaction*"
   ]
  },
  {
   "cell_type": "code",
   "execution_count": 50,
   "metadata": {},
   "outputs": [],
   "source": [
    "usa['like_dislike_ratio'] = usa['likes'] / usa['dislikes']\n",
    "usa['comments_percentage'] = usa['comment_count'] / usa['views']\n",
    "usa['reaction_percentage'] = (usa['likes'] + usa['dislikes']) / usa['views']"
   ]
  },
  {
   "cell_type": "code",
   "execution_count": 52,
   "metadata": {},
   "outputs": [
    {
     "data": {
      "image/png": "[encoded data removed]",
      "text/plain": [
       "<Figure size 432x288 with 2 Axes>"
      ]
     },
     "metadata": {
      "needs_background": "light"
     },
     "output_type": "display_data"
    }
   ],
   "source": [
    "correlation = usa[['views', 'likes', 'dislikes', 'comment_count', 'like_dislike_ratio', 'comments_percentage', 'reaction_percentage']]\n",
    "corr = correlation.corr()\n",
    "\n",
    "mask = np.zeros_like(corr, dtype=np.bool)\n",
    "mask[np.triu_indices_from(mask)] = True\n",
    "\n",
    "cmap = sns.diverging_palette(220, 10, as_cmap=True)\n",
    "sns.heatmap(corr, mask=mask, cmap=cmap, vmax=.3, center=0,\n",
    "            square=True, linewidths=.5, cbar_kws={\"shrink\": .5})\n",
    "plt.show()"
   ]
  },
  {
   "cell_type": "markdown",
   "metadata": {},
   "source": [
    "*Matrix above shows that there are several moderate correlations. What I can see is that one of the most noticable is **comment count** is positevely related with views, likes and dislikes. That means that people who react with a like or dislike are also more likely leave a comment after watching the video.*"
   ]
  },
  {
   "cell_type": "markdown",
   "metadata": {},
   "source": [
    "## Repeat whole process with Dataset that contains Trending videos in Canada"
   ]
  },
  {
   "cell_type": "code",
   "execution_count": 136,
   "metadata": {},
   "outputs": [
    {
     "data": {
      "text/html": [
       "<div>\n",
       "<style scoped>\n",
       "    .dataframe tbody tr th:only-of-type {\n",
       "        vertical-align: middle;\n",
       "    }\n",
       "\n",
       "    .dataframe tbody tr th {\n",
       "        vertical-align: top;\n",
       "    }\n",
       "\n",
       "    .dataframe thead th {\n",
       "        text-align: right;\n",
       "    }\n",
       "</style>\n",
       "<table border=\"1\" class=\"dataframe\">\n",
       "  <thead>\n",
       "    <tr style=\"text-align: right;\">\n",
       "      <th></th>\n",
       "      <th>video_id</th>\n",
       "      <th>trending_date</th>\n",
       "      <th>title</th>\n",
       "      <th>channel_title</th>\n",
       "      <th>publish_time</th>\n",
       "      <th>views</th>\n",
       "      <th>likes</th>\n",
       "      <th>dislikes</th>\n",
       "      <th>comment_count</th>\n",
       "      <th>thumbnail_link</th>\n",
       "      <th>comments_disabled</th>\n",
       "      <th>ratings_disabled</th>\n",
       "      <th>video_error_or_removed</th>\n",
       "      <th>description</th>\n",
       "      <th>country</th>\n",
       "      <th>tags</th>\n",
       "      <th>category_id</th>\n",
       "    </tr>\n",
       "  </thead>\n",
       "  <tbody>\n",
       "    <tr>\n",
       "      <th>0</th>\n",
       "      <td>n1WpP7iowLc</td>\n",
       "      <td>17.14.11</td>\n",
       "      <td>Eminem - Walk On Water (Audio) ft. Beyoncé</td>\n",
       "      <td>EminemVEVO</td>\n",
       "      <td>2017-11-10T17:00:03.000Z</td>\n",
       "      <td>17158579.0</td>\n",
       "      <td>787425.0</td>\n",
       "      <td>43420.0</td>\n",
       "      <td>125882.0</td>\n",
       "      <td>https://i.ytimg.com/vi/n1WpP7iowLc/default.jpg</td>\n",
       "      <td>False</td>\n",
       "      <td>False</td>\n",
       "      <td>False</td>\n",
       "      <td>Eminem's new track Walk on Water ft. Beyoncé i...</td>\n",
       "      <td>CA</td>\n",
       "      <td>,'eminem','walk','on','water','aftermath/shady...</td>\n",
       "      <td>600.0</td>\n",
       "    </tr>\n",
       "    <tr>\n",
       "      <th>1</th>\n",
       "      <td>0dBIkQ4Mz1M</td>\n",
       "      <td>17.14.11</td>\n",
       "      <td>PLUSH - Bad Unboxing Fan Mail</td>\n",
       "      <td>iDubbbzTV</td>\n",
       "      <td>2017-11-13T17:00:00.000Z</td>\n",
       "      <td>1014651.0</td>\n",
       "      <td>127794.0</td>\n",
       "      <td>1688.0</td>\n",
       "      <td>13030.0</td>\n",
       "      <td>https://i.ytimg.com/vi/0dBIkQ4Mz1M/default.jpg</td>\n",
       "      <td>False</td>\n",
       "      <td>False</td>\n",
       "      <td>False</td>\n",
       "      <td>STill got a lot of packages. Probably will las...</td>\n",
       "      <td>CA</td>\n",
       "      <td>,'plush','bad unboxing','unboxing','fan mail',...</td>\n",
       "      <td>805.0</td>\n",
       "    </tr>\n",
       "    <tr>\n",
       "      <th>2</th>\n",
       "      <td>5qpjK5DgCt4</td>\n",
       "      <td>17.14.11</td>\n",
       "      <td>Racist Superman | Rudy Mancuso, King Bach &amp; Le...</td>\n",
       "      <td>Rudy Mancuso</td>\n",
       "      <td>2017-11-12T19:05:24.000Z</td>\n",
       "      <td>3191434.0</td>\n",
       "      <td>146035.0</td>\n",
       "      <td>5339.0</td>\n",
       "      <td>8181.0</td>\n",
       "      <td>https://i.ytimg.com/vi/5qpjK5DgCt4/default.jpg</td>\n",
       "      <td>False</td>\n",
       "      <td>False</td>\n",
       "      <td>False</td>\n",
       "      <td>WATCH MY PREVIOUS VIDEO ▶ \\n\\nSUBSCRIBE ► http...</td>\n",
       "      <td>CA</td>\n",
       "      <td>,'racist superman','rudy','mancuso','king','ba...</td>\n",
       "      <td>805.0</td>\n",
       "    </tr>\n",
       "    <tr>\n",
       "      <th>3</th>\n",
       "      <td>d380meD0W0M</td>\n",
       "      <td>17.14.11</td>\n",
       "      <td>I Dare You: GOING BALD!?</td>\n",
       "      <td>nigahiga</td>\n",
       "      <td>2017-11-12T18:01:41.000Z</td>\n",
       "      <td>2095828.0</td>\n",
       "      <td>132239.0</td>\n",
       "      <td>1989.0</td>\n",
       "      <td>17518.0</td>\n",
       "      <td>https://i.ytimg.com/vi/d380meD0W0M/default.jpg</td>\n",
       "      <td>False</td>\n",
       "      <td>False</td>\n",
       "      <td>False</td>\n",
       "      <td>I know it's been a while since we did this sho...</td>\n",
       "      <td>CA</td>\n",
       "      <td>,'ryan','higa','higatv','nigahiga','i dare you...</td>\n",
       "      <td>806.0</td>\n",
       "    </tr>\n",
       "    <tr>\n",
       "      <th>4</th>\n",
       "      <td>2Vv-BfVoq4g</td>\n",
       "      <td>17.14.11</td>\n",
       "      <td>Ed Sheeran - Perfect (Official Music Video)</td>\n",
       "      <td>Ed Sheeran</td>\n",
       "      <td>2017-11-09T11:04:14.000Z</td>\n",
       "      <td>33523622.0</td>\n",
       "      <td>1634130.0</td>\n",
       "      <td>21082.0</td>\n",
       "      <td>85067.0</td>\n",
       "      <td>https://i.ytimg.com/vi/2Vv-BfVoq4g/default.jpg</td>\n",
       "      <td>False</td>\n",
       "      <td>False</td>\n",
       "      <td>False</td>\n",
       "      <td>🎧: https://ad.gt/yt-perfect\\n💰: https://atlant...</td>\n",
       "      <td>CA</td>\n",
       "      <td>,'edsheeran','ed sheeran','acoustic','live','c...</td>\n",
       "      <td>600.0</td>\n",
       "    </tr>\n",
       "  </tbody>\n",
       "</table>\n",
       "</div>"
      ],
      "text/plain": [
       "      video_id trending_date  \\\n",
       "0  n1WpP7iowLc      17.14.11   \n",
       "1  0dBIkQ4Mz1M      17.14.11   \n",
       "2  5qpjK5DgCt4      17.14.11   \n",
       "3  d380meD0W0M      17.14.11   \n",
       "4  2Vv-BfVoq4g      17.14.11   \n",
       "\n",
       "                                               title channel_title  \\\n",
       "0         Eminem - Walk On Water (Audio) ft. Beyoncé    EminemVEVO   \n",
       "1                      PLUSH - Bad Unboxing Fan Mail     iDubbbzTV   \n",
       "2  Racist Superman | Rudy Mancuso, King Bach & Le...  Rudy Mancuso   \n",
       "3                           I Dare You: GOING BALD!?      nigahiga   \n",
       "4        Ed Sheeran - Perfect (Official Music Video)    Ed Sheeran   \n",
       "\n",
       "               publish_time       views      likes  dislikes  comment_count  \\\n",
       "0  2017-11-10T17:00:03.000Z  17158579.0   787425.0   43420.0       125882.0   \n",
       "1  2017-11-13T17:00:00.000Z   1014651.0   127794.0    1688.0        13030.0   \n",
       "2  2017-11-12T19:05:24.000Z   3191434.0   146035.0    5339.0         8181.0   \n",
       "3  2017-11-12T18:01:41.000Z   2095828.0   132239.0    1989.0        17518.0   \n",
       "4  2017-11-09T11:04:14.000Z  33523622.0  1634130.0   21082.0        85067.0   \n",
       "\n",
       "                                   thumbnail_link comments_disabled  \\\n",
       "0  https://i.ytimg.com/vi/n1WpP7iowLc/default.jpg             False   \n",
       "1  https://i.ytimg.com/vi/0dBIkQ4Mz1M/default.jpg             False   \n",
       "2  https://i.ytimg.com/vi/5qpjK5DgCt4/default.jpg             False   \n",
       "3  https://i.ytimg.com/vi/d380meD0W0M/default.jpg             False   \n",
       "4  https://i.ytimg.com/vi/2Vv-BfVoq4g/default.jpg             False   \n",
       "\n",
       "  ratings_disabled video_error_or_removed  \\\n",
       "0            False                  False   \n",
       "1            False                  False   \n",
       "2            False                  False   \n",
       "3            False                  False   \n",
       "4            False                  False   \n",
       "\n",
       "                                         description country  \\\n",
       "0  Eminem's new track Walk on Water ft. Beyoncé i...      CA   \n",
       "1  STill got a lot of packages. Probably will las...      CA   \n",
       "2  WATCH MY PREVIOUS VIDEO ▶ \\n\\nSUBSCRIBE ► http...      CA   \n",
       "3  I know it's been a while since we did this sho...      CA   \n",
       "4  🎧: https://ad.gt/yt-perfect\\n💰: https://atlant...      CA   \n",
       "\n",
       "                                                tags  category_id  \n",
       "0  ,'eminem','walk','on','water','aftermath/shady...        600.0  \n",
       "1  ,'plush','bad unboxing','unboxing','fan mail',...        805.0  \n",
       "2  ,'racist superman','rudy','mancuso','king','ba...        805.0  \n",
       "3  ,'ryan','higa','higatv','nigahiga','i dare you...        806.0  \n",
       "4  ,'edsheeran','ed sheeran','acoustic','live','c...        600.0  "
      ]
     },
     "execution_count": 136,
     "metadata": {},
     "output_type": "execute_result"
    }
   ],
   "source": [
    "can = pd.read_csv('CAvideos.csv', sep=';')\n",
    "can.head()"
   ]
  },
  {
   "cell_type": "code",
   "execution_count": 137,
   "metadata": {},
   "outputs": [
    {
     "data": {
      "text/html": [
       "<div>\n",
       "<style scoped>\n",
       "    .dataframe tbody tr th:only-of-type {\n",
       "        vertical-align: middle;\n",
       "    }\n",
       "\n",
       "    .dataframe tbody tr th {\n",
       "        vertical-align: top;\n",
       "    }\n",
       "\n",
       "    .dataframe thead th {\n",
       "        text-align: right;\n",
       "    }\n",
       "</style>\n",
       "<table border=\"1\" class=\"dataframe\">\n",
       "  <thead>\n",
       "    <tr style=\"text-align: right;\">\n",
       "      <th></th>\n",
       "      <th>0</th>\n",
       "    </tr>\n",
       "  </thead>\n",
       "  <tbody>\n",
       "    <tr>\n",
       "      <th>video_id</th>\n",
       "      <td>n1WpP7iowLc</td>\n",
       "    </tr>\n",
       "    <tr>\n",
       "      <th>trending_date</th>\n",
       "      <td>17.14.11</td>\n",
       "    </tr>\n",
       "    <tr>\n",
       "      <th>title</th>\n",
       "      <td>Eminem - Walk On Water (Audio) ft. Beyoncé</td>\n",
       "    </tr>\n",
       "    <tr>\n",
       "      <th>channel_title</th>\n",
       "      <td>EminemVEVO</td>\n",
       "    </tr>\n",
       "    <tr>\n",
       "      <th>publish_time</th>\n",
       "      <td>2017-11-10T17:00:03.000Z</td>\n",
       "    </tr>\n",
       "    <tr>\n",
       "      <th>views</th>\n",
       "      <td>1.71586e+07</td>\n",
       "    </tr>\n",
       "    <tr>\n",
       "      <th>likes</th>\n",
       "      <td>787425</td>\n",
       "    </tr>\n",
       "    <tr>\n",
       "      <th>dislikes</th>\n",
       "      <td>43420</td>\n",
       "    </tr>\n",
       "    <tr>\n",
       "      <th>comment_count</th>\n",
       "      <td>125882</td>\n",
       "    </tr>\n",
       "    <tr>\n",
       "      <th>thumbnail_link</th>\n",
       "      <td>https://i.ytimg.com/vi/n1WpP7iowLc/default.jpg</td>\n",
       "    </tr>\n",
       "    <tr>\n",
       "      <th>comments_disabled</th>\n",
       "      <td>False</td>\n",
       "    </tr>\n",
       "    <tr>\n",
       "      <th>ratings_disabled</th>\n",
       "      <td>False</td>\n",
       "    </tr>\n",
       "    <tr>\n",
       "      <th>video_error_or_removed</th>\n",
       "      <td>False</td>\n",
       "    </tr>\n",
       "    <tr>\n",
       "      <th>description</th>\n",
       "      <td>Eminem's new track Walk on Water ft. Beyoncé i...</td>\n",
       "    </tr>\n",
       "    <tr>\n",
       "      <th>country</th>\n",
       "      <td>CA</td>\n",
       "    </tr>\n",
       "    <tr>\n",
       "      <th>tags</th>\n",
       "      <td>,'eminem','walk','on','water','aftermath/shady...</td>\n",
       "    </tr>\n",
       "    <tr>\n",
       "      <th>category_id</th>\n",
       "      <td>600</td>\n",
       "    </tr>\n",
       "  </tbody>\n",
       "</table>\n",
       "</div>"
      ],
      "text/plain": [
       "                                                                        0\n",
       "video_id                                                      n1WpP7iowLc\n",
       "trending_date                                                    17.14.11\n",
       "title                          Eminem - Walk On Water (Audio) ft. Beyoncé\n",
       "channel_title                                                  EminemVEVO\n",
       "publish_time                                     2017-11-10T17:00:03.000Z\n",
       "views                                                         1.71586e+07\n",
       "likes                                                              787425\n",
       "dislikes                                                            43420\n",
       "comment_count                                                      125882\n",
       "thumbnail_link             https://i.ytimg.com/vi/n1WpP7iowLc/default.jpg\n",
       "comments_disabled                                                   False\n",
       "ratings_disabled                                                    False\n",
       "video_error_or_removed                                              False\n",
       "description             Eminem's new track Walk on Water ft. Beyoncé i...\n",
       "country                                                                CA\n",
       "tags                    ,'eminem','walk','on','water','aftermath/shady...\n",
       "category_id                                                           600"
      ]
     },
     "execution_count": 137,
     "metadata": {},
     "output_type": "execute_result"
    }
   ],
   "source": [
    "can.head(1).transpose()"
   ]
  },
  {
   "cell_type": "code",
   "execution_count": 138,
   "metadata": {},
   "outputs": [
    {
     "data": {
      "text/plain": [
       "(42019, 17)"
      ]
     },
     "execution_count": 138,
     "metadata": {},
     "output_type": "execute_result"
    }
   ],
   "source": [
    "can.shape"
   ]
  },
  {
   "cell_type": "markdown",
   "metadata": {},
   "source": [
    "*Dataset consist of 42 019 rows and 17 columns.*"
   ]
  },
  {
   "cell_type": "code",
   "execution_count": 139,
   "metadata": {},
   "outputs": [
    {
     "data": {
      "text/plain": [
       "Index(['video_id', 'trending_date', 'title', 'channel_title', 'publish_time',\n",
       "       'views', 'likes', 'dislikes', 'comment_count', 'thumbnail_link',\n",
       "       'comments_disabled', 'ratings_disabled', 'video_error_or_removed',\n",
       "       'description', 'country', 'tags', 'category_id'],\n",
       "      dtype='object')"
      ]
     },
     "execution_count": 139,
     "metadata": {},
     "output_type": "execute_result"
    }
   ],
   "source": [
    "can.columns"
   ]
  },
  {
   "cell_type": "markdown",
   "metadata": {},
   "source": [
    "*Unique videos in a dataset (Canada)*"
   ]
  },
  {
   "cell_type": "code",
   "execution_count": 140,
   "metadata": {},
   "outputs": [
    {
     "data": {
      "text/plain": [
       "23861"
      ]
     },
     "execution_count": 140,
     "metadata": {},
     "output_type": "execute_result"
    }
   ],
   "source": [
    "count_of_unique_videos_can = can['video_id'].unique().shape[0]\n",
    "count_of_unique_videos_can"
   ]
  },
  {
   "cell_type": "markdown",
   "metadata": {},
   "source": [
    "*Canada dateset contains 23 861 unique videos*"
   ]
  },
  {
   "cell_type": "markdown",
   "metadata": {},
   "source": [
    "## Column Data types (CANADA)"
   ]
  },
  {
   "cell_type": "code",
   "execution_count": 141,
   "metadata": {},
   "outputs": [
    {
     "data": {
      "text/plain": [
       "video_id                   object\n",
       "trending_date              object\n",
       "title                      object\n",
       "channel_title              object\n",
       "publish_time               object\n",
       "views                     float64\n",
       "likes                     float64\n",
       "dislikes                  float64\n",
       "comment_count             float64\n",
       "thumbnail_link             object\n",
       "comments_disabled          object\n",
       "ratings_disabled           object\n",
       "video_error_or_removed     object\n",
       "description                object\n",
       "country                    object\n",
       "tags                       object\n",
       "category_id               float64\n",
       "dtype: object"
      ]
     },
     "execution_count": 141,
     "metadata": {},
     "output_type": "execute_result"
    }
   ],
   "source": [
    "can.dtypes"
   ]
  },
  {
   "cell_type": "markdown",
   "metadata": {},
   "source": [
    "*Repeat same process that we did with previous dataset.*"
   ]
  },
  {
   "cell_type": "code",
   "execution_count": null,
   "metadata": {},
   "outputs": [],
   "source": [
    "column_datatypes_to_change2 = ['views', 'likes', 'dislikes', 'comment_count']\n",
    "for column in column_datatypes_to_change2:\n",
    "    usa[column] = usa[column].astype(int)"
   ]
  },
  {
   "cell_type": "code",
   "execution_count": 142,
   "metadata": {},
   "outputs": [],
   "source": [
    "can['trending_date'] = pd.to_datetime(can['trending_date'],errors='coerce', format='%y.%d.%m')\n",
    "can['publish_time'] = pd.to_datetime(can['publish_time'], format='%Y-%m-%dT%H:%M:%S.%fZ')"
   ]
  },
  {
   "cell_type": "code",
   "execution_count": 143,
   "metadata": {},
   "outputs": [
    {
     "data": {
      "text/plain": [
       "video_id                          object\n",
       "trending_date             datetime64[ns]\n",
       "title                             object\n",
       "channel_title                     object\n",
       "publish_time              datetime64[ns]\n",
       "views                            float64\n",
       "likes                            float64\n",
       "dislikes                         float64\n",
       "comment_count                    float64\n",
       "thumbnail_link                    object\n",
       "comments_disabled                 object\n",
       "ratings_disabled                  object\n",
       "video_error_or_removed            object\n",
       "description                       object\n",
       "country                           object\n",
       "tags                              object\n",
       "category_id                      float64\n",
       "dtype: object"
      ]
     },
     "execution_count": 143,
     "metadata": {},
     "output_type": "execute_result"
    }
   ],
   "source": [
    "can.dtypes"
   ]
  },
  {
   "cell_type": "markdown",
   "metadata": {},
   "source": [
    "## Missing data (CANADA)"
   ]
  },
  {
   "cell_type": "code",
   "execution_count": 145,
   "metadata": {},
   "outputs": [
    {
     "name": "stdout",
     "output_type": "stream",
     "text": [
      "Column 'video_id' null rate: 0.0%\n",
      "Column 'trending_date' null rate: 5.68%\n",
      "Column 'title' null rate: 4.7%\n",
      "Column 'channel_title' null rate: 4.85%\n",
      "Column 'publish_time' null rate: 5.68%\n",
      "Column 'views' null rate: 5.68%\n",
      "Column 'likes' null rate: 5.68%\n",
      "Column 'dislikes' null rate: 5.68%\n",
      "Column 'comment_count' null rate: 5.68%\n",
      "Column 'thumbnail_link' null rate: 5.68%\n",
      "Column 'comments_disabled' null rate: 5.68%\n",
      "Column 'ratings_disabled' null rate: 5.68%\n",
      "Column 'video_error_or_removed' null rate: 5.68%\n",
      "Column 'description' null rate: 8.32%\n",
      "Column 'country' null rate: 6.66%\n",
      "Column 'tags' null rate: 6.66%\n",
      "Column 'category_id' null rate: 8.84%\n"
     ]
    }
   ],
   "source": [
    "for i in can.columns:\n",
    "    null_rate = can[i].isna().sum()/len(can)*100\n",
    "    if null_rate >= 0:\n",
    "        print(\"Column '{}' null rate: {}%\".format(i,round(null_rate,2)))"
   ]
  },
  {
   "cell_type": "markdown",
   "metadata": {},
   "source": [
    "*Column 'category_id' has the most missing values - almost 9% is missing.*"
   ]
  },
  {
   "cell_type": "code",
   "execution_count": 147,
   "metadata": {},
   "outputs": [
    {
     "data": {
      "text/plain": [
       "video_id                     0\n",
       "trending_date             2387\n",
       "title                     1976\n",
       "channel_title             2037\n",
       "publish_time              2387\n",
       "views                     2387\n",
       "likes                     2387\n",
       "dislikes                  2387\n",
       "comment_count             2387\n",
       "thumbnail_link            2387\n",
       "comments_disabled         2387\n",
       "ratings_disabled          2387\n",
       "video_error_or_removed    2387\n",
       "description               3494\n",
       "country                   2798\n",
       "tags                      2798\n",
       "category_id               3715\n",
       "dtype: int64"
      ]
     },
     "execution_count": 147,
     "metadata": {},
     "output_type": "execute_result"
    }
   ],
   "source": [
    "can.isnull().sum()"
   ]
  },
  {
   "cell_type": "markdown",
   "metadata": {},
   "source": [
    "*We can see that all columns (except 'video_id') contains couple thousands of NULL values. There are no 1 right way to deal with them.*"
   ]
  },
  {
   "cell_type": "markdown",
   "metadata": {},
   "source": [
    "*Since I want to do analysis on columns **Views**, **Likes,** **Dislikes** and **Comment_count**, we have to get rid of missing values in these columns. We could replace missing values with average values in each column, but this time I think we can replace NaN values with 0 as well.*"
   ]
  },
  {
   "cell_type": "code",
   "execution_count": 148,
   "metadata": {},
   "outputs": [],
   "source": [
    "can['views'] = can['views'].fillna(0)\n",
    "can['likes'] = can['likes'].fillna(0)\n",
    "can['dislikes'] = can['dislikes'].fillna(0)\n",
    "can['comment_count'] = can['comment_count'].fillna(0)"
   ]
  },
  {
   "cell_type": "code",
   "execution_count": 149,
   "metadata": {},
   "outputs": [
    {
     "data": {
      "text/plain": [
       "video_id                     0\n",
       "trending_date             2387\n",
       "title                     1976\n",
       "channel_title             2037\n",
       "publish_time              2387\n",
       "views                        0\n",
       "likes                        0\n",
       "dislikes                     0\n",
       "comment_count                0\n",
       "thumbnail_link            2387\n",
       "comments_disabled         2387\n",
       "ratings_disabled          2387\n",
       "video_error_or_removed    2387\n",
       "description               3494\n",
       "country                   2798\n",
       "tags                      2798\n",
       "category_id               3715\n",
       "dtype: int64"
      ]
     },
     "execution_count": 149,
     "metadata": {},
     "output_type": "execute_result"
    }
   ],
   "source": [
    "can.isnull().sum()"
   ]
  },
  {
   "cell_type": "markdown",
   "metadata": {},
   "source": [
    "## Disabled Comments, Ratings & Errors"
   ]
  },
  {
   "cell_type": "code",
   "execution_count": 150,
   "metadata": {},
   "outputs": [
    {
     "data": {
      "text/plain": [
       "False    39605\n",
       "True        27\n",
       "Name: video_error_or_removed, dtype: int64"
      ]
     },
     "execution_count": 150,
     "metadata": {},
     "output_type": "execute_result"
    }
   ],
   "source": [
    "can[\"video_error_or_removed\"].value_counts()"
   ]
  },
  {
   "cell_type": "markdown",
   "metadata": {},
   "source": [
    "*Out of videos that appeared on trending list (40 879) only **23** videos had errors or they were removed.*"
   ]
  },
  {
   "cell_type": "code",
   "execution_count": 151,
   "metadata": {},
   "outputs": [
    {
     "data": {
      "text/plain": [
       "False    39063\n",
       "True       569\n",
       "Name: comments_disabled, dtype: int64"
      ]
     },
     "execution_count": 151,
     "metadata": {},
     "output_type": "execute_result"
    }
   ],
   "source": [
    "can[\"comments_disabled\"].value_counts()"
   ]
  },
  {
   "cell_type": "markdown",
   "metadata": {},
   "source": [
    "*Only **569** videos had their comments disabled (as seen in code below).*"
   ]
  },
  {
   "cell_type": "markdown",
   "metadata": {},
   "source": [
    "*We can see similar situation with videos that had their ratings disabled*"
   ]
  },
  {
   "cell_type": "code",
   "execution_count": 153,
   "metadata": {},
   "outputs": [
    {
     "data": {
      "text/plain": [
       "False    39408\n",
       "True       224\n",
       "Name: ratings_disabled, dtype: int64"
      ]
     },
     "execution_count": 153,
     "metadata": {},
     "output_type": "execute_result"
    }
   ],
   "source": [
    "can[\"ratings_disabled\"].value_counts()"
   ]
  },
  {
   "cell_type": "markdown",
   "metadata": {},
   "source": [
    "*Again, only a small portion (234) of all videos had their ratings disabled.*"
   ]
  },
  {
   "cell_type": "markdown",
   "metadata": {},
   "source": [
    "## Top Categories (CANADA)"
   ]
  },
  {
   "cell_type": "code",
   "execution_count": 154,
   "metadata": {},
   "outputs": [
    {
     "data": {
      "text/plain": [
       "806.0    12909\n",
       "804.0     3832\n",
       "102.0     3789\n",
       "600.0     3718\n",
       "805.0     3694\n",
       "         ...  \n",
       "463.0        1\n",
       "424.0        1\n",
       "515.0        1\n",
       "527.0        1\n",
       "433.0        1\n",
       "Name: category_id, Length: 98, dtype: int64"
      ]
     },
     "execution_count": 154,
     "metadata": {},
     "output_type": "execute_result"
    }
   ],
   "source": [
    "can['category_id'].value_counts().head(120)"
   ]
  },
  {
   "cell_type": "code",
   "execution_count": 159,
   "metadata": {},
   "outputs": [
    {
     "data": {
      "image/png": "[encoded data removed]",
      "text/plain": [
       "<Figure size 432x288 with 1 Axes>"
      ]
     },
     "metadata": {},
     "output_type": "display_data"
    }
   ],
   "source": [
    "# Based on data that is found in categories.csv we can found out the distribution of videos by Categories\n",
    "\n",
    "politics = can.loc[(can.category_id >= 100) & (can.category_id <= 102)].count()[0]\n",
    "cinema = can.loc[(can.category_id >= 200) & (can.category_id <= 204)].count()[0]\n",
    "education = can.loc[(can.category_id >= 300) & (can.category_id <= 302)].count()[0]\n",
    "diy_and_beauty = can.loc[(can.category_id >= 400) & (can.category_id <= 497)].count()[0]\n",
    "travel_and_events = can.loc[(can.category_id >= 500) & (can.category_id <= 551)].count()[0]\n",
    "music = can.loc[(can.category_id >= 600) & (can.category_id <= 600)].count()[0]\n",
    "animals = can.loc[(can.category_id >= 700) & (can.category_id <= 700)].count()[0]\n",
    "entertainment = can.loc[(can.category_id >= 800) & (can.category_id <= 806)].count()[0]\n",
    "\n",
    "categories = [politics, cinema, education, diy_and_beauty, travel_and_events, music, animals, entertainment]\n",
    "explode = [0,0,0,0,.5,0,.25,0]\n",
    "colors = ['magenta', 'cyan', 'pink', 'salmon', 'khaki', 'lightblue', 'lightgreen', 'orange']\n",
    "labels = ['Politics', 'Cinema', 'Education', 'DIY&Beauty', 'Travel&Events', 'Music', 'Animals', 'Entertainment']\n",
    "\n",
    "#plt.title('Distribution of videos by Categories!')\n",
    "\n",
    "plt.pie(categories, labels=labels, radius=3, colors=colors, autopct='%.2f %%', pctdistance=0.8, explode=explode)\n",
    "plt.show()"
   ]
  },
  {
   "cell_type": "markdown",
   "metadata": {},
   "source": [
    "*In the Pie Chart above we see that when looking at CANADIAN dateset Entertainment category contains the largest number of trending videos among other categories **(64,69%),** followed by Politic category **(10,06%),** followed by Music category **(9,71%),** and so on.*"
   ]
  },
  {
   "cell_type": "markdown",
   "metadata": {},
   "source": [
    "## Views of the videos (CANADA)"
   ]
  },
  {
   "cell_type": "markdown",
   "metadata": {},
   "source": [
    "#### A trending video with the fewest views (excluding those with 0 views)"
   ]
  },
  {
   "cell_type": "code",
   "execution_count": 164,
   "metadata": {},
   "outputs": [
    {
     "data": {
      "text/html": [
       "<div>\n",
       "<style scoped>\n",
       "    .dataframe tbody tr th:only-of-type {\n",
       "        vertical-align: middle;\n",
       "    }\n",
       "\n",
       "    .dataframe tbody tr th {\n",
       "        vertical-align: top;\n",
       "    }\n",
       "\n",
       "    .dataframe thead th {\n",
       "        text-align: right;\n",
       "    }\n",
       "</style>\n",
       "<table border=\"1\" class=\"dataframe\">\n",
       "  <thead>\n",
       "    <tr style=\"text-align: right;\">\n",
       "      <th></th>\n",
       "      <th>video_id</th>\n",
       "      <th>trending_date</th>\n",
       "      <th>title</th>\n",
       "      <th>channel_title</th>\n",
       "      <th>publish_time</th>\n",
       "      <th>views</th>\n",
       "      <th>likes</th>\n",
       "      <th>dislikes</th>\n",
       "      <th>comment_count</th>\n",
       "      <th>thumbnail_link</th>\n",
       "      <th>comments_disabled</th>\n",
       "      <th>ratings_disabled</th>\n",
       "      <th>video_error_or_removed</th>\n",
       "      <th>description</th>\n",
       "      <th>country</th>\n",
       "      <th>tags</th>\n",
       "      <th>category_id</th>\n",
       "    </tr>\n",
       "  </thead>\n",
       "  <tbody>\n",
       "    <tr>\n",
       "      <th>35699</th>\n",
       "      <td>bz91MAdY6FQ</td>\n",
       "      <td>2018-05-14</td>\n",
       "      <td>''Gala Artis 2018'' Le numéro d'ouverture</td>\n",
       "      <td>mart lat</td>\n",
       "      <td>2018-05-14 00:43:35</td>\n",
       "      <td>733.0</td>\n",
       "      <td>10.0</td>\n",
       "      <td>4.0</td>\n",
       "      <td>0.0</td>\n",
       "      <td>https://i.ytimg.com/vi/bz91MAdY6FQ/default.jpg</td>\n",
       "      <td>False</td>\n",
       "      <td>False</td>\n",
       "      <td>False</td>\n",
       "      <td>Anim.: Maripier Morin et Jean-Philippe Dion. L...</td>\n",
       "      <td>CA</td>\n",
       "      <td>,'gala','artis','2018','numéro d'ouverture','y...</td>\n",
       "      <td>806.0</td>\n",
       "    </tr>\n",
       "  </tbody>\n",
       "</table>\n",
       "</div>"
      ],
      "text/plain": [
       "          video_id trending_date                                      title  \\\n",
       "35699  bz91MAdY6FQ    2018-05-14  ''Gala Artis 2018'' Le numéro d'ouverture   \n",
       "\n",
       "      channel_title        publish_time  views  likes  dislikes  \\\n",
       "35699      mart lat 2018-05-14 00:43:35  733.0   10.0       4.0   \n",
       "\n",
       "       comment_count                                  thumbnail_link  \\\n",
       "35699            0.0  https://i.ytimg.com/vi/bz91MAdY6FQ/default.jpg   \n",
       "\n",
       "      comments_disabled ratings_disabled video_error_or_removed  \\\n",
       "35699             False            False                  False   \n",
       "\n",
       "                                             description country  \\\n",
       "35699  Anim.: Maripier Morin et Jean-Philippe Dion. L...      CA   \n",
       "\n",
       "                                                    tags  category_id  \n",
       "35699  ,'gala','artis','2018','numéro d'ouverture','y...        806.0  "
      ]
     },
     "execution_count": 164,
     "metadata": {},
     "output_type": "execute_result"
    }
   ],
   "source": [
    "unique_videos_can_least_views = (can[can['views'] > 0].sort_values(by='views', ascending=True)).drop_duplicates(subset=['video_id']).head(1)\n",
    "unique_videos_can_least_views"
   ]
  },
  {
   "cell_type": "markdown",
   "metadata": {},
   "source": [
    "*Video with the LEAST views is called **\"Gala Artis 2018 Le numéro d'ouverture\"** from channel \"mart lat\" which had accumulated 733 views.*"
   ]
  },
  {
   "cell_type": "markdown",
   "metadata": {},
   "source": [
    "*TOP 5 trending videos with the LEAST Views - excluding those with 0 views*"
   ]
  },
  {
   "cell_type": "code",
   "execution_count": 165,
   "metadata": {},
   "outputs": [
    {
     "data": {
      "text/html": [
       "<div>\n",
       "<style scoped>\n",
       "    .dataframe tbody tr th:only-of-type {\n",
       "        vertical-align: middle;\n",
       "    }\n",
       "\n",
       "    .dataframe tbody tr th {\n",
       "        vertical-align: top;\n",
       "    }\n",
       "\n",
       "    .dataframe thead th {\n",
       "        text-align: right;\n",
       "    }\n",
       "</style>\n",
       "<table border=\"1\" class=\"dataframe\">\n",
       "  <thead>\n",
       "    <tr style=\"text-align: right;\">\n",
       "      <th></th>\n",
       "      <th>video_id</th>\n",
       "      <th>trending_date</th>\n",
       "      <th>title</th>\n",
       "      <th>channel_title</th>\n",
       "      <th>publish_time</th>\n",
       "      <th>views</th>\n",
       "      <th>likes</th>\n",
       "      <th>dislikes</th>\n",
       "      <th>comment_count</th>\n",
       "      <th>thumbnail_link</th>\n",
       "      <th>comments_disabled</th>\n",
       "      <th>ratings_disabled</th>\n",
       "      <th>video_error_or_removed</th>\n",
       "      <th>description</th>\n",
       "      <th>country</th>\n",
       "      <th>tags</th>\n",
       "      <th>category_id</th>\n",
       "    </tr>\n",
       "  </thead>\n",
       "  <tbody>\n",
       "    <tr>\n",
       "      <th>35699</th>\n",
       "      <td>bz91MAdY6FQ</td>\n",
       "      <td>2018-05-14</td>\n",
       "      <td>''Gala Artis 2018'' Le numéro d'ouverture</td>\n",
       "      <td>mart lat</td>\n",
       "      <td>2018-05-14 00:43:35</td>\n",
       "      <td>733.0</td>\n",
       "      <td>10.0</td>\n",
       "      <td>4.0</td>\n",
       "      <td>0.0</td>\n",
       "      <td>https://i.ytimg.com/vi/bz91MAdY6FQ/default.jpg</td>\n",
       "      <td>False</td>\n",
       "      <td>False</td>\n",
       "      <td>False</td>\n",
       "      <td>Anim.: Maripier Morin et Jean-Philippe Dion. L...</td>\n",
       "      <td>CA</td>\n",
       "      <td>,'gala','artis','2018','numéro d'ouverture','y...</td>\n",
       "      <td>806.0</td>\n",
       "    </tr>\n",
       "    <tr>\n",
       "      <th>18577</th>\n",
       "      <td>_QPStIydtgg</td>\n",
       "      <td>2018-02-14</td>\n",
       "      <td>Canadian Olympian receives death threats from ...</td>\n",
       "      <td>The National</td>\n",
       "      <td>2018-02-14 03:45:33</td>\n",
       "      <td>1000.0</td>\n",
       "      <td>46.0</td>\n",
       "      <td>19.0</td>\n",
       "      <td>0.0</td>\n",
       "      <td>https://i.ytimg.com/vi/_QPStIydtgg/default.jpg</td>\n",
       "      <td>True</td>\n",
       "      <td>False</td>\n",
       "      <td>False</td>\n",
       "      <td>Canadian Olympian Kim Boutin received threats ...</td>\n",
       "      <td>CA</td>\n",
       "      <td>,'kim boutin','canadian olympian','bronze meda...</td>\n",
       "      <td>102.0</td>\n",
       "    </tr>\n",
       "    <tr>\n",
       "      <th>18607</th>\n",
       "      <td>CGv_PLrWArs</td>\n",
       "      <td>2018-02-14</td>\n",
       "      <td>Raptors Post-Game: DeMar DeRozan - February 13...</td>\n",
       "      <td>Toronto Raptors</td>\n",
       "      <td>2018-02-14 03:32:57</td>\n",
       "      <td>1023.0</td>\n",
       "      <td>65.0</td>\n",
       "      <td>5.0</td>\n",
       "      <td>23.0</td>\n",
       "      <td>https://i.ytimg.com/vi/CGv_PLrWArs/default.jpg</td>\n",
       "      <td>False</td>\n",
       "      <td>False</td>\n",
       "      <td>False</td>\n",
       "      <td>DeMar DeRozan addresses the media following To...</td>\n",
       "      <td>CA</td>\n",
       "      <td>,'nba','toronto','toronto raptors','raptors','...</td>\n",
       "      <td>802.0</td>\n",
       "    </tr>\n",
       "    <tr>\n",
       "      <th>21040</th>\n",
       "      <td>MTtFpn9C7Q4</td>\n",
       "      <td>2018-02-26</td>\n",
       "      <td>Simon Olivier Fecteau créateur des derniers By...</td>\n",
       "      <td>mart lat</td>\n",
       "      <td>2018-02-26 03:18:13</td>\n",
       "      <td>1107.0</td>\n",
       "      <td>14.0</td>\n",
       "      <td>1.0</td>\n",
       "      <td>3.0</td>\n",
       "      <td>https://i.ytimg.com/vi/MTtFpn9C7Q4/default.jpg</td>\n",
       "      <td>False</td>\n",
       "      <td>False</td>\n",
       "      <td>False</td>\n",
       "      <td>Simon Olivier Fecteau renoue avec son ingrat p...</td>\n",
       "      <td>CA</td>\n",
       "      <td>,'simon olivier fecteau','bye bye','en auditio...</td>\n",
       "      <td>806.0</td>\n",
       "    </tr>\n",
       "    <tr>\n",
       "      <th>581</th>\n",
       "      <td>0ayARJdf7I4</td>\n",
       "      <td>2017-11-16</td>\n",
       "      <td>018 Algebra Lineal 18-10-2011</td>\n",
       "      <td>udearroba</td>\n",
       "      <td>2017-11-15 18:20:06</td>\n",
       "      <td>1141.0</td>\n",
       "      <td>0.0</td>\n",
       "      <td>0.0</td>\n",
       "      <td>0.0</td>\n",
       "      <td>https://i.ytimg.com/vi/0ayARJdf7I4/default.jpg</td>\n",
       "      <td>False</td>\n",
       "      <td>False</td>\n",
       "      <td>False</td>\n",
       "      <td>Base ortogonal</td>\n",
       "      <td>CA</td>\n",
       "      <td>,'[none]'</td>\n",
       "      <td>302.0</td>\n",
       "    </tr>\n",
       "  </tbody>\n",
       "</table>\n",
       "</div>"
      ],
      "text/plain": [
       "          video_id trending_date  \\\n",
       "35699  bz91MAdY6FQ    2018-05-14   \n",
       "18577  _QPStIydtgg    2018-02-14   \n",
       "18607  CGv_PLrWArs    2018-02-14   \n",
       "21040  MTtFpn9C7Q4    2018-02-26   \n",
       "581    0ayARJdf7I4    2017-11-16   \n",
       "\n",
       "                                                   title    channel_title  \\\n",
       "35699          ''Gala Artis 2018'' Le numéro d'ouverture         mart lat   \n",
       "18577  Canadian Olympian receives death threats from ...     The National   \n",
       "18607  Raptors Post-Game: DeMar DeRozan - February 13...  Toronto Raptors   \n",
       "21040  Simon Olivier Fecteau créateur des derniers By...         mart lat   \n",
       "581                        018 Algebra Lineal 18-10-2011        udearroba   \n",
       "\n",
       "             publish_time   views  likes  dislikes  comment_count  \\\n",
       "35699 2018-05-14 00:43:35   733.0   10.0       4.0            0.0   \n",
       "18577 2018-02-14 03:45:33  1000.0   46.0      19.0            0.0   \n",
       "18607 2018-02-14 03:32:57  1023.0   65.0       5.0           23.0   \n",
       "21040 2018-02-26 03:18:13  1107.0   14.0       1.0            3.0   \n",
       "581   2017-11-15 18:20:06  1141.0    0.0       0.0            0.0   \n",
       "\n",
       "                                       thumbnail_link comments_disabled  \\\n",
       "35699  https://i.ytimg.com/vi/bz91MAdY6FQ/default.jpg             False   \n",
       "18577  https://i.ytimg.com/vi/_QPStIydtgg/default.jpg              True   \n",
       "18607  https://i.ytimg.com/vi/CGv_PLrWArs/default.jpg             False   \n",
       "21040  https://i.ytimg.com/vi/MTtFpn9C7Q4/default.jpg             False   \n",
       "581    https://i.ytimg.com/vi/0ayARJdf7I4/default.jpg             False   \n",
       "\n",
       "      ratings_disabled video_error_or_removed  \\\n",
       "35699            False                  False   \n",
       "18577            False                  False   \n",
       "18607            False                  False   \n",
       "21040            False                  False   \n",
       "581              False                  False   \n",
       "\n",
       "                                             description country  \\\n",
       "35699  Anim.: Maripier Morin et Jean-Philippe Dion. L...      CA   \n",
       "18577  Canadian Olympian Kim Boutin received threats ...      CA   \n",
       "18607  DeMar DeRozan addresses the media following To...      CA   \n",
       "21040  Simon Olivier Fecteau renoue avec son ingrat p...      CA   \n",
       "581                                       Base ortogonal      CA   \n",
       "\n",
       "                                                    tags  category_id  \n",
       "35699  ,'gala','artis','2018','numéro d'ouverture','y...        806.0  \n",
       "18577  ,'kim boutin','canadian olympian','bronze meda...        102.0  \n",
       "18607  ,'nba','toronto','toronto raptors','raptors','...        802.0  \n",
       "21040  ,'simon olivier fecteau','bye bye','en auditio...        806.0  \n",
       "581                                            ,'[none]'        302.0  "
      ]
     },
     "execution_count": 165,
     "metadata": {},
     "output_type": "execute_result"
    }
   ],
   "source": [
    "unique_videos_can_least_views = (can[can['views'] > 0].sort_values(by='views', ascending=True)).drop_duplicates(subset=['video_id']).head(5)\n",
    "unique_videos_can_least_views"
   ]
  },
  {
   "cell_type": "markdown",
   "metadata": {},
   "source": [
    "### Video with the maximum number of views (CANADA)"
   ]
  },
  {
   "cell_type": "code",
   "execution_count": 166,
   "metadata": {},
   "outputs": [
    {
     "data": {
      "text/html": [
       "<div>\n",
       "<style scoped>\n",
       "    .dataframe tbody tr th:only-of-type {\n",
       "        vertical-align: middle;\n",
       "    }\n",
       "\n",
       "    .dataframe tbody tr th {\n",
       "        vertical-align: top;\n",
       "    }\n",
       "\n",
       "    .dataframe thead th {\n",
       "        text-align: right;\n",
       "    }\n",
       "</style>\n",
       "<table border=\"1\" class=\"dataframe\">\n",
       "  <thead>\n",
       "    <tr style=\"text-align: right;\">\n",
       "      <th></th>\n",
       "      <th>6102</th>\n",
       "    </tr>\n",
       "  </thead>\n",
       "  <tbody>\n",
       "    <tr>\n",
       "      <th>video_id</th>\n",
       "      <td>FlsCjmMhFmw</td>\n",
       "    </tr>\n",
       "    <tr>\n",
       "      <th>trending_date</th>\n",
       "      <td>2017-12-13 00:00:00</td>\n",
       "    </tr>\n",
       "    <tr>\n",
       "      <th>title</th>\n",
       "      <td>YouTube Rewind: The Shape of 2017 | #YouTubeRe...</td>\n",
       "    </tr>\n",
       "    <tr>\n",
       "      <th>channel_title</th>\n",
       "      <td>YouTube Spotlight</td>\n",
       "    </tr>\n",
       "    <tr>\n",
       "      <th>publish_time</th>\n",
       "      <td>2017-12-06 17:58:51</td>\n",
       "    </tr>\n",
       "    <tr>\n",
       "      <th>views</th>\n",
       "      <td>1.37843e+08</td>\n",
       "    </tr>\n",
       "    <tr>\n",
       "      <th>likes</th>\n",
       "      <td>3.01448e+06</td>\n",
       "    </tr>\n",
       "    <tr>\n",
       "      <th>dislikes</th>\n",
       "      <td>1.60238e+06</td>\n",
       "    </tr>\n",
       "    <tr>\n",
       "      <th>comment_count</th>\n",
       "      <td>817582</td>\n",
       "    </tr>\n",
       "    <tr>\n",
       "      <th>thumbnail_link</th>\n",
       "      <td>https://i.ytimg.com/vi/FlsCjmMhFmw/default.jpg</td>\n",
       "    </tr>\n",
       "    <tr>\n",
       "      <th>comments_disabled</th>\n",
       "      <td>False</td>\n",
       "    </tr>\n",
       "    <tr>\n",
       "      <th>ratings_disabled</th>\n",
       "      <td>False</td>\n",
       "    </tr>\n",
       "    <tr>\n",
       "      <th>video_error_or_removed</th>\n",
       "      <td>False</td>\n",
       "    </tr>\n",
       "    <tr>\n",
       "      <th>description</th>\n",
       "      <td>YouTube Rewind 2017. Celebrating the videos, p...</td>\n",
       "    </tr>\n",
       "    <tr>\n",
       "      <th>country</th>\n",
       "      <td>CA</td>\n",
       "    </tr>\n",
       "    <tr>\n",
       "      <th>tags</th>\n",
       "      <td>,'rewind','rewind 2017','youtube rewind 2017',...</td>\n",
       "    </tr>\n",
       "    <tr>\n",
       "      <th>category_id</th>\n",
       "      <td>806</td>\n",
       "    </tr>\n",
       "  </tbody>\n",
       "</table>\n",
       "</div>"
      ],
      "text/plain": [
       "                                                                     6102\n",
       "video_id                                                      FlsCjmMhFmw\n",
       "trending_date                                         2017-12-13 00:00:00\n",
       "title                   YouTube Rewind: The Shape of 2017 | #YouTubeRe...\n",
       "channel_title                                           YouTube Spotlight\n",
       "publish_time                                          2017-12-06 17:58:51\n",
       "views                                                         1.37843e+08\n",
       "likes                                                         3.01448e+06\n",
       "dislikes                                                      1.60238e+06\n",
       "comment_count                                                      817582\n",
       "thumbnail_link             https://i.ytimg.com/vi/FlsCjmMhFmw/default.jpg\n",
       "comments_disabled                                                   False\n",
       "ratings_disabled                                                    False\n",
       "video_error_or_removed                                              False\n",
       "description             YouTube Rewind 2017. Celebrating the videos, p...\n",
       "country                                                                CA\n",
       "tags                    ,'rewind','rewind 2017','youtube rewind 2017',...\n",
       "category_id                                                           806"
      ]
     },
     "execution_count": 166,
     "metadata": {},
     "output_type": "execute_result"
    }
   ],
   "source": [
    "can[can['views'] == can['views'].max()].transpose()"
   ]
  },
  {
   "cell_type": "code",
   "execution_count": 167,
   "metadata": {},
   "outputs": [
    {
     "data": {
      "text/plain": [
       "137843120.0"
      ]
     },
     "execution_count": 167,
     "metadata": {},
     "output_type": "execute_result"
    }
   ],
   "source": [
    "can['views'].max()"
   ]
  },
  {
   "cell_type": "markdown",
   "metadata": {},
   "source": [
    "*Video with the **MOST** views is called **\"YouTube Rewind: The Shape of 2017 | #YouTubeRe...\"** from channel \"YouTube Spotlight\" which had accumulated more than 137 million views.*"
   ]
  },
  {
   "cell_type": "markdown",
   "metadata": {},
   "source": [
    "*TOP 5 videos with the MOST Views*"
   ]
  },
  {
   "cell_type": "code",
   "execution_count": 168,
   "metadata": {},
   "outputs": [
    {
     "data": {
      "text/html": [
       "<div>\n",
       "<style scoped>\n",
       "    .dataframe tbody tr th:only-of-type {\n",
       "        vertical-align: middle;\n",
       "    }\n",
       "\n",
       "    .dataframe tbody tr th {\n",
       "        vertical-align: top;\n",
       "    }\n",
       "\n",
       "    .dataframe thead th {\n",
       "        text-align: right;\n",
       "    }\n",
       "</style>\n",
       "<table border=\"1\" class=\"dataframe\">\n",
       "  <thead>\n",
       "    <tr style=\"text-align: right;\">\n",
       "      <th></th>\n",
       "      <th>title</th>\n",
       "      <th>views</th>\n",
       "    </tr>\n",
       "  </thead>\n",
       "  <tbody>\n",
       "    <tr>\n",
       "      <th>6102</th>\n",
       "      <td>YouTube Rewind: The Shape of 2017 | #YouTubeRe...</td>\n",
       "      <td>137843120.0</td>\n",
       "    </tr>\n",
       "    <tr>\n",
       "      <th>35441</th>\n",
       "      <td>Childish Gambino - This Is America (Official V...</td>\n",
       "      <td>98938809.0</td>\n",
       "    </tr>\n",
       "    <tr>\n",
       "      <th>4905</th>\n",
       "      <td>Marvel Studios' Avengers: Infinity War Officia...</td>\n",
       "      <td>89930713.0</td>\n",
       "    </tr>\n",
       "    <tr>\n",
       "      <th>37577</th>\n",
       "      <td>BTS (방탄소년단) 'FAKE LOVE' Official MV</td>\n",
       "      <td>80738011.0</td>\n",
       "    </tr>\n",
       "    <tr>\n",
       "      <th>22635</th>\n",
       "      <td>Nicky Jam x J. Balvin - X (EQUIS) | Video Ofic...</td>\n",
       "      <td>61163906.0</td>\n",
       "    </tr>\n",
       "  </tbody>\n",
       "</table>\n",
       "</div>"
      ],
      "text/plain": [
       "                                                   title        views\n",
       "6102   YouTube Rewind: The Shape of 2017 | #YouTubeRe...  137843120.0\n",
       "35441  Childish Gambino - This Is America (Official V...   98938809.0\n",
       "4905   Marvel Studios' Avengers: Infinity War Officia...   89930713.0\n",
       "37577                BTS (방탄소년단) 'FAKE LOVE' Official MV   80738011.0\n",
       "22635  Nicky Jam x J. Balvin - X (EQUIS) | Video Ofic...   61163906.0"
      ]
     },
     "execution_count": 168,
     "metadata": {},
     "output_type": "execute_result"
    }
   ],
   "source": [
    "unique_videos_can_most_views = can.sort_values(by='views', ascending=False).drop_duplicates(subset=['video_id'])\n",
    "unique_videos_can_most_views[['title', 'views']].head(5)"
   ]
  },
  {
   "cell_type": "markdown",
   "metadata": {},
   "source": [
    "## The most Likes, Comments, Dislikes and Views (CANADA)"
   ]
  },
  {
   "cell_type": "code",
   "execution_count": 169,
   "metadata": {},
   "outputs": [],
   "source": [
    "def visualize_most(can, column, num=10):\n",
    "    sorted_df_can = can.sort_values(column, ascending=False).iloc[:num]\n",
    "    \n",
    "    ax = sorted_df_can[column].plot.bar(color=lightgreen)\n",
    "    \n",
    "    # customizes the video titles, for asthetic purposes for the bar chart\n",
    "    labels = []\n",
    "    for item in sorted_df_can['title']:\n",
    "        labels.append(item[:12] + '...')\n",
    "    ax.set_xticklabels(labels, rotation=45, fontsize=10)\n",
    "    \n",
    "    plt.show()"
   ]
  },
  {
   "cell_type": "code",
   "execution_count": 170,
   "metadata": {},
   "outputs": [
    {
     "name": "stderr",
     "output_type": "stream",
     "text": [
      "C:\\Users\\username\\Downloads\\Programs\\Anaconda\\lib\\site-packages\\matplotlib\\backends\\backend_agg.py:238: RuntimeWarning: Glyph 48169 missing from current font.\n",
      "  font.set_text(s, 0.0, flags=flags)\n",
      "C:\\Users\\username\\Downloads\\Programs\\Anaconda\\lib\\site-packages\\matplotlib\\backends\\backend_agg.py:238: RuntimeWarning: Glyph 53444 missing from current font.\n",
      "  font.set_text(s, 0.0, flags=flags)\n",
      "C:\\Users\\username\\Downloads\\Programs\\Anaconda\\lib\\site-packages\\matplotlib\\backends\\backend_agg.py:238: RuntimeWarning: Glyph 49548 missing from current font.\n",
      "  font.set_text(s, 0.0, flags=flags)\n",
      "C:\\Users\\username\\Downloads\\Programs\\Anaconda\\lib\\site-packages\\matplotlib\\backends\\backend_agg.py:238: RuntimeWarning: Glyph 45380 missing from current font.\n",
      "  font.set_text(s, 0.0, flags=flags)\n",
      "C:\\Users\\username\\Downloads\\Programs\\Anaconda\\lib\\site-packages\\matplotlib\\backends\\backend_agg.py:238: RuntimeWarning: Glyph 45800 missing from current font.\n",
      "  font.set_text(s, 0.0, flags=flags)\n",
      "C:\\Users\\username\\Downloads\\Programs\\Anaconda\\lib\\site-packages\\matplotlib\\backends\\backend_agg.py:201: RuntimeWarning: Glyph 48169 missing from current font.\n",
      "  font.set_text(s, 0, flags=flags)\n",
      "C:\\Users\\username\\Downloads\\Programs\\Anaconda\\lib\\site-packages\\matplotlib\\backends\\backend_agg.py:201: RuntimeWarning: Glyph 53444 missing from current font.\n",
      "  font.set_text(s, 0, flags=flags)\n",
      "C:\\Users\\username\\Downloads\\Programs\\Anaconda\\lib\\site-packages\\matplotlib\\backends\\backend_agg.py:201: RuntimeWarning: Glyph 49548 missing from current font.\n",
      "  font.set_text(s, 0, flags=flags)\n",
      "C:\\Users\\username\\Downloads\\Programs\\Anaconda\\lib\\site-packages\\matplotlib\\backends\\backend_agg.py:201: RuntimeWarning: Glyph 45380 missing from current font.\n",
      "  font.set_text(s, 0, flags=flags)\n",
      "C:\\Users\\username\\Downloads\\Programs\\Anaconda\\lib\\site-packages\\matplotlib\\backends\\backend_agg.py:201: RuntimeWarning: Glyph 45800 missing from current font.\n",
      "  font.set_text(s, 0, flags=flags)\n"
     ]
    },
    {
     "data": {
      "image/png": "[encoded data removed]",
      "text/plain": [
       "<Figure size 432x288 with 1 Axes>"
      ]
     },
     "metadata": {
      "needs_background": "light"
     },
     "output_type": "display_data"
    }
   ],
   "source": [
    "visualize_most(can, 'views')"
   ]
  },
  {
   "cell_type": "code",
   "execution_count": 171,
   "metadata": {},
   "outputs": [
    {
     "data": {
      "image/png": "[encoded data removed]",
      "text/plain": [
       "<Figure size 432x288 with 1 Axes>"
      ]
     },
     "metadata": {
      "needs_background": "light"
     },
     "output_type": "display_data"
    }
   ],
   "source": [
    "visualize_most(can, 'comment_count')"
   ]
  },
  {
   "cell_type": "code",
   "execution_count": 172,
   "metadata": {},
   "outputs": [
    {
     "data": {
      "image/png": "[encoded data removed]",
      "text/plain": [
       "<Figure size 432x288 with 1 Axes>"
      ]
     },
     "metadata": {
      "needs_background": "light"
     },
     "output_type": "display_data"
    }
   ],
   "source": [
    "visualize_most(can, 'dislikes')"
   ]
  },
  {
   "cell_type": "code",
   "execution_count": 173,
   "metadata": {},
   "outputs": [
    {
     "data": {
      "image/png": "[encoded data removed]",
      "text/plain": [
       "<Figure size 432x288 with 1 Axes>"
      ]
     },
     "metadata": {
      "needs_background": "light"
     },
     "output_type": "display_data"
    }
   ],
   "source": [
    "visualize_most(can, 'likes', num=10)"
   ]
  },
  {
   "cell_type": "code",
   "execution_count": null,
   "metadata": {},
   "outputs": [],
   "source": []
  },
  {
   "cell_type": "markdown",
   "metadata": {},
   "source": [
    "## Most Popular Trending Channels (CANADA)"
   ]
  },
  {
   "cell_type": "code",
   "execution_count": 178,
   "metadata": {},
   "outputs": [
    {
     "data": {
      "text/plain": [
       "channel_title\n",
       "SET India                             192\n",
       "MSNBC                                 189\n",
       "FBE                                   188\n",
       "The Young Turks                       186\n",
       "REACT                                 183\n",
       "VikatanTV                             182\n",
       "CNN                                   182\n",
       "The Late Show with Stephen Colbert    172\n",
       "RadaanMedia                           168\n",
       "ARY Digital                           168\n",
       "dtype: int64"
      ]
     },
     "execution_count": 178,
     "metadata": {},
     "output_type": "execute_result"
    }
   ],
   "source": [
    "can.groupby(['channel_title']).size().sort_values(ascending=False).head(10)"
   ]
  },
  {
   "cell_type": "code",
   "execution_count": 179,
   "metadata": {},
   "outputs": [
    {
     "name": "stderr",
     "output_type": "stream",
     "text": [
      "C:\\Users\\username\\Downloads\\Programs\\Anaconda\\lib\\site-packages\\seaborn\\_decorators.py:36: FutureWarning: Pass the following variables as keyword args: x, y. From version 0.12, the only valid positional argument will be `data`, and passing other arguments without an explicit keyword will result in an error or misinterpretation.\n",
      "  warnings.warn(\n"
     ]
    },
    {
     "data": {
      "image/png": "[encoded data removed]",
      "text/plain": [
       "<Figure size 432x288 with 1 Axes>"
      ]
     },
     "metadata": {
      "needs_background": "light"
     },
     "output_type": "display_data"
    }
   ],
   "source": [
    "trending_channels_can = can.groupby(['channel_title']).size().sort_values(ascending=False).head(10)\n",
    "sns.barplot(trending_channels_can.values, trending_channels_can.index.values, palette = 'viridis')\n",
    "plt.title('Top 10 Most Popular Trending Channels')\n",
    "plt.xlabel('Video Count')\n",
    "plt.show()"
   ]
  },
  {
   "cell_type": "markdown",
   "metadata": {},
   "source": [
    "*We can conclude that in Canada the most popular channels are news-based, like **SET India** that is entertainment pay television channel, followed by **MSNBC** (news-based TV channel) and so on. The only talk-show-based channel in TOP 10 list is **The Late Show with Stephen Colbert**.*"
   ]
  },
  {
   "cell_type": "markdown",
   "metadata": {},
   "source": [
    "## Most Popular Publishing Day & Time (CANADA)"
   ]
  },
  {
   "cell_type": "code",
   "execution_count": 180,
   "metadata": {},
   "outputs": [],
   "source": [
    "can['day_published'] = can['publish_time'].dt.day_name()\n",
    "can['hour_published'] = can['publish_time'].dt.hour"
   ]
  },
  {
   "cell_type": "code",
   "execution_count": 183,
   "metadata": {},
   "outputs": [
    {
     "data": {
      "image/png": "[encoded data removed]",
      "text/plain": [
       "<Figure size 720x432 with 1 Axes>"
      ]
     },
     "metadata": {
      "needs_background": "light"
     },
     "output_type": "display_data"
    }
   ],
   "source": [
    "ax = can['day_published'].value_counts().plot(\n",
    "    kind='bar', figsize=(10,6), rot=0)\n",
    "\n",
    "ax.yaxis.set_major_formatter(ticker.StrMethodFormatter('{x:,.0f}'))\n",
    "\n",
    "plt.tight_layout()"
   ]
  },
  {
   "cell_type": "markdown",
   "metadata": {},
   "source": [
    "*As seen in table above, the most trending videos in Canada was published in working days - **Monday, Thursday, Tuesday, Wednesday and Friday**, the last one (Friday) had significant more trending videos than the rest of working days. But on holidays there were slighly less trending videos.*"
   ]
  },
  {
   "cell_type": "markdown",
   "metadata": {},
   "source": [
    "### Most Popular Publishing Hour"
   ]
  },
  {
   "cell_type": "code",
   "execution_count": 184,
   "metadata": {},
   "outputs": [
    {
     "data": {
      "image/png": "[encoded data removed]",
      "text/plain": [
       "<Figure size 1008x576 with 1 Axes>"
      ]
     },
     "metadata": {
      "needs_background": "light"
     },
     "output_type": "display_data"
    }
   ],
   "source": [
    "ax_can = can['hour_published'].value_counts().sort_index().plot(\n",
    "    kind='bar', figsize=(14,8), rot=0)\n",
    "\n",
    "ax_can.yaxis.set_major_formatter(ticker.StrMethodFormatter('{x:,.0f}'))\n",
    "\n",
    "plt.tight_layout()"
   ]
  },
  {
   "cell_type": "markdown",
   "metadata": {},
   "source": [
    "*We can see that the most trending videos in Canada was published in the afternoon, gaining rapid increase at **1:00 p.m** and reaching the maximum at **4 p.m.,** while early morning hours (6:00 a.m. - 10.00 a.m) is the time when you dont want to publish a video if you want it to go viral.*"
   ]
  },
  {
   "cell_type": "markdown",
   "metadata": {},
   "source": [
    "### What words have been used to most as tags?"
   ]
  },
  {
   "cell_type": "code",
   "execution_count": null,
   "metadata": {},
   "outputs": [],
   "source": []
  },
  {
   "cell_type": "markdown",
   "metadata": {},
   "source": [
    "### Correlations (CANADA)"
   ]
  },
  {
   "cell_type": "code",
   "execution_count": 186,
   "metadata": {},
   "outputs": [
    {
     "data": {
      "text/html": [
       "<div>\n",
       "<style scoped>\n",
       "    .dataframe tbody tr th:only-of-type {\n",
       "        vertical-align: middle;\n",
       "    }\n",
       "\n",
       "    .dataframe tbody tr th {\n",
       "        vertical-align: top;\n",
       "    }\n",
       "\n",
       "    .dataframe thead th {\n",
       "        text-align: right;\n",
       "    }\n",
       "</style>\n",
       "<table border=\"1\" class=\"dataframe\">\n",
       "  <thead>\n",
       "    <tr style=\"text-align: right;\">\n",
       "      <th></th>\n",
       "      <th>views</th>\n",
       "      <th>likes</th>\n",
       "      <th>dislikes</th>\n",
       "      <th>comment_count</th>\n",
       "    </tr>\n",
       "  </thead>\n",
       "  <tbody>\n",
       "    <tr>\n",
       "      <th>views</th>\n",
       "      <td>1.000000</td>\n",
       "      <td>0.829952</td>\n",
       "      <td>0.558564</td>\n",
       "      <td>0.694395</td>\n",
       "    </tr>\n",
       "    <tr>\n",
       "      <th>likes</th>\n",
       "      <td>0.829952</td>\n",
       "      <td>1.000000</td>\n",
       "      <td>0.460500</td>\n",
       "      <td>0.837043</td>\n",
       "    </tr>\n",
       "    <tr>\n",
       "      <th>dislikes</th>\n",
       "      <td>0.558564</td>\n",
       "      <td>0.460500</td>\n",
       "      <td>1.000000</td>\n",
       "      <td>0.643210</td>\n",
       "    </tr>\n",
       "    <tr>\n",
       "      <th>comment_count</th>\n",
       "      <td>0.694395</td>\n",
       "      <td>0.837043</td>\n",
       "      <td>0.643210</td>\n",
       "      <td>1.000000</td>\n",
       "    </tr>\n",
       "  </tbody>\n",
       "</table>\n",
       "</div>"
      ],
      "text/plain": [
       "                  views     likes  dislikes  comment_count\n",
       "views          1.000000  0.829952  0.558564       0.694395\n",
       "likes          0.829952  1.000000  0.460500       0.837043\n",
       "dislikes       0.558564  0.460500  1.000000       0.643210\n",
       "comment_count  0.694395  0.837043  0.643210       1.000000"
      ]
     },
     "execution_count": 186,
     "metadata": {},
     "output_type": "execute_result"
    }
   ],
   "source": [
    "columns_needed_can = ['views', 'likes', 'dislikes', 'comment_count'] # only these columns needed this time\n",
    "corr_matrix_can = can[columns_needed_can].corr()\n",
    "corr_matrix_can"
   ]
  },
  {
   "cell_type": "markdown",
   "metadata": {},
   "source": [
    "## The table above shows that there are correlation between ..."
   ]
  },
  {
   "cell_type": "code",
   "execution_count": 188,
   "metadata": {},
   "outputs": [],
   "source": [
    "can['like_dislike_ratio'] = can['likes'] / can['dislikes']\n",
    "can['comments_percentage'] = can['comment_count'] / can['views']\n",
    "can['reaction_percentage'] = (can['likes'] + can['dislikes']) / can['views']"
   ]
  },
  {
   "cell_type": "code",
   "execution_count": 190,
   "metadata": {},
   "outputs": [
    {
     "data": {
      "image/png": "[encoded data removed]",
      "text/plain": [
       "<Figure size 432x288 with 2 Axes>"
      ]
     },
     "metadata": {
      "needs_background": "light"
     },
     "output_type": "display_data"
    }
   ],
   "source": [
    "correlation_can = can[['views', 'likes', 'dislikes', 'comment_count', 'like_dislike_ratio', 'comments_percentage', 'reaction_percentage']]\n",
    "corr_can = correlation.corr()\n",
    "\n",
    "mask_can = np.zeros_like(corr_can, dtype=np.bool)\n",
    "mask_can[np.triu_indices_from(mask_can)] = True\n",
    "\n",
    "cmap_can = sns.diverging_palette(220, 10, as_cmap=True)\n",
    "sns.heatmap(corr_can, mask=mask_can, cmap=cmap, vmax=.3, center=0,\n",
    "            square=True, linewidths=.5, cbar_kws={\"shrink\": .5})\n",
    "plt.show()"
   ]
  },
  {
   "cell_type": "markdown",
   "metadata": {},
   "source": [
    "*Matrix above shows that there are several moderate correlations. Just like we saw previously in USA dataset, also in this Canada dataset most noticable correlation is comment count is positevely related with views, likes and dislikes. That means that people who react with a like or dislike are also more likely leave a comment after watching the video.*"
   ]
  },
  {
   "cell_type": "markdown",
   "metadata": {},
   "source": [
    "## Repeat whole process with Dataset that contains Trending videos in Great Britain"
   ]
  },
  {
   "cell_type": "code",
   "execution_count": 191,
   "metadata": {},
   "outputs": [
    {
     "data": {
      "text/html": [
       "<div>\n",
       "<style scoped>\n",
       "    .dataframe tbody tr th:only-of-type {\n",
       "        vertical-align: middle;\n",
       "    }\n",
       "\n",
       "    .dataframe tbody tr th {\n",
       "        vertical-align: top;\n",
       "    }\n",
       "\n",
       "    .dataframe thead th {\n",
       "        text-align: right;\n",
       "    }\n",
       "</style>\n",
       "<table border=\"1\" class=\"dataframe\">\n",
       "  <thead>\n",
       "    <tr style=\"text-align: right;\">\n",
       "      <th></th>\n",
       "      <th>video_id</th>\n",
       "      <th>trending_date</th>\n",
       "      <th>title</th>\n",
       "      <th>channel_title</th>\n",
       "      <th>publish_time</th>\n",
       "      <th>views</th>\n",
       "      <th>likes</th>\n",
       "      <th>dislikes</th>\n",
       "      <th>comment_count</th>\n",
       "      <th>thumbnail_link</th>\n",
       "      <th>comments_disabled</th>\n",
       "      <th>ratings_disabled</th>\n",
       "      <th>video_error_or_removed</th>\n",
       "      <th>description</th>\n",
       "      <th>country</th>\n",
       "      <th>tags</th>\n",
       "      <th>category_id</th>\n",
       "    </tr>\n",
       "  </thead>\n",
       "  <tbody>\n",
       "    <tr>\n",
       "      <th>0</th>\n",
       "      <td>Jw1Y-zhQURU</td>\n",
       "      <td>17.14.11</td>\n",
       "      <td>John Lewis Christmas Ad 2017 - #MozTheMonster</td>\n",
       "      <td>John Lewis</td>\n",
       "      <td>2017-11-10T07:38:29.000Z</td>\n",
       "      <td>7224515.0</td>\n",
       "      <td>55681.0</td>\n",
       "      <td>10247.0</td>\n",
       "      <td>9479.0</td>\n",
       "      <td>https://i.ytimg.com/vi/Jw1Y-zhQURU/default.jpg</td>\n",
       "      <td>False</td>\n",
       "      <td>False</td>\n",
       "      <td>False</td>\n",
       "      <td>Click here to continue the story and make your...</td>\n",
       "      <td>GB</td>\n",
       "      <td>,'christmas','john lewis christmas','john lewi...</td>\n",
       "      <td>NaN</td>\n",
       "    </tr>\n",
       "    <tr>\n",
       "      <th>1</th>\n",
       "      <td>3s1rvMFUweQ</td>\n",
       "      <td>17.14.11</td>\n",
       "      <td>Taylor Swift: …Ready for It? (Live) - SNL</td>\n",
       "      <td>Saturday Night Live</td>\n",
       "      <td>2017-11-12T06:24:44.000Z</td>\n",
       "      <td>1053632.0</td>\n",
       "      <td>25561.0</td>\n",
       "      <td>2294.0</td>\n",
       "      <td>2757.0</td>\n",
       "      <td>https://i.ytimg.com/vi/3s1rvMFUweQ/default.jpg</td>\n",
       "      <td>False</td>\n",
       "      <td>False</td>\n",
       "      <td>False</td>\n",
       "      <td>Musical guest Taylor Swift performs …Ready for...</td>\n",
       "      <td>GB</td>\n",
       "      <td>,'snl','saturday night live','snl season 43','...</td>\n",
       "      <td>806.0</td>\n",
       "    </tr>\n",
       "    <tr>\n",
       "      <th>2</th>\n",
       "      <td>n1WpP7iowLc</td>\n",
       "      <td>17.14.11</td>\n",
       "      <td>Eminem - Walk On Water (Audio) ft. Beyoncé</td>\n",
       "      <td>EminemVEVO</td>\n",
       "      <td>2017-11-10T17:00:03.000Z</td>\n",
       "      <td>17158579.0</td>\n",
       "      <td>787420.0</td>\n",
       "      <td>43420.0</td>\n",
       "      <td>125882.0</td>\n",
       "      <td>https://i.ytimg.com/vi/n1WpP7iowLc/default.jpg</td>\n",
       "      <td>False</td>\n",
       "      <td>False</td>\n",
       "      <td>False</td>\n",
       "      <td>Eminem's new track Walk on Water ft. Beyoncé i...</td>\n",
       "      <td>GB</td>\n",
       "      <td>,'eminem','walk','on','water','aftermath/shady...</td>\n",
       "      <td>600.0</td>\n",
       "    </tr>\n",
       "    <tr>\n",
       "      <th>3</th>\n",
       "      <td>PUTEiSjKwJU</td>\n",
       "      <td>17.14.11</td>\n",
       "      <td>Goals from Salford City vs Class of 92 and Fri...</td>\n",
       "      <td>Salford City Football Club</td>\n",
       "      <td>2017-11-13T02:30:38.000Z</td>\n",
       "      <td>27833.0</td>\n",
       "      <td>193.0</td>\n",
       "      <td>12.0</td>\n",
       "      <td>37.0</td>\n",
       "      <td>https://i.ytimg.com/vi/PUTEiSjKwJU/default.jpg</td>\n",
       "      <td>False</td>\n",
       "      <td>False</td>\n",
       "      <td>False</td>\n",
       "      <td>Salford drew 4-4 against the Class of 92 and F...</td>\n",
       "      <td>GB</td>\n",
       "      <td>,'salford city fc','salford city','salford','c...</td>\n",
       "      <td>802.0</td>\n",
       "    </tr>\n",
       "    <tr>\n",
       "      <th>4</th>\n",
       "      <td>rHwDegptbI4</td>\n",
       "      <td>17.14.11</td>\n",
       "      <td>Dashcam captures truck's near miss with child ...</td>\n",
       "      <td>Cute Girl Videos</td>\n",
       "      <td>2017-11-13T01:45:13.000Z</td>\n",
       "      <td>9815.0</td>\n",
       "      <td>30.0</td>\n",
       "      <td>2.0</td>\n",
       "      <td>30.0</td>\n",
       "      <td>https://i.ytimg.com/vi/rHwDegptbI4/default.jpg</td>\n",
       "      <td>False</td>\n",
       "      <td>False</td>\n",
       "      <td>False</td>\n",
       "      <td>Dashcam captures truck's near miss with child ...</td>\n",
       "      <td>GB</td>\n",
       "      <td>,'[none]'</td>\n",
       "      <td>102.0</td>\n",
       "    </tr>\n",
       "  </tbody>\n",
       "</table>\n",
       "</div>"
      ],
      "text/plain": [
       "      video_id trending_date  \\\n",
       "0  Jw1Y-zhQURU      17.14.11   \n",
       "1  3s1rvMFUweQ      17.14.11   \n",
       "2  n1WpP7iowLc      17.14.11   \n",
       "3  PUTEiSjKwJU      17.14.11   \n",
       "4  rHwDegptbI4      17.14.11   \n",
       "\n",
       "                                               title  \\\n",
       "0      John Lewis Christmas Ad 2017 - #MozTheMonster   \n",
       "1          Taylor Swift: …Ready for It? (Live) - SNL   \n",
       "2         Eminem - Walk On Water (Audio) ft. Beyoncé   \n",
       "3  Goals from Salford City vs Class of 92 and Fri...   \n",
       "4  Dashcam captures truck's near miss with child ...   \n",
       "\n",
       "                channel_title              publish_time       views     likes  \\\n",
       "0                  John Lewis  2017-11-10T07:38:29.000Z   7224515.0   55681.0   \n",
       "1         Saturday Night Live  2017-11-12T06:24:44.000Z   1053632.0   25561.0   \n",
       "2                  EminemVEVO  2017-11-10T17:00:03.000Z  17158579.0  787420.0   \n",
       "3  Salford City Football Club  2017-11-13T02:30:38.000Z     27833.0     193.0   \n",
       "4            Cute Girl Videos  2017-11-13T01:45:13.000Z      9815.0      30.0   \n",
       "\n",
       "   dislikes  comment_count                                  thumbnail_link  \\\n",
       "0   10247.0         9479.0  https://i.ytimg.com/vi/Jw1Y-zhQURU/default.jpg   \n",
       "1    2294.0         2757.0  https://i.ytimg.com/vi/3s1rvMFUweQ/default.jpg   \n",
       "2   43420.0       125882.0  https://i.ytimg.com/vi/n1WpP7iowLc/default.jpg   \n",
       "3      12.0           37.0  https://i.ytimg.com/vi/PUTEiSjKwJU/default.jpg   \n",
       "4       2.0           30.0  https://i.ytimg.com/vi/rHwDegptbI4/default.jpg   \n",
       "\n",
       "  comments_disabled ratings_disabled video_error_or_removed  \\\n",
       "0             False            False                  False   \n",
       "1             False            False                  False   \n",
       "2             False            False                  False   \n",
       "3             False            False                  False   \n",
       "4             False            False                  False   \n",
       "\n",
       "                                         description country  \\\n",
       "0  Click here to continue the story and make your...      GB   \n",
       "1  Musical guest Taylor Swift performs …Ready for...      GB   \n",
       "2  Eminem's new track Walk on Water ft. Beyoncé i...      GB   \n",
       "3  Salford drew 4-4 against the Class of 92 and F...      GB   \n",
       "4  Dashcam captures truck's near miss with child ...      GB   \n",
       "\n",
       "                                                tags  category_id  \n",
       "0  ,'christmas','john lewis christmas','john lewi...          NaN  \n",
       "1  ,'snl','saturday night live','snl season 43','...        806.0  \n",
       "2  ,'eminem','walk','on','water','aftermath/shady...        600.0  \n",
       "3  ,'salford city fc','salford city','salford','c...        802.0  \n",
       "4                                          ,'[none]'        102.0  "
      ]
     },
     "execution_count": 191,
     "metadata": {},
     "output_type": "execute_result"
    }
   ],
   "source": [
    "gb = pd.read_csv('GBvideos.csv', sep=';')\n",
    "gb.head()"
   ]
  },
  {
   "cell_type": "markdown",
   "metadata": {},
   "source": [
    "### Shape of Great Britain Dataset"
   ]
  },
  {
   "cell_type": "code",
   "execution_count": 193,
   "metadata": {},
   "outputs": [
    {
     "data": {
      "text/plain": [
       "(42467, 17)"
      ]
     },
     "execution_count": 193,
     "metadata": {},
     "output_type": "execute_result"
    }
   ],
   "source": [
    "gb.shape"
   ]
  },
  {
   "cell_type": "markdown",
   "metadata": {},
   "source": [
    "*GB Dataset consist of **42 467** rows and 17 columns.*"
   ]
  },
  {
   "cell_type": "markdown",
   "metadata": {},
   "source": [
    "#### The names of all columns in this GB dataset"
   ]
  },
  {
   "cell_type": "code",
   "execution_count": 194,
   "metadata": {},
   "outputs": [
    {
     "data": {
      "text/plain": [
       "Index(['video_id', 'trending_date', 'title', 'channel_title', 'publish_time',\n",
       "       'views', 'likes', 'dislikes', 'comment_count', 'thumbnail_link',\n",
       "       'comments_disabled', 'ratings_disabled', 'video_error_or_removed',\n",
       "       'description', 'country', 'tags', 'category_id'],\n",
       "      dtype='object')"
      ]
     },
     "execution_count": 194,
     "metadata": {},
     "output_type": "execute_result"
    }
   ],
   "source": [
    "gb.columns"
   ]
  },
  {
   "cell_type": "markdown",
   "metadata": {},
   "source": [
    "#### Unique videos in a dataset"
   ]
  },
  {
   "cell_type": "code",
   "execution_count": 195,
   "metadata": {},
   "outputs": [
    {
     "data": {
      "text/plain": [
       "3417"
      ]
     },
     "execution_count": 195,
     "metadata": {},
     "output_type": "execute_result"
    }
   ],
   "source": [
    "count_of_unique_videos_gb = gb['video_id'].unique().shape[0]\n",
    "count_of_unique_videos_gb"
   ]
  },
  {
   "cell_type": "markdown",
   "metadata": {},
   "source": [
    "*Great Britain dateset contains **3417** unique videos.*"
   ]
  },
  {
   "cell_type": "markdown",
   "metadata": {},
   "source": [
    "## Column Data types (GB)"
   ]
  },
  {
   "cell_type": "code",
   "execution_count": 196,
   "metadata": {},
   "outputs": [
    {
     "data": {
      "text/plain": [
       "video_id                   object\n",
       "trending_date              object\n",
       "title                      object\n",
       "channel_title              object\n",
       "publish_time               object\n",
       "views                     float64\n",
       "likes                     float64\n",
       "dislikes                  float64\n",
       "comment_count             float64\n",
       "thumbnail_link             object\n",
       "comments_disabled          object\n",
       "ratings_disabled           object\n",
       "video_error_or_removed     object\n",
       "description                object\n",
       "country                    object\n",
       "tags                       object\n",
       "category_id               float64\n",
       "dtype: object"
      ]
     },
     "execution_count": 196,
     "metadata": {},
     "output_type": "execute_result"
    }
   ],
   "source": [
    "gb.dtypes"
   ]
  },
  {
   "cell_type": "code",
   "execution_count": 225,
   "metadata": {},
   "outputs": [],
   "source": [
    "column_datatypes_to_change_gb = ['views', 'likes', 'dislikes', 'comment_count']\n",
    "for column in column_datatypes_to_change_gb:\n",
    "    gb[column] = gb[column].astype(int)"
   ]
  },
  {
   "cell_type": "code",
   "execution_count": 197,
   "metadata": {},
   "outputs": [],
   "source": [
    "gb['trending_date'] = pd.to_datetime(gb['trending_date'],errors='coerce', format='%y.%d.%m')\n",
    "gb['publish_time'] = pd.to_datetime(gb['publish_time'], format='%Y-%m-%dT%H:%M:%S.%fZ')"
   ]
  },
  {
   "cell_type": "code",
   "execution_count": 226,
   "metadata": {},
   "outputs": [
    {
     "data": {
      "text/plain": [
       "video_id                          object\n",
       "trending_date             datetime64[ns]\n",
       "title                             object\n",
       "channel_title                     object\n",
       "publish_time              datetime64[ns]\n",
       "views                              int32\n",
       "likes                              int32\n",
       "dislikes                           int32\n",
       "comment_count                      int32\n",
       "thumbnail_link                    object\n",
       "comments_disabled                 object\n",
       "ratings_disabled                  object\n",
       "video_error_or_removed            object\n",
       "description                       object\n",
       "country                           object\n",
       "tags                              object\n",
       "category_id                      float64\n",
       "dtype: object"
      ]
     },
     "execution_count": 226,
     "metadata": {},
     "output_type": "execute_result"
    }
   ],
   "source": [
    "gb.dtypes"
   ]
  },
  {
   "cell_type": "markdown",
   "metadata": {},
   "source": [
    "## Missing data (GB)"
   ]
  },
  {
   "cell_type": "code",
   "execution_count": 199,
   "metadata": {},
   "outputs": [
    {
     "name": "stdout",
     "output_type": "stream",
     "text": [
      "Column 'video_id' null rate: 19.36%\n",
      "Column 'trending_date' null rate: 19.36%\n",
      "Column 'title' null rate: 19.36%\n",
      "Column 'channel_title' null rate: 19.36%\n",
      "Column 'publish_time' null rate: 19.36%\n",
      "Column 'views' null rate: 19.36%\n",
      "Column 'likes' null rate: 19.36%\n",
      "Column 'dislikes' null rate: 19.36%\n",
      "Column 'comment_count' null rate: 19.36%\n",
      "Column 'thumbnail_link' null rate: 19.36%\n",
      "Column 'comments_disabled' null rate: 19.36%\n",
      "Column 'ratings_disabled' null rate: 19.36%\n",
      "Column 'video_error_or_removed' null rate: 19.36%\n",
      "Column 'description' null rate: 19.36%\n",
      "Column 'country' null rate: 19.36%\n",
      "Column 'tags' null rate: 19.36%\n",
      "Column 'category_id' null rate: 19.36%\n"
     ]
    }
   ],
   "source": [
    "for i in gb.columns:\n",
    "    null_rate_gb = gb[i].isna().sum()/len(gb)*100\n",
    "    if null_rate >= 0:\n",
    "        print(\"Column '{}' null rate: {}%\".format(i,round(null_rate,2)))"
   ]
  },
  {
   "cell_type": "markdown",
   "metadata": {},
   "source": [
    "*All columns in GB Dataset has the same level of missing values - almost the **fifth part** is missing (19,36%).*"
   ]
  },
  {
   "cell_type": "code",
   "execution_count": 200,
   "metadata": {},
   "outputs": [
    {
     "data": {
      "text/plain": [
       "video_id                     0\n",
       "trending_date             3661\n",
       "title                     2948\n",
       "channel_title             3012\n",
       "publish_time              3661\n",
       "views                     3661\n",
       "likes                     3661\n",
       "dislikes                  3661\n",
       "comment_count             3661\n",
       "thumbnail_link            3661\n",
       "comments_disabled         3661\n",
       "ratings_disabled          3661\n",
       "video_error_or_removed    3661\n",
       "description               4273\n",
       "country                   4374\n",
       "tags                      4374\n",
       "category_id               5202\n",
       "dtype: int64"
      ]
     },
     "execution_count": 200,
     "metadata": {},
     "output_type": "execute_result"
    }
   ],
   "source": [
    "gb.isnull().sum()"
   ]
  },
  {
   "cell_type": "markdown",
   "metadata": {},
   "source": [
    "*We can see that all columns **(except 'video_id')** contains couple thousands of NULL values. There are no 1 right way to deal with them.*"
   ]
  },
  {
   "cell_type": "markdown",
   "metadata": {},
   "source": [
    "*Get rid of missing values in columns **Views**, **Likes,** **Dislikes** and **Comment_count** to do analysis with them. We could replace missing values with average values in each column, but this time I think we can replace NaN values with 0 as well.*"
   ]
  },
  {
   "cell_type": "code",
   "execution_count": 201,
   "metadata": {},
   "outputs": [],
   "source": [
    "gb['views'] = gb['views'].fillna(0)\n",
    "gb['likes'] = gb['likes'].fillna(0)\n",
    "gb['dislikes'] = gb['dislikes'].fillna(0)\n",
    "gb['comment_count'] = gb['comment_count'].fillna(0)"
   ]
  },
  {
   "cell_type": "code",
   "execution_count": 202,
   "metadata": {},
   "outputs": [
    {
     "data": {
      "text/plain": [
       "video_id                     0\n",
       "trending_date             3661\n",
       "title                     2948\n",
       "channel_title             3012\n",
       "publish_time              3661\n",
       "views                        0\n",
       "likes                        0\n",
       "dislikes                     0\n",
       "comment_count                0\n",
       "thumbnail_link            3661\n",
       "comments_disabled         3661\n",
       "ratings_disabled          3661\n",
       "video_error_or_removed    3661\n",
       "description               4273\n",
       "country                   4374\n",
       "tags                      4374\n",
       "category_id               5202\n",
       "dtype: int64"
      ]
     },
     "execution_count": 202,
     "metadata": {},
     "output_type": "execute_result"
    }
   ],
   "source": [
    "gb.isnull().sum()"
   ]
  },
  {
   "cell_type": "markdown",
   "metadata": {},
   "source": [
    "*Now neither of the mentioned columns has NULL values.*"
   ]
  },
  {
   "cell_type": "markdown",
   "metadata": {},
   "source": [
    "### Disabled Comments, Ratings & Errors"
   ]
  },
  {
   "cell_type": "code",
   "execution_count": 203,
   "metadata": {},
   "outputs": [
    {
     "data": {
      "text/plain": [
       "False    38737\n",
       "True        69\n",
       "Name: video_error_or_removed, dtype: int64"
      ]
     },
     "execution_count": 203,
     "metadata": {},
     "output_type": "execute_result"
    }
   ],
   "source": [
    "gb[\"video_error_or_removed\"].value_counts()"
   ]
  },
  {
   "cell_type": "markdown",
   "metadata": {},
   "source": [
    "*Out of videos that had a information about this variable (38 806) only 69 videos had errors or they were removed.*"
   ]
  },
  {
   "cell_type": "code",
   "execution_count": 205,
   "metadata": {},
   "outputs": [
    {
     "data": {
      "text/plain": [
       "False    38172\n",
       "True       634\n",
       "Name: comments_disabled, dtype: int64"
      ]
     },
     "execution_count": 205,
     "metadata": {},
     "output_type": "execute_result"
    }
   ],
   "source": [
    "gb[\"comments_disabled\"].value_counts()"
   ]
  },
  {
   "cell_type": "markdown",
   "metadata": {},
   "source": [
    "*Only **634** videos had their comments disabled which is 1,5% of all videos that had info about this variable (as seen in code below).*"
   ]
  },
  {
   "cell_type": "code",
   "execution_count": 206,
   "metadata": {},
   "outputs": [
    {
     "data": {
      "text/plain": [
       "False    38596\n",
       "True       210\n",
       "Name: ratings_disabled, dtype: int64"
      ]
     },
     "execution_count": 206,
     "metadata": {},
     "output_type": "execute_result"
    }
   ],
   "source": [
    "gb[\"ratings_disabled\"].value_counts()"
   ]
  },
  {
   "cell_type": "markdown",
   "metadata": {},
   "source": [
    "*Once again, only a small portion **(210)** of all videos had their ratings disabled.*"
   ]
  },
  {
   "cell_type": "markdown",
   "metadata": {},
   "source": [
    "## Top Categories (GB)"
   ]
  },
  {
   "cell_type": "code",
   "execution_count": 213,
   "metadata": {},
   "outputs": [
    {
     "data": {
      "text/plain": [
       "600.0    13715\n",
       "806.0     8875\n",
       "804.0     2864\n",
       "201.0     1886\n",
       "803.0     1788\n",
       "805.0     1776\n",
       "802.0     1670\n",
       "102.0     1225\n",
       "202.0      629\n",
       "301.0      506\n",
       "700.0      491\n",
       "302.0      457\n",
       "801.0      141\n",
       "101.0       90\n",
       "402.0       86\n",
       "410.0       77\n",
       "412.0       71\n",
       "407.0       69\n",
       "415.0       68\n",
       "403.0       68\n",
       "414.0       66\n",
       "418.0       53\n",
       "408.0       49\n",
       "424.0       45\n",
       "420.0       36\n",
       "419.0       35\n",
       "416.0       32\n",
       "426.0       28\n",
       "411.0       28\n",
       "504.0       22\n",
       "440.0       21\n",
       "204.0       20\n",
       "441.0       20\n",
       "507.0       18\n",
       "409.0       18\n",
       "417.0       16\n",
       "406.0       14\n",
       "514.0       13\n",
       "413.0       12\n",
       "452.0       12\n",
       "423.0       12\n",
       "446.0       12\n",
       "430.0       11\n",
       "516.0       11\n",
       "448.0       10\n",
       "456.0       10\n",
       "458.0       10\n",
       "460.0       10\n",
       "453.0        9\n",
       "511.0        9\n",
       "467.0        8\n",
       "437.0        8\n",
       "524.0        7\n",
       "520.0        6\n",
       "525.0        6\n",
       "470.0        6\n",
       "532.0        4\n",
       "482.0        3\n",
       "428.0        3\n",
       "Name: category_id, dtype: int64"
      ]
     },
     "execution_count": 213,
     "metadata": {},
     "output_type": "execute_result"
    }
   ],
   "source": [
    "gb['category_id'].value_counts().head(120)"
   ]
  },
  {
   "cell_type": "code",
   "execution_count": 217,
   "metadata": {},
   "outputs": [
    {
     "data": {
      "image/png": "[encoded data removed]",
      "text/plain": [
       "<Figure size 432x288 with 1 Axes>"
      ]
     },
     "metadata": {},
     "output_type": "display_data"
    }
   ],
   "source": [
    "# Based on data that is found in categories.csv we can found out the distribution of videos by Categories\n",
    "\n",
    "politics = gb.loc[(gb.category_id >= 100) & (gb.category_id <= 102)].count()[0]\n",
    "cinema = gb.loc[(gb.category_id >= 200) & (gb.category_id <= 204)].count()[0]\n",
    "education = gb.loc[(gb.category_id >= 300) & (gb.category_id <= 302)].count()[0]\n",
    "diy_and_beauty = gb.loc[(gb.category_id >= 400) & (gb.category_id <= 497)].count()[0]\n",
    "travel_and_events = gb.loc[(gb.category_id >= 500) & (gb.category_id <= 551)].count()[0]\n",
    "music = gb.loc[(gb.category_id >= 600) & (gb.category_id <= 600)].count()[0]\n",
    "animals = gb.loc[(gb.category_id >= 700) & (gb.category_id <= 700)].count()[0]\n",
    "entertainment = gb.loc[(gb.category_id >= 800) & (gb.category_id <= 806)].count()[0]\n",
    "\n",
    "categories = [politics, cinema, education, diy_and_beauty, travel_and_events, music, animals, entertainment]\n",
    "explode = [0,0,0,0,.25,0,0,0]\n",
    "colors = ['magenta', 'cyan', 'pink', 'salmon', 'khaki', 'lightblue', 'lightgreen', 'orange']\n",
    "labels = ['Politics', 'Cinema', 'Education', 'DIY&Beauty', 'Travel&Events', 'Music', 'Animals', 'Entertainment']\n",
    "\n",
    "#plt.title('Distribution of videos by Categories!')\n",
    "\n",
    "plt.pie(categories, labels=labels, radius=3, colors=colors, autopct='%.2f %%', pctdistance=0.8, explode=explode)\n",
    "plt.show()"
   ]
  },
  {
   "cell_type": "markdown",
   "metadata": {},
   "source": [
    "*In the Pie Chart above we see that when looking at Great Britain dateset Entertainment category contains the largest number of trending videos among other categories **(45,93%)**, followed by Music category **(36,80%)**, followed by Cinema category **(6,80%)**, and so on.*"
   ]
  },
  {
   "cell_type": "markdown",
   "metadata": {},
   "source": [
    "## Views of the videos (GB)"
   ]
  },
  {
   "cell_type": "markdown",
   "metadata": {},
   "source": [
    "#### A trending video with the fewest views (excluding those with 0 views)"
   ]
  },
  {
   "cell_type": "code",
   "execution_count": 219,
   "metadata": {},
   "outputs": [
    {
     "data": {
      "text/html": [
       "<div>\n",
       "<style scoped>\n",
       "    .dataframe tbody tr th:only-of-type {\n",
       "        vertical-align: middle;\n",
       "    }\n",
       "\n",
       "    .dataframe tbody tr th {\n",
       "        vertical-align: top;\n",
       "    }\n",
       "\n",
       "    .dataframe thead th {\n",
       "        text-align: right;\n",
       "    }\n",
       "</style>\n",
       "<table border=\"1\" class=\"dataframe\">\n",
       "  <thead>\n",
       "    <tr style=\"text-align: right;\">\n",
       "      <th></th>\n",
       "      <th>video_id</th>\n",
       "      <th>trending_date</th>\n",
       "      <th>title</th>\n",
       "      <th>channel_title</th>\n",
       "      <th>publish_time</th>\n",
       "      <th>views</th>\n",
       "      <th>likes</th>\n",
       "      <th>dislikes</th>\n",
       "      <th>comment_count</th>\n",
       "      <th>thumbnail_link</th>\n",
       "      <th>comments_disabled</th>\n",
       "      <th>ratings_disabled</th>\n",
       "      <th>video_error_or_removed</th>\n",
       "      <th>description</th>\n",
       "      <th>country</th>\n",
       "      <th>tags</th>\n",
       "      <th>category_id</th>\n",
       "    </tr>\n",
       "  </thead>\n",
       "  <tbody>\n",
       "    <tr>\n",
       "      <th>4111</th>\n",
       "      <td>n26wtR-OFr8</td>\n",
       "      <td>2017-12-01</td>\n",
       "      <td>Mountain Bikers Worried About Military Land Be...</td>\n",
       "      <td>That's Surrey TV</td>\n",
       "      <td>2017-11-27 18:08:49</td>\n",
       "      <td>851.0</td>\n",
       "      <td>12.0</td>\n",
       "      <td>0.0</td>\n",
       "      <td>3.0</td>\n",
       "      <td>https://i.ytimg.com/vi/n26wtR-OFr8/default.jpg</td>\n",
       "      <td>False</td>\n",
       "      <td>False</td>\n",
       "      <td>False</td>\n",
       "      <td>A group of mountain bikers are concerned that ...</td>\n",
       "      <td>GB</td>\n",
       "      <td>,'surrey','that's tv','that's surrey','mountai...</td>\n",
       "      <td>102.0</td>\n",
       "    </tr>\n",
       "  </tbody>\n",
       "</table>\n",
       "</div>"
      ],
      "text/plain": [
       "         video_id trending_date  \\\n",
       "4111  n26wtR-OFr8    2017-12-01   \n",
       "\n",
       "                                                  title     channel_title  \\\n",
       "4111  Mountain Bikers Worried About Military Land Be...  That's Surrey TV   \n",
       "\n",
       "            publish_time  views  likes  dislikes  comment_count  \\\n",
       "4111 2017-11-27 18:08:49  851.0   12.0       0.0            3.0   \n",
       "\n",
       "                                      thumbnail_link comments_disabled  \\\n",
       "4111  https://i.ytimg.com/vi/n26wtR-OFr8/default.jpg             False   \n",
       "\n",
       "     ratings_disabled video_error_or_removed  \\\n",
       "4111            False                  False   \n",
       "\n",
       "                                            description country  \\\n",
       "4111  A group of mountain bikers are concerned that ...      GB   \n",
       "\n",
       "                                                   tags  category_id  \n",
       "4111  ,'surrey','that's tv','that's surrey','mountai...        102.0  "
      ]
     },
     "execution_count": 219,
     "metadata": {},
     "output_type": "execute_result"
    }
   ],
   "source": [
    "unique_videos_gb_least_views = (gb[gb['views'] > 0].sort_values(by='views', ascending=True)).drop_duplicates(subset=['video_id']).head(1)\n",
    "unique_videos_gb_least_views"
   ]
  },
  {
   "cell_type": "markdown",
   "metadata": {},
   "source": [
    "*Video with the LEAST views is called **\"Mountain Bikers Worried About Military Land Be...\"** from channel \"That's Surrey TV\" which had accumulated 851 views.*"
   ]
  },
  {
   "cell_type": "markdown",
   "metadata": {},
   "source": [
    "##### TOP 5 trending videos with the LEAST Views - excluding those with 0 views"
   ]
  },
  {
   "cell_type": "code",
   "execution_count": 220,
   "metadata": {},
   "outputs": [
    {
     "data": {
      "text/html": [
       "<div>\n",
       "<style scoped>\n",
       "    .dataframe tbody tr th:only-of-type {\n",
       "        vertical-align: middle;\n",
       "    }\n",
       "\n",
       "    .dataframe tbody tr th {\n",
       "        vertical-align: top;\n",
       "    }\n",
       "\n",
       "    .dataframe thead th {\n",
       "        text-align: right;\n",
       "    }\n",
       "</style>\n",
       "<table border=\"1\" class=\"dataframe\">\n",
       "  <thead>\n",
       "    <tr style=\"text-align: right;\">\n",
       "      <th></th>\n",
       "      <th>video_id</th>\n",
       "      <th>trending_date</th>\n",
       "      <th>title</th>\n",
       "      <th>channel_title</th>\n",
       "      <th>publish_time</th>\n",
       "      <th>views</th>\n",
       "      <th>likes</th>\n",
       "      <th>dislikes</th>\n",
       "      <th>comment_count</th>\n",
       "      <th>thumbnail_link</th>\n",
       "      <th>comments_disabled</th>\n",
       "      <th>ratings_disabled</th>\n",
       "      <th>video_error_or_removed</th>\n",
       "      <th>description</th>\n",
       "      <th>country</th>\n",
       "      <th>tags</th>\n",
       "      <th>category_id</th>\n",
       "    </tr>\n",
       "  </thead>\n",
       "  <tbody>\n",
       "    <tr>\n",
       "      <th>4111</th>\n",
       "      <td>n26wtR-OFr8</td>\n",
       "      <td>2017-12-01</td>\n",
       "      <td>Mountain Bikers Worried About Military Land Be...</td>\n",
       "      <td>That's Surrey TV</td>\n",
       "      <td>2017-11-27 18:08:49</td>\n",
       "      <td>851.0</td>\n",
       "      <td>12.0</td>\n",
       "      <td>0.0</td>\n",
       "      <td>3.0</td>\n",
       "      <td>https://i.ytimg.com/vi/n26wtR-OFr8/default.jpg</td>\n",
       "      <td>False</td>\n",
       "      <td>False</td>\n",
       "      <td>False</td>\n",
       "      <td>A group of mountain bikers are concerned that ...</td>\n",
       "      <td>GB</td>\n",
       "      <td>,'surrey','that's tv','that's surrey','mountai...</td>\n",
       "      <td>102.0</td>\n",
       "    </tr>\n",
       "    <tr>\n",
       "      <th>5390</th>\n",
       "      <td>vPsic3dEndc</td>\n",
       "      <td>2017-12-07</td>\n",
       "      <td>QUIZ : Name the Trail : A Christmas Cracker</td>\n",
       "      <td>The 2Inch of Gnar</td>\n",
       "      <td>2017-12-01 11:34:30</td>\n",
       "      <td>1184.0</td>\n",
       "      <td>2.0</td>\n",
       "      <td>0.0</td>\n",
       "      <td>1.0</td>\n",
       "      <td>https://i.ytimg.com/vi/vPsic3dEndc/default.jpg</td>\n",
       "      <td>False</td>\n",
       "      <td>False</td>\n",
       "      <td>False</td>\n",
       "      <td>A Bad Brains Christmas Cracker! - #NameTheTrai...</td>\n",
       "      <td>GB</td>\n",
       "      <td>,'mtb','mountain biking','bike','bird','aeris'...</td>\n",
       "      <td>804.0</td>\n",
       "    </tr>\n",
       "    <tr>\n",
       "      <th>280</th>\n",
       "      <td>NcVxrr_q3Hw</td>\n",
       "      <td>2017-11-15</td>\n",
       "      <td>George Durack | Remembrance Sunday | You Can't...</td>\n",
       "      <td>Official Jeremy Corbyn Channel</td>\n",
       "      <td>2017-11-12 07:37:46</td>\n",
       "      <td>1505.0</td>\n",
       "      <td>88.0</td>\n",
       "      <td>12.0</td>\n",
       "      <td>40.0</td>\n",
       "      <td>https://i.ytimg.com/vi/NcVxrr_q3Hw/default.jpg</td>\n",
       "      <td>False</td>\n",
       "      <td>False</td>\n",
       "      <td>False</td>\n",
       "      <td>Ahead of Remembrance Sunday, I visited my frie...</td>\n",
       "      <td>GB</td>\n",
       "      <td>,'[none]'</td>\n",
       "      <td>NaN</td>\n",
       "    </tr>\n",
       "    <tr>\n",
       "      <th>7522</th>\n",
       "      <td>BsQZPKeaKBg</td>\n",
       "      <td>2017-12-17</td>\n",
       "      <td>1080p WOLF OF THE AUTOSTRADA - RUF Automobile ...</td>\n",
       "      <td>VirusTornado</td>\n",
       "      <td>2017-12-13 20:08:02</td>\n",
       "      <td>1858.0</td>\n",
       "      <td>61.0</td>\n",
       "      <td>1.0</td>\n",
       "      <td>13.0</td>\n",
       "      <td>https://i.ytimg.com/vi/BsQZPKeaKBg/default.jpg</td>\n",
       "      <td>False</td>\n",
       "      <td>False</td>\n",
       "      <td>False</td>\n",
       "      <td>FULL HD VERSION\\n\\nFeaturing Valentino Balboni...</td>\n",
       "      <td>GB</td>\n",
       "      <td>,'ruf','porsche','ctr','yellowbird','911','car...</td>\n",
       "      <td>801.0</td>\n",
       "    </tr>\n",
       "    <tr>\n",
       "      <th>7947</th>\n",
       "      <td>B1tEq5RU-Wo</td>\n",
       "      <td>2017-12-19</td>\n",
       "      <td>Best bikes in the world: Cotic Soul</td>\n",
       "      <td>Guy Kesteven</td>\n",
       "      <td>2017-12-15 20:51:50</td>\n",
       "      <td>1930.0</td>\n",
       "      <td>54.0</td>\n",
       "      <td>0.0</td>\n",
       "      <td>24.0</td>\n",
       "      <td>https://i.ytimg.com/vi/B1tEq5RU-Wo/default.jpg</td>\n",
       "      <td>False</td>\n",
       "      <td>False</td>\n",
       "      <td>False</td>\n",
       "      <td>#sponsored Full live ride reviews of the lates...</td>\n",
       "      <td>GB</td>\n",
       "      <td>,'imovie','mountain bike','mountain biking','s...</td>\n",
       "      <td>802.0</td>\n",
       "    </tr>\n",
       "  </tbody>\n",
       "</table>\n",
       "</div>"
      ],
      "text/plain": [
       "         video_id trending_date  \\\n",
       "4111  n26wtR-OFr8    2017-12-01   \n",
       "5390  vPsic3dEndc    2017-12-07   \n",
       "280   NcVxrr_q3Hw    2017-11-15   \n",
       "7522  BsQZPKeaKBg    2017-12-17   \n",
       "7947  B1tEq5RU-Wo    2017-12-19   \n",
       "\n",
       "                                                  title  \\\n",
       "4111  Mountain Bikers Worried About Military Land Be...   \n",
       "5390        QUIZ : Name the Trail : A Christmas Cracker   \n",
       "280   George Durack | Remembrance Sunday | You Can't...   \n",
       "7522  1080p WOLF OF THE AUTOSTRADA - RUF Automobile ...   \n",
       "7947                Best bikes in the world: Cotic Soul   \n",
       "\n",
       "                       channel_title        publish_time   views  likes  \\\n",
       "4111                That's Surrey TV 2017-11-27 18:08:49   851.0   12.0   \n",
       "5390               The 2Inch of Gnar 2017-12-01 11:34:30  1184.0    2.0   \n",
       "280   Official Jeremy Corbyn Channel 2017-11-12 07:37:46  1505.0   88.0   \n",
       "7522                    VirusTornado 2017-12-13 20:08:02  1858.0   61.0   \n",
       "7947                    Guy Kesteven 2017-12-15 20:51:50  1930.0   54.0   \n",
       "\n",
       "      dislikes  comment_count                                  thumbnail_link  \\\n",
       "4111       0.0            3.0  https://i.ytimg.com/vi/n26wtR-OFr8/default.jpg   \n",
       "5390       0.0            1.0  https://i.ytimg.com/vi/vPsic3dEndc/default.jpg   \n",
       "280       12.0           40.0  https://i.ytimg.com/vi/NcVxrr_q3Hw/default.jpg   \n",
       "7522       1.0           13.0  https://i.ytimg.com/vi/BsQZPKeaKBg/default.jpg   \n",
       "7947       0.0           24.0  https://i.ytimg.com/vi/B1tEq5RU-Wo/default.jpg   \n",
       "\n",
       "     comments_disabled ratings_disabled video_error_or_removed  \\\n",
       "4111             False            False                  False   \n",
       "5390             False            False                  False   \n",
       "280              False            False                  False   \n",
       "7522             False            False                  False   \n",
       "7947             False            False                  False   \n",
       "\n",
       "                                            description country  \\\n",
       "4111  A group of mountain bikers are concerned that ...      GB   \n",
       "5390  A Bad Brains Christmas Cracker! - #NameTheTrai...      GB   \n",
       "280   Ahead of Remembrance Sunday, I visited my frie...      GB   \n",
       "7522  FULL HD VERSION\\n\\nFeaturing Valentino Balboni...      GB   \n",
       "7947  #sponsored Full live ride reviews of the lates...      GB   \n",
       "\n",
       "                                                   tags  category_id  \n",
       "4111  ,'surrey','that's tv','that's surrey','mountai...        102.0  \n",
       "5390  ,'mtb','mountain biking','bike','bird','aeris'...        804.0  \n",
       "280                                           ,'[none]'          NaN  \n",
       "7522  ,'ruf','porsche','ctr','yellowbird','911','car...        801.0  \n",
       "7947  ,'imovie','mountain bike','mountain biking','s...        802.0  "
      ]
     },
     "execution_count": 220,
     "metadata": {},
     "output_type": "execute_result"
    }
   ],
   "source": [
    "unique_videos_gb_least_views = (gb[gb['views'] > 0].sort_values(by='views', ascending=True)).drop_duplicates(subset=['video_id']).head(5)\n",
    "unique_videos_gb_least_views"
   ]
  },
  {
   "cell_type": "markdown",
   "metadata": {},
   "source": [
    "#### A trending video with the maximum number of views"
   ]
  },
  {
   "cell_type": "code",
   "execution_count": 221,
   "metadata": {},
   "outputs": [
    {
     "data": {
      "text/html": [
       "<div>\n",
       "<style scoped>\n",
       "    .dataframe tbody tr th:only-of-type {\n",
       "        vertical-align: middle;\n",
       "    }\n",
       "\n",
       "    .dataframe tbody tr th {\n",
       "        vertical-align: top;\n",
       "    }\n",
       "\n",
       "    .dataframe thead th {\n",
       "        text-align: right;\n",
       "    }\n",
       "</style>\n",
       "<table border=\"1\" class=\"dataframe\">\n",
       "  <thead>\n",
       "    <tr style=\"text-align: right;\">\n",
       "      <th></th>\n",
       "      <th>30683</th>\n",
       "    </tr>\n",
       "  </thead>\n",
       "  <tbody>\n",
       "    <tr>\n",
       "      <th>video_id</th>\n",
       "      <td>_I_D_8Z4sJE</td>\n",
       "    </tr>\n",
       "    <tr>\n",
       "      <th>trending_date</th>\n",
       "      <td>2018-04-07 00:00:00</td>\n",
       "    </tr>\n",
       "    <tr>\n",
       "      <th>title</th>\n",
       "      <td>Nicky Jam x J. Balvin - X (EQUIS) | Video Ofic...</td>\n",
       "    </tr>\n",
       "    <tr>\n",
       "      <th>channel_title</th>\n",
       "      <td>NickyJamTV</td>\n",
       "    </tr>\n",
       "    <tr>\n",
       "      <th>publish_time</th>\n",
       "      <td>2018-03-02 05:00:19</td>\n",
       "    </tr>\n",
       "    <tr>\n",
       "      <th>views</th>\n",
       "      <td>4.24539e+08</td>\n",
       "    </tr>\n",
       "    <tr>\n",
       "      <th>likes</th>\n",
       "      <td>2.81877e+06</td>\n",
       "    </tr>\n",
       "    <tr>\n",
       "      <th>dislikes</th>\n",
       "      <td>149275</td>\n",
       "    </tr>\n",
       "    <tr>\n",
       "      <th>comment_count</th>\n",
       "      <td>99380</td>\n",
       "    </tr>\n",
       "    <tr>\n",
       "      <th>thumbnail_link</th>\n",
       "      <td>https://i.ytimg.com/vi/_I_D_8Z4sJE/default.jpg</td>\n",
       "    </tr>\n",
       "    <tr>\n",
       "      <th>comments_disabled</th>\n",
       "      <td>False</td>\n",
       "    </tr>\n",
       "    <tr>\n",
       "      <th>ratings_disabled</th>\n",
       "      <td>False</td>\n",
       "    </tr>\n",
       "    <tr>\n",
       "      <th>video_error_or_removed</th>\n",
       "      <td>False</td>\n",
       "    </tr>\n",
       "    <tr>\n",
       "      <th>description</th>\n",
       "      <td>Disponible en tu plataforma preferida:\\nhttps:...</td>\n",
       "    </tr>\n",
       "    <tr>\n",
       "      <th>country</th>\n",
       "      <td>GB</td>\n",
       "    </tr>\n",
       "    <tr>\n",
       "      <th>tags</th>\n",
       "      <td>,'bad bunny','amorfoda','dura','daddy yankee',...</td>\n",
       "    </tr>\n",
       "    <tr>\n",
       "      <th>category_id</th>\n",
       "      <td>600</td>\n",
       "    </tr>\n",
       "  </tbody>\n",
       "</table>\n",
       "</div>"
      ],
      "text/plain": [
       "                                                                    30683\n",
       "video_id                                                      _I_D_8Z4sJE\n",
       "trending_date                                         2018-04-07 00:00:00\n",
       "title                   Nicky Jam x J. Balvin - X (EQUIS) | Video Ofic...\n",
       "channel_title                                                  NickyJamTV\n",
       "publish_time                                          2018-03-02 05:00:19\n",
       "views                                                         4.24539e+08\n",
       "likes                                                         2.81877e+06\n",
       "dislikes                                                           149275\n",
       "comment_count                                                       99380\n",
       "thumbnail_link             https://i.ytimg.com/vi/_I_D_8Z4sJE/default.jpg\n",
       "comments_disabled                                                   False\n",
       "ratings_disabled                                                    False\n",
       "video_error_or_removed                                              False\n",
       "description             Disponible en tu plataforma preferida:\\nhttps:...\n",
       "country                                                                GB\n",
       "tags                    ,'bad bunny','amorfoda','dura','daddy yankee',...\n",
       "category_id                                                           600"
      ]
     },
     "execution_count": 221,
     "metadata": {},
     "output_type": "execute_result"
    }
   ],
   "source": [
    "gb[gb['views'] == gb['views'].max()].transpose()"
   ]
  },
  {
   "cell_type": "code",
   "execution_count": 222,
   "metadata": {},
   "outputs": [
    {
     "data": {
      "text/plain": [
       "424538912.0"
      ]
     },
     "execution_count": 222,
     "metadata": {},
     "output_type": "execute_result"
    }
   ],
   "source": [
    "gb['views'].max()"
   ]
  },
  {
   "cell_type": "markdown",
   "metadata": {},
   "source": [
    "*In Great Britain video with the **MOST** views is called **\"Nicky Jam x J. Balvin - X (EQUIS) | Video Ofic...\"** from channel \"NickyJamTV\" which had accumulated more than 424 million views.*"
   ]
  },
  {
   "cell_type": "markdown",
   "metadata": {},
   "source": [
    "#### TOP 5 videos with the MOST Views"
   ]
  },
  {
   "cell_type": "code",
   "execution_count": null,
   "metadata": {},
   "outputs": [],
   "source": []
  },
  {
   "cell_type": "code",
   "execution_count": null,
   "metadata": {},
   "outputs": [],
   "source": []
  },
  {
   "cell_type": "markdown",
   "metadata": {},
   "source": [
    "### Answer to Business Team Question 1:"
   ]
  },
  {
   "cell_type": "markdown",
   "metadata": {},
   "source": [
    "*Are there any clear differences between trending videos depending on the region?*"
   ]
  },
  {
   "cell_type": "code",
   "execution_count": 223,
   "metadata": {},
   "outputs": [
    {
     "data": {
      "text/html": [
       "<div>\n",
       "<style scoped>\n",
       "    .dataframe tbody tr th:only-of-type {\n",
       "        vertical-align: middle;\n",
       "    }\n",
       "\n",
       "    .dataframe tbody tr th {\n",
       "        vertical-align: top;\n",
       "    }\n",
       "\n",
       "    .dataframe thead th {\n",
       "        text-align: right;\n",
       "    }\n",
       "</style>\n",
       "<table border=\"1\" class=\"dataframe\">\n",
       "  <thead>\n",
       "    <tr style=\"text-align: right;\">\n",
       "      <th></th>\n",
       "      <th>title</th>\n",
       "      <th>views</th>\n",
       "    </tr>\n",
       "  </thead>\n",
       "  <tbody>\n",
       "    <tr>\n",
       "      <th>30683</th>\n",
       "      <td>Nicky Jam x J. Balvin - X (EQUIS) | Video Ofic...</td>\n",
       "      <td>424538912.0</td>\n",
       "    </tr>\n",
       "    <tr>\n",
       "      <th>37799</th>\n",
       "      <td>Te Bote Remix - Casper, Nio García, Darell, Ni...</td>\n",
       "      <td>337621571.0</td>\n",
       "    </tr>\n",
       "    <tr>\n",
       "      <th>27677</th>\n",
       "      <td>Bad Bunny - Amorfoda | Video Oficial</td>\n",
       "      <td>328860380.0</td>\n",
       "    </tr>\n",
       "    <tr>\n",
       "      <th>23107</th>\n",
       "      <td>Ozuna x Romeo Santos - El Farsante Remix</td>\n",
       "      <td>288811992.0</td>\n",
       "    </tr>\n",
       "    <tr>\n",
       "      <th>41941</th>\n",
       "      <td>Childish Gambino - This Is America (Official V...</td>\n",
       "      <td>259721696.0</td>\n",
       "    </tr>\n",
       "  </tbody>\n",
       "</table>\n",
       "</div>"
      ],
      "text/plain": [
       "                                                   title        views\n",
       "30683  Nicky Jam x J. Balvin - X (EQUIS) | Video Ofic...  424538912.0\n",
       "37799  Te Bote Remix - Casper, Nio García, Darell, Ni...  337621571.0\n",
       "27677               Bad Bunny - Amorfoda | Video Oficial  328860380.0\n",
       "23107           Ozuna x Romeo Santos - El Farsante Remix  288811992.0\n",
       "41941  Childish Gambino - This Is America (Official V...  259721696.0"
      ]
     },
     "execution_count": 223,
     "metadata": {},
     "output_type": "execute_result"
    }
   ],
   "source": [
    "unique_videos_gb_most_views = gb.sort_values(by='views', ascending=False).drop_duplicates(subset=['video_id'])\n",
    "unique_videos_gb_most_views[['title', 'views']].head(5)"
   ]
  },
  {
   "cell_type": "code",
   "execution_count": null,
   "metadata": {},
   "outputs": [],
   "source": []
  },
  {
   "cell_type": "code",
   "execution_count": null,
   "metadata": {},
   "outputs": [],
   "source": []
  },
  {
   "cell_type": "code",
   "execution_count": null,
   "metadata": {},
   "outputs": [],
   "source": []
  },
  {
   "cell_type": "code",
   "execution_count": null,
   "metadata": {},
   "outputs": [],
   "source": []
  },
  {
   "cell_type": "code",
   "execution_count": null,
   "metadata": {},
   "outputs": [],
   "source": []
  },
  {
   "cell_type": "code",
   "execution_count": null,
   "metadata": {},
   "outputs": [],
   "source": []
  },
  {
   "cell_type": "code",
   "execution_count": null,
   "metadata": {},
   "outputs": [],
   "source": []
  },
  {
   "cell_type": "code",
   "execution_count": null,
   "metadata": {},
   "outputs": [],
   "source": []
  },
  {
   "cell_type": "code",
   "execution_count": null,
   "metadata": {},
   "outputs": [],
   "source": []
  },
  {
   "cell_type": "markdown",
   "metadata": {},
   "source": [
    "### Answer to Business Team Question 2:"
   ]
  },
  {
   "cell_type": "markdown",
   "metadata": {},
   "source": [
    "*Which video remained the most on the trending videos list?*"
   ]
  },
  {
   "cell_type": "code",
   "execution_count": null,
   "metadata": {},
   "outputs": [],
   "source": []
  },
  {
   "cell_type": "markdown",
   "metadata": {},
   "source": [
    "### Answer to Business Team Question 3:"
   ]
  },
  {
   "cell_type": "markdown",
   "metadata": {},
   "source": [
    "*Which video category has the largest number of trending videos? Does the category give any advantage in order to become trending?*"
   ]
  },
  {
   "cell_type": "code",
   "execution_count": null,
   "metadata": {},
   "outputs": [],
   "source": []
  },
  {
   "cell_type": "markdown",
   "metadata": {},
   "source": [
    "### Answer to Business Team Question 4:"
   ]
  },
  {
   "cell_type": "markdown",
   "metadata": {},
   "source": [
    "*How are views, likes and dislikes, title length, and other attributes correlated with (relate to) each other? Are they connected in any way?*"
   ]
  },
  {
   "cell_type": "code",
   "execution_count": null,
   "metadata": {},
   "outputs": [],
   "source": []
  },
  {
   "cell_type": "markdown",
   "metadata": {},
   "source": [
    "### Answer to Business Team Question 5:"
   ]
  },
  {
   "cell_type": "markdown",
   "metadata": {},
   "source": [
    "*If Nordigen would upload a video, what words in the title (or description) or tags would you recommend to use? (In hopes to make the video trending)*"
   ]
  },
  {
   "cell_type": "code",
   "execution_count": null,
   "metadata": {},
   "outputs": [],
   "source": []
  },
  {
   "cell_type": "code",
   "execution_count": null,
   "metadata": {},
   "outputs": [],
   "source": []
  },
  {
   "cell_type": "markdown",
   "metadata": {},
   "source": [
    "#### Reading Categories file"
   ]
  },
  {
   "cell_type": "code",
   "execution_count": null,
   "metadata": {},
   "outputs": [],
   "source": []
  },
  {
   "cell_type": "markdown",
   "metadata": {},
   "source": [
    "## Analysis Results"
   ]
  },
  {
   "cell_type": "markdown",
   "metadata": {},
   "source": [
    "*Note that for the following analyses I applied the analysis on all of the trending videos, not on the unique trending videos only. So if a video is considered trending for 3 days, then we believe that it has more trending power and more trending characteristics than a video that was trending for 1 day only; thus, it should have more weight. So we include the 3 occurrences of that video in the analysis.*"
   ]
  },
  {
   "cell_type": "code",
   "execution_count": null,
   "metadata": {},
   "outputs": [],
   "source": []
  }
 ],
 "metadata": {
  "kernelspec": {
   "display_name": "Python 3",
   "language": "python",
   "name": "python3"
  },
  "language_info": {
   "codemirror_mode": {
    "name": "ipython",
    "version": 3
   },
   "file_extension": ".py",
   "mimetype": "text/x-python",
   "name": "python",
   "nbconvert_exporter": "python",
   "pygments_lexer": "ipython3",
   "version": "3.8.5"
  }
 },
 "nbformat": 4,
 "nbformat_minor": 4
}
